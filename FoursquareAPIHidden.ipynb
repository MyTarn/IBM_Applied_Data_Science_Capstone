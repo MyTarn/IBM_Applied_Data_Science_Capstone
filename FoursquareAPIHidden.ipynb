{
    "cells": [
        {
            "cell_type": "markdown",
            "metadata": {
                "button": false,
                "new_sheet": false,
                "run_control": {
                    "read_only": false
                }
            },
            "source": "<a href=\"https://cognitiveclass.ai\"><img src = \"https://cf-courses-data.s3.us.cloud-object-storage.appdomain.cloud/IBMDeveloperSkillsNetwork-DS0701EN-SkillsNetwork/labs_v1/IDSNlogo.png\" width = 400> </a>\n\n<h1 align=center><font size = 5>Learning FourSquare API with Python</font></h1>\n"
        },
        {
            "cell_type": "markdown",
            "metadata": {
                "button": false,
                "new_sheet": false,
                "run_control": {
                    "read_only": false
                }
            },
            "source": "\n"
        },
        {
            "cell_type": "markdown",
            "metadata": {
                "button": false,
                "new_sheet": false,
                "run_control": {
                    "read_only": false
                }
            },
            "source": "## Introduction\n\nIn this lab, you will learn in details how to make calls to the Foursquare API for different purposes. You will learn how to construct a URL to send a request to the API to search for a specific type of venues, to explore a particular venue, to explore a Foursquare user, to explore a geographical location, and to get trending venues around a location. Also, you will learn how to use the visualization library, Folium, to visualize the results.\n"
        },
        {
            "cell_type": "markdown",
            "metadata": {
                "button": false,
                "new_sheet": false,
                "run_control": {
                    "read_only": false
                }
            },
            "source": "## Table of Contents\n\n1.  <a href=\"#item1\">Foursquare API Search Function</a>\n2.  <a href=\"#item2\">Explore a Given Venue</a>  \n3.  <a href=\"#item3\">Explore a User</a>  \n4.  <a href=\"#item4\">Foursquare API Explore Function</a>  \n5.  <a href=\"#item5\">Get Trending Venues</a>  \n"
        },
        {
            "cell_type": "markdown",
            "metadata": {
                "button": false,
                "new_sheet": false,
                "run_control": {
                    "read_only": false
                }
            },
            "source": "### Import necessary Libraries\n"
        },
        {
            "cell_type": "code",
            "execution_count": 1,
            "metadata": {
                "button": false,
                "jupyter": {
                    "outputs_hidden": false
                },
                "new_sheet": false,
                "run_control": {
                    "read_only": false
                }
            },
            "outputs": [
                {
                    "name": "stdout",
                    "output_type": "stream",
                    "text": "Folium installed\nLibraries imported.\n"
                }
            ],
            "source": "import requests # library to handle requests\nimport pandas as pd # library for data analsysis\nimport numpy as np # library to handle data in a vectorized manner\nimport random # library for random number generation\n\n\n# !pip install geopy\nfrom geopy.geocoders import Nominatim # module to convert an address into latitude and longitude values\n\n# libraries for displaying images\nfrom IPython.display import Image \nfrom IPython.core.display import HTML \n    \n# tranforming json file into a pandas dataframe library\nfrom pandas.io.json import json_normalize\n\n\n# ! pip install folium==0.5.0\nimport folium # plotting library\n\nprint('Folium installed')\nprint('Libraries imported.')"
        },
        {
            "cell_type": "markdown",
            "metadata": {
                "button": false,
                "new_sheet": false,
                "run_control": {
                    "read_only": false
                }
            },
            "source": "### Define Foursquare Credentials and Version\n"
        },
        {
            "cell_type": "markdown",
            "metadata": {
                "button": false,
                "new_sheet": false,
                "run_control": {
                    "read_only": false
                }
            },
            "source": "##### Make sure that you have created a Foursquare developer account and have your credentials handy\n"
        },
        {
            "cell_type": "markdown",
            "metadata": {},
            "source": "Go to Web: https://foursquare.com/developers/projects/6102d6e386d91f58294c8470/settings"
        },
        {
            "cell_type": "markdown",
            "metadata": {},
            "source": "##### To obtain access token follow these steps.\n\n<br>\n\n1.  Go to your **\"App Settings\"** page on the developer console of Foursquare.com   \n2.  Set the **\"Redirect URL\"** under **\"Web Addresses\"** to [https://www.google.com](https://www.google.com?cm_mmc=Email_Newsletter-_-Developer_Ed%2BTech-_-WW_WW-_-SkillsNetwork-Courses-IBMDeveloperSkillsNetwork-DS0701EN-SkillsNetwork-21253531&cm_mmca1=000026UJ&cm_mmca2=10006555&cm_mmca3=M12345678&cvosrc=email.Newsletter.M12345678&cvo_campaign=000026UJ&cm_mmc=Email_Newsletter-_-Developer_Ed%2BTech-_-WW_WW-_-SkillsNetwork-Courses-IBMDeveloperSkillsNetwork-DS0701EN-SkillsNetwork-21253531&cm_mmca1=000026UJ&cm_mmca2=10006555&cm_mmca3=M12345678&cvosrc=email.Newsletter.M12345678&cvo_campaign=000026UJ&cm_mmc=Email_Newsletter-_-Developer_Ed%2BTech-_-WW_WW-_-SkillsNetwork-Courses-IBMDeveloperSkillsNetwork-DS0701EN-SkillsNetwork-21253531&cm_mmca1=000026UJ&cm_mmca2=10006555&cm_mmca3=M12345678&cvosrc=email.Newsletter.M12345678&cvo_campaign=000026UJ&cm_mmc=Email_Newsletter-_-Developer_Ed%2BTech-_-WW_WW-_-SkillsNetwork-Courses-IBMDeveloperSkillsNetwork-DS0701EN-SkillsNetwork-21253531&cm_mmca1=000026UJ&cm_mmca2=10006555&cm_mmca3=M12345678&cvosrc=email.Newsletter.M12345678&cvo_campaign=000026UJ&cm_mmc=Email_Newsletter-_-Developer_Ed%2BTech-_-WW_WW-_-SkillsNetwork-Courses-IBMDeveloperSkillsNetwork-DS0701EN-SkillsNetwork-21253531&cm_mmca1=000026UJ&cm_mmca2=10006555&cm_mmca3=M12345678&cvosrc=email.Newsletter.M12345678&cvo_campaign=000026UJ&cm_mmc=Email_Newsletter-_-Developer_Ed%2BTech-_-WW_WW-_-SkillsNetwork-Courses-IBMDeveloperSkillsNetwork-DS0701EN-SkillsNetwork-21253531&cm_mmca1=000026UJ&cm_mmca2=10006555&cm_mmca3=M12345678&cvosrc=email.Newsletter.M12345678&cvo_campaign=000026UJ)  \n\n\n3.  Paste and enter the following url in your web browser **(replace YOUR_CLIENT_ID with your actual client id)**:  \n    [https://foursquare.com/oauth2/authenticate?client_id=YOUR_CLIENT_ID&response_type=code&redirect_uri=https://www.google.com](https://foursquare.com/oauth2/authenticate?client_id=YOUR_CLIENT_ID&response_type=code&redirect_uri=https://www.google.com&cm_mmc=Email_Newsletter-_-Developer_Ed%2BTech-_-WW_WW-_-SkillsNetwork-Courses-IBMDeveloperSkillsNetwork-DS0701EN-SkillsNetwork-21253531&cm_mmca1=000026UJ&cm_mmca2=10006555&cm_mmca3=M12345678&cvosrc=email.Newsletter.M12345678&cvo_campaign=000026UJ) \n\n    This should redirect you to a google page requesting permission to make the connection. \n4.  Accept and then look at the url of your web browser **(take note at the CODE part of the url to use in step 5)**  \n    It should look like [https://www.google.com/?code=CODE](https://www.google.com?code=CODE&cm_mmc=Email_Newsletter-_-Developer_Ed%2BTech-_-WW_WW-_-SkillsNetwork-Courses-IBMDeveloperSkillsNetwork-DS0701EN-SkillsNetwork-21253531&cm_mmca1=000026UJ&cm_mmca2=10006555&cm_mmca3=M12345678&cvosrc=email.Newsletter.M12345678&cvo_campaign=000026UJ)  \n5.  Copy the code value from the previous step.  \n       Paste and enter the following into your web browser **(replace placeholders with actual values)**:  \n    [https://foursquare.com/oauth2/access_token?client_id=YOUR_CLIENT_ID&client_secret=YOUR_CLIENT_SECRET&grant_type=authorization_code&redirect_uri=https://www.google.com&code=CODE](https://foursquare.com/oauth2/access_token?client_id=YOUR_CLIENT_ID&client_secret=YOUR_CLIENT_SECRET&grant_type=authorization_code&redirect_uri=https://www.google.com&code=CODE&cm_mmc=Email_Newsletter-_-Developer_Ed%2BTech-_-WW_WW-_-SkillsNetwork-Courses-IBMDeveloperSkillsNetwork-DS0701EN-SkillsNetwork-21253531&cm_mmca1=000026UJ&cm_mmca2=10006555&cm_mmca3=M12345678&cvosrc=email.Newsletter.M12345678&cvo_campaign=000026UJ).  \n6.  When you paste the link , This should lead you to a page that gives you your **access token**.\n"
        },
        {
            "cell_type": "code",
            "execution_count": 5,
            "metadata": {
                "button": false,
                "jupyter": {
                    "outputs_hidden": false
                },
                "new_sheet": false,
                "run_control": {
                    "read_only": false
                }
            },
            "outputs": [
                {
                    "name": "stdout",
                    "output_type": "stream",
                    "text": "Your credentails:\nCLIENT_ID: YHQ1QKGPYP2R0CWK1IWMUKFJOG0PRFXTGBTCTQ5KMDIHSIMN\nCLIENT_SECRET:UXI2VPFT3TAQSSSWVOELV3XDLCQC4IFI05JUXCDIYU5PGT0Z\n"
                }
            ],
            "source": "# The code was removed by Watson Studio for sharing."
        },
        {
            "cell_type": "markdown",
            "metadata": {
                "button": false,
                "new_sheet": false,
                "run_control": {
                    "read_only": false
                }
            },
            "source": "\n"
        },
        {
            "cell_type": "markdown",
            "metadata": {
                "button": false,
                "new_sheet": false,
                "run_control": {
                    "read_only": false
                }
            },
            "source": "#### Let's again assume that you are staying at the Conrad hotel. So let's start by converting the Contrad Hotel's address to its latitude and longitude coordinates.\n"
        },
        {
            "cell_type": "markdown",
            "metadata": {},
            "source": "In order to define an instance of the geocoder, we need to define a user_agent. We will name our agent <em>foursquare_agent</em>, as shown below.\n"
        },
        {
            "cell_type": "code",
            "execution_count": 6,
            "metadata": {
                "button": false,
                "jupyter": {
                    "outputs_hidden": false
                },
                "new_sheet": false,
                "run_control": {
                    "read_only": false
                }
            },
            "outputs": [
                {
                    "name": "stdout",
                    "output_type": "stream",
                    "text": "40.714742 -74.015169\n"
                }
            ],
            "source": "address = '102 North End Ave, New York, NY'\n\ngeolocator = Nominatim(user_agent=\"foursquare_agent\")\nlocation = geolocator.geocode(address)\nlatitude = location.latitude\nlongitude = location.longitude\nprint(latitude, longitude)"
        },
        {
            "cell_type": "markdown",
            "metadata": {
                "button": false,
                "new_sheet": false,
                "run_control": {
                    "read_only": false
                }
            },
            "source": "\n"
        },
        {
            "cell_type": "markdown",
            "metadata": {
                "button": false,
                "new_sheet": false,
                "run_control": {
                    "read_only": false
                }
            },
            "source": "<a id=\"item1\"></a>\n"
        },
        {
            "cell_type": "markdown",
            "metadata": {
                "button": false,
                "new_sheet": false,
                "run_control": {
                    "read_only": false
                }
            },
            "source": "## 1. Search for a specific venue category\n\n> `https://api.foursquare.com/v2/venues/`**search**`?client_id=`**CLIENT_ID**`&client_secret=`**CLIENT_SECRET**`&ll=`**LATITUDE**`,`**LONGITUDE**`&v=`**VERSION**`&query=`**QUERY**`&radius=`**RADIUS**`&limit=`**LIMIT**\n"
        },
        {
            "cell_type": "markdown",
            "metadata": {
                "button": false,
                "new_sheet": false,
                "run_control": {
                    "read_only": false
                }
            },
            "source": "#### Now, let's assume that it is lunch time, and you are craving Italian food. So, let's define a query to search for Italian food that is within 500 metres from the Conrad Hotel.\n"
        },
        {
            "cell_type": "code",
            "execution_count": 7,
            "metadata": {
                "button": false,
                "jupyter": {
                    "outputs_hidden": false
                },
                "new_sheet": false,
                "run_control": {
                    "read_only": false
                },
                "scrolled": true
            },
            "outputs": [
                {
                    "name": "stdout",
                    "output_type": "stream",
                    "text": "Italian .... OK!\n"
                }
            ],
            "source": "# \u0e04\u0e49\u0e19\u0e2b\u0e32\u0e2d\u0e32\u0e2b\u0e32\u0e23 Italian \u0e17\u0e35\u0e48\u0e2d\u0e22\u0e39\u0e48\u0e2b\u0e48\u0e32\u0e07\u0e08\u0e32\u0e01 Conrad Hotel \u0e44\u0e21\u0e48\u0e40\u0e01\u0e34\u0e19 500 \u0e40\u0e21\u0e15\u0e23\nsearch_query = 'Italian'\nradius = 500\n\nprint(search_query + ' .... OK!')"
        },
        {
            "cell_type": "markdown",
            "metadata": {
                "button": false,
                "new_sheet": false,
                "run_control": {
                    "read_only": false
                }
            },
            "source": "#### Define the corresponding URL\n"
        },
        {
            "cell_type": "code",
            "execution_count": 8,
            "metadata": {
                "button": false,
                "jupyter": {
                    "outputs_hidden": false
                },
                "new_sheet": false,
                "run_control": {
                    "read_only": false
                }
            },
            "outputs": [
                {
                    "data": {
                        "text/plain": "'https://api.foursquare.com/v2/venues/search?client_id=YHQ1QKGPYP2R0CWK1IWMUKFJOG0PRFXTGBTCTQ5KMDIHSIMN&client_secret=UXI2VPFT3TAQSSSWVOELV3XDLCQC4IFI05JUXCDIYU5PGT0Z&ll=40.714742,-74.015169&oauth_token=2ZQF50A1ASJR4HTKMQJSL23E5JCJCWT0C3O2A4F1E5AGPTZE&v=20210821&query=Italian&radius=500&limit=30'"
                    },
                    "execution_count": 8,
                    "metadata": {},
                    "output_type": "execute_result"
                }
            ],
            "source": "url = 'https://api.foursquare.com/v2/venues/search?client_id={}&client_secret={}&ll={},{}&oauth_token={}&v={}&query={}&radius={}&limit={}'.format(CLIENT_ID, CLIENT_SECRET, latitude, longitude,ACCESS_TOKEN, VERSION, search_query, radius, LIMIT)\n\nurl"
        },
        {
            "cell_type": "markdown",
            "metadata": {
                "button": false,
                "new_sheet": false,
                "run_control": {
                    "read_only": false
                }
            },
            "source": "#### Send the GET Request and examine the results\n"
        },
        {
            "cell_type": "code",
            "execution_count": 9,
            "metadata": {
                "button": false,
                "jupyter": {
                    "outputs_hidden": false
                },
                "new_sheet": false,
                "run_control": {
                    "read_only": false
                },
                "scrolled": true
            },
            "outputs": [
                {
                    "data": {
                        "text/plain": "{'meta': {'code': 200, 'requestId': '6149c2f3f5081b31bc555bd4'},\n 'notifications': [{'type': 'notificationTray', 'item': {'unreadCount': 0}}],\n 'response': {'venues': [{'id': '4fa862b3e4b0ebff2f749f06',\n    'name': \"Harry's Italian Pizza Bar\",\n    'location': {'address': '225 Murray St',\n     'lat': 40.71521779064671,\n     'lng': -74.01473940209351,\n     'labeledLatLngs': [{'label': 'display',\n       'lat': 40.71521779064671,\n       'lng': -74.01473940209351},\n      {'label': 'entrance', 'lat': 40.715361, 'lng': -74.014975}],\n     'distance': 64,\n     'postalCode': '10282',\n     'cc': 'US',\n     'city': 'New York',\n     'state': 'NY',\n     'country': 'United States',\n     'formattedAddress': ['225 Murray St',\n      'New York, NY 10282',\n      'United States']},\n    'categories': [{'id': '4bf58dd8d48988d1ca941735',\n      'name': 'Pizza Place',\n      'pluralName': 'Pizza Places',\n      'shortName': 'Pizza',\n      'icon': {'prefix': 'https://ss3.4sqi.net/img/categories_v2/food/pizza_',\n       'suffix': '.png'},\n      'primary': True}],\n    'referralId': 'v-1632223987',\n    'hasPerk': False},\n   {'id': '4f3232e219836c91c7bfde94',\n    'name': 'Conca Cucina Italian Restaurant',\n    'location': {'address': '63 W Broadway',\n     'lat': 40.714484000000006,\n     'lng': -74.00980600000001,\n     'labeledLatLngs': [{'label': 'display',\n       'lat': 40.714484000000006,\n       'lng': -74.00980600000001}],\n     'distance': 453,\n     'postalCode': '10007',\n     'cc': 'US',\n     'city': 'New York',\n     'state': 'NY',\n     'country': 'United States',\n     'formattedAddress': ['63 W Broadway',\n      'New York, NY 10007',\n      'United States']},\n    'categories': [{'id': '4d4b7105d754a06374d81259',\n      'name': 'Food',\n      'pluralName': 'Food',\n      'shortName': 'Food',\n      'icon': {'prefix': 'https://ss3.4sqi.net/img/categories_v2/food/default_',\n       'suffix': '.png'},\n      'primary': True}],\n    'referralId': 'v-1632223987',\n    'hasPerk': False},\n   {'id': '4c5de89e6ebe2d7f7955d42e',\n    'name': \"Gloria's Restaurant\",\n    'location': {'address': '107 W Broadway',\n     'crossStreet': 'Reade St',\n     'lat': 40.71579360961914,\n     'lng': -74.0087890625,\n     'labeledLatLngs': [{'label': 'display',\n       'lat': 40.71579360961914,\n       'lng': -74.0087890625}],\n     'distance': 550,\n     'postalCode': '10013',\n     'cc': 'US',\n     'city': 'New York',\n     'state': 'NY',\n     'country': 'United States',\n     'formattedAddress': ['107 W Broadway (Reade St)',\n      'New York, NY 10013',\n      'United States']},\n    'categories': [{'id': '4bf58dd8d48988d110941735',\n      'name': 'Italian Restaurant',\n      'pluralName': 'Italian Restaurants',\n      'shortName': 'Italian',\n      'icon': {'prefix': 'https://ss3.4sqi.net/img/categories_v2/food/italian_',\n       'suffix': '.png'},\n      'primary': True}],\n    'referralId': 'v-1632223987',\n    'hasPerk': False}]}}"
                    },
                    "execution_count": 9,
                    "metadata": {},
                    "output_type": "execute_result"
                }
            ],
            "source": "results = requests.get(url).json()\n\nresults"
        },
        {
            "cell_type": "markdown",
            "metadata": {
                "button": false,
                "new_sheet": false,
                "run_control": {
                    "read_only": false
                }
            },
            "source": "#### Get relevant part of JSON and transform it into a _pandas_ dataframe\n"
        },
        {
            "cell_type": "code",
            "execution_count": 10,
            "metadata": {
                "button": false,
                "jupyter": {
                    "outputs_hidden": false
                },
                "new_sheet": false,
                "run_control": {
                    "read_only": false
                }
            },
            "outputs": [
                {
                    "name": "stderr",
                    "output_type": "stream",
                    "text": "/var/folders/x5/3q97sg851x312g32v6bjfhzm0000gn/T/ipykernel_9637/1225935164.py:5: FutureWarning: pandas.io.json.json_normalize is deprecated, use pandas.json_normalize instead\n  dataframe = json_normalize(venues)\n"
                },
                {
                    "data": {
                        "text/html": "<div>\n<style scoped>\n    .dataframe tbody tr th:only-of-type {\n        vertical-align: middle;\n    }\n\n    .dataframe tbody tr th {\n        vertical-align: top;\n    }\n\n    .dataframe thead th {\n        text-align: right;\n    }\n</style>\n<table border=\"1\" class=\"dataframe\">\n  <thead>\n    <tr style=\"text-align: right;\">\n      <th></th>\n      <th>id</th>\n      <th>name</th>\n      <th>categories</th>\n      <th>referralId</th>\n      <th>hasPerk</th>\n      <th>location.address</th>\n      <th>location.lat</th>\n      <th>location.lng</th>\n      <th>location.labeledLatLngs</th>\n      <th>location.distance</th>\n      <th>location.postalCode</th>\n      <th>location.cc</th>\n      <th>location.city</th>\n      <th>location.state</th>\n      <th>location.country</th>\n      <th>location.formattedAddress</th>\n      <th>location.crossStreet</th>\n    </tr>\n  </thead>\n  <tbody>\n    <tr>\n      <th>0</th>\n      <td>4fa862b3e4b0ebff2f749f06</td>\n      <td>Harry's Italian Pizza Bar</td>\n      <td>[{'id': '4bf58dd8d48988d1ca941735', 'name': 'P...</td>\n      <td>v-1632223987</td>\n      <td>False</td>\n      <td>225 Murray St</td>\n      <td>40.715218</td>\n      <td>-74.014739</td>\n      <td>[{'label': 'display', 'lat': 40.71521779064671...</td>\n      <td>64</td>\n      <td>10282</td>\n      <td>US</td>\n      <td>New York</td>\n      <td>NY</td>\n      <td>United States</td>\n      <td>[225 Murray St, New York, NY 10282, United Sta...</td>\n      <td>NaN</td>\n    </tr>\n    <tr>\n      <th>1</th>\n      <td>4f3232e219836c91c7bfde94</td>\n      <td>Conca Cucina Italian Restaurant</td>\n      <td>[{'id': '4d4b7105d754a06374d81259', 'name': 'F...</td>\n      <td>v-1632223987</td>\n      <td>False</td>\n      <td>63 W Broadway</td>\n      <td>40.714484</td>\n      <td>-74.009806</td>\n      <td>[{'label': 'display', 'lat': 40.71448400000000...</td>\n      <td>453</td>\n      <td>10007</td>\n      <td>US</td>\n      <td>New York</td>\n      <td>NY</td>\n      <td>United States</td>\n      <td>[63 W Broadway, New York, NY 10007, United Sta...</td>\n      <td>NaN</td>\n    </tr>\n    <tr>\n      <th>2</th>\n      <td>4c5de89e6ebe2d7f7955d42e</td>\n      <td>Gloria's Restaurant</td>\n      <td>[{'id': '4bf58dd8d48988d110941735', 'name': 'I...</td>\n      <td>v-1632223987</td>\n      <td>False</td>\n      <td>107 W Broadway</td>\n      <td>40.715794</td>\n      <td>-74.008789</td>\n      <td>[{'label': 'display', 'lat': 40.71579360961914...</td>\n      <td>550</td>\n      <td>10013</td>\n      <td>US</td>\n      <td>New York</td>\n      <td>NY</td>\n      <td>United States</td>\n      <td>[107 W Broadway (Reade St), New York, NY 10013...</td>\n      <td>Reade St</td>\n    </tr>\n  </tbody>\n</table>\n</div>",
                        "text/plain": "                         id                             name  \\\n0  4fa862b3e4b0ebff2f749f06        Harry's Italian Pizza Bar   \n1  4f3232e219836c91c7bfde94  Conca Cucina Italian Restaurant   \n2  4c5de89e6ebe2d7f7955d42e              Gloria's Restaurant   \n\n                                          categories    referralId  hasPerk  \\\n0  [{'id': '4bf58dd8d48988d1ca941735', 'name': 'P...  v-1632223987    False   \n1  [{'id': '4d4b7105d754a06374d81259', 'name': 'F...  v-1632223987    False   \n2  [{'id': '4bf58dd8d48988d110941735', 'name': 'I...  v-1632223987    False   \n\n  location.address  location.lat  location.lng  \\\n0    225 Murray St     40.715218    -74.014739   \n1    63 W Broadway     40.714484    -74.009806   \n2   107 W Broadway     40.715794    -74.008789   \n\n                             location.labeledLatLngs  location.distance  \\\n0  [{'label': 'display', 'lat': 40.71521779064671...                 64   \n1  [{'label': 'display', 'lat': 40.71448400000000...                453   \n2  [{'label': 'display', 'lat': 40.71579360961914...                550   \n\n  location.postalCode location.cc location.city location.state  \\\n0               10282          US      New York             NY   \n1               10007          US      New York             NY   \n2               10013          US      New York             NY   \n\n  location.country                          location.formattedAddress  \\\n0    United States  [225 Murray St, New York, NY 10282, United Sta...   \n1    United States  [63 W Broadway, New York, NY 10007, United Sta...   \n2    United States  [107 W Broadway (Reade St), New York, NY 10013...   \n\n  location.crossStreet  \n0                  NaN  \n1                  NaN  \n2             Reade St  "
                    },
                    "execution_count": 10,
                    "metadata": {},
                    "output_type": "execute_result"
                }
            ],
            "source": "# assign relevant part of JSON to venues\nvenues = results['response']['venues']\n\n# tranform venues into a dataframe\ndataframe = json_normalize(venues)\n\ndataframe.head()"
        },
        {
            "cell_type": "markdown",
            "metadata": {
                "button": false,
                "new_sheet": false,
                "run_control": {
                    "read_only": false
                }
            },
            "source": "#### Define information of interest and filter dataframe\n"
        },
        {
            "cell_type": "code",
            "execution_count": 11,
            "metadata": {
                "button": false,
                "jupyter": {
                    "outputs_hidden": false
                },
                "new_sheet": false,
                "run_control": {
                    "read_only": false
                },
                "scrolled": true
            },
            "outputs": [
                {
                    "data": {
                        "text/html": "<div>\n<style scoped>\n    .dataframe tbody tr th:only-of-type {\n        vertical-align: middle;\n    }\n\n    .dataframe tbody tr th {\n        vertical-align: top;\n    }\n\n    .dataframe thead th {\n        text-align: right;\n    }\n</style>\n<table border=\"1\" class=\"dataframe\">\n  <thead>\n    <tr style=\"text-align: right;\">\n      <th></th>\n      <th>name</th>\n      <th>categories</th>\n      <th>address</th>\n      <th>lat</th>\n      <th>lng</th>\n      <th>labeledLatLngs</th>\n      <th>distance</th>\n      <th>postalCode</th>\n      <th>cc</th>\n      <th>city</th>\n      <th>state</th>\n      <th>country</th>\n      <th>formattedAddress</th>\n      <th>crossStreet</th>\n      <th>id</th>\n    </tr>\n  </thead>\n  <tbody>\n    <tr>\n      <th>0</th>\n      <td>Harry's Italian Pizza Bar</td>\n      <td>Pizza Place</td>\n      <td>225 Murray St</td>\n      <td>40.715218</td>\n      <td>-74.014739</td>\n      <td>[{'label': 'display', 'lat': 40.71521779064671...</td>\n      <td>64</td>\n      <td>10282</td>\n      <td>US</td>\n      <td>New York</td>\n      <td>NY</td>\n      <td>United States</td>\n      <td>[225 Murray St, New York, NY 10282, United Sta...</td>\n      <td>NaN</td>\n      <td>4fa862b3e4b0ebff2f749f06</td>\n    </tr>\n    <tr>\n      <th>1</th>\n      <td>Conca Cucina Italian Restaurant</td>\n      <td>Food</td>\n      <td>63 W Broadway</td>\n      <td>40.714484</td>\n      <td>-74.009806</td>\n      <td>[{'label': 'display', 'lat': 40.71448400000000...</td>\n      <td>453</td>\n      <td>10007</td>\n      <td>US</td>\n      <td>New York</td>\n      <td>NY</td>\n      <td>United States</td>\n      <td>[63 W Broadway, New York, NY 10007, United Sta...</td>\n      <td>NaN</td>\n      <td>4f3232e219836c91c7bfde94</td>\n    </tr>\n    <tr>\n      <th>2</th>\n      <td>Gloria's Restaurant</td>\n      <td>Italian Restaurant</td>\n      <td>107 W Broadway</td>\n      <td>40.715794</td>\n      <td>-74.008789</td>\n      <td>[{'label': 'display', 'lat': 40.71579360961914...</td>\n      <td>550</td>\n      <td>10013</td>\n      <td>US</td>\n      <td>New York</td>\n      <td>NY</td>\n      <td>United States</td>\n      <td>[107 W Broadway (Reade St), New York, NY 10013...</td>\n      <td>Reade St</td>\n      <td>4c5de89e6ebe2d7f7955d42e</td>\n    </tr>\n  </tbody>\n</table>\n</div>",
                        "text/plain": "                              name          categories         address  \\\n0        Harry's Italian Pizza Bar         Pizza Place   225 Murray St   \n1  Conca Cucina Italian Restaurant                Food   63 W Broadway   \n2              Gloria's Restaurant  Italian Restaurant  107 W Broadway   \n\n         lat        lng                                     labeledLatLngs  \\\n0  40.715218 -74.014739  [{'label': 'display', 'lat': 40.71521779064671...   \n1  40.714484 -74.009806  [{'label': 'display', 'lat': 40.71448400000000...   \n2  40.715794 -74.008789  [{'label': 'display', 'lat': 40.71579360961914...   \n\n   distance postalCode  cc      city state        country  \\\n0        64      10282  US  New York    NY  United States   \n1       453      10007  US  New York    NY  United States   \n2       550      10013  US  New York    NY  United States   \n\n                                    formattedAddress crossStreet  \\\n0  [225 Murray St, New York, NY 10282, United Sta...         NaN   \n1  [63 W Broadway, New York, NY 10007, United Sta...         NaN   \n2  [107 W Broadway (Reade St), New York, NY 10013...    Reade St   \n\n                         id  \n0  4fa862b3e4b0ebff2f749f06  \n1  4f3232e219836c91c7bfde94  \n2  4c5de89e6ebe2d7f7955d42e  "
                    },
                    "execution_count": 11,
                    "metadata": {},
                    "output_type": "execute_result"
                }
            ],
            "source": "# keep only columns that include venue name, and anything that is associated with location\nfiltered_columns = ['name', 'categories'] + [col for col in dataframe.columns if col.startswith('location.')] + ['id']\ndataframe_filtered = dataframe.loc[:, filtered_columns]\n\n# function that extracts the category of the venue\ndef get_category_type(row):\n    try:\n        categories_list = row['categories']\n    except:\n        categories_list = row['venue.categories']\n        \n    if len(categories_list) == 0:\n        return None\n    else:\n        return categories_list[0]['name']\n\n# filter the category for each row\ndataframe_filtered['categories'] = dataframe_filtered.apply(get_category_type, axis=1)\n\n# clean column names by keeping only last term\ndataframe_filtered.columns = [column.split('.')[-1] for column in dataframe_filtered.columns]\n\ndataframe_filtered"
        },
        {
            "cell_type": "markdown",
            "metadata": {
                "button": false,
                "new_sheet": false,
                "run_control": {
                    "read_only": false
                }
            },
            "source": "#### Let's visualize the Italian restaurants that are nearby\n"
        },
        {
            "cell_type": "code",
            "execution_count": 12,
            "metadata": {
                "button": false,
                "jupyter": {
                    "outputs_hidden": false
                },
                "new_sheet": false,
                "run_control": {
                    "read_only": false
                }
            },
            "outputs": [
                {
                    "data": {
                        "text/plain": "0          Harry's Italian Pizza Bar\n1    Conca Cucina Italian Restaurant\n2                Gloria's Restaurant\nName: name, dtype: object"
                    },
                    "execution_count": 12,
                    "metadata": {},
                    "output_type": "execute_result"
                }
            ],
            "source": "dataframe_filtered.name"
        },
        {
            "cell_type": "code",
            "execution_count": 13,
            "metadata": {
                "button": false,
                "jupyter": {
                    "outputs_hidden": false
                },
                "new_sheet": false,
                "run_control": {
                    "read_only": false
                },
                "scrolled": false
            },
            "outputs": [
                {
                    "data": {
                        "text/html": "<div style=\"width:100%;\"><div style=\"position:relative;width:100%;height:0;padding-bottom:60%;\"><span style=\"color:#565656\">Make this Notebook Trusted to load map: File -> Trust Notebook</span><iframe src=\"about:blank\" style=\"position:absolute;width:100%;height:100%;left:0;top:0;border:none !important;\" data-html=%3C%21DOCTYPE%20html%3E%0A%3Chead%3E%20%20%20%20%0A%20%20%20%20%3Cmeta%20http-equiv%3D%22content-type%22%20content%3D%22text/html%3B%20charset%3DUTF-8%22%20/%3E%0A%20%20%20%20%0A%20%20%20%20%20%20%20%20%3Cscript%3E%0A%20%20%20%20%20%20%20%20%20%20%20%20L_NO_TOUCH%20%3D%20false%3B%0A%20%20%20%20%20%20%20%20%20%20%20%20L_DISABLE_3D%20%3D%20false%3B%0A%20%20%20%20%20%20%20%20%3C/script%3E%0A%20%20%20%20%0A%20%20%20%20%3Cstyle%3Ehtml%2C%20body%20%7Bwidth%3A%20100%25%3Bheight%3A%20100%25%3Bmargin%3A%200%3Bpadding%3A%200%3B%7D%3C/style%3E%0A%20%20%20%20%3Cstyle%3E%23map%20%7Bposition%3Aabsolute%3Btop%3A0%3Bbottom%3A0%3Bright%3A0%3Bleft%3A0%3B%7D%3C/style%3E%0A%20%20%20%20%3Cscript%20src%3D%22https%3A//cdn.jsdelivr.net/npm/leaflet%401.6.0/dist/leaflet.js%22%3E%3C/script%3E%0A%20%20%20%20%3Cscript%20src%3D%22https%3A//code.jquery.com/jquery-1.12.4.min.js%22%3E%3C/script%3E%0A%20%20%20%20%3Cscript%20src%3D%22https%3A//maxcdn.bootstrapcdn.com/bootstrap/3.2.0/js/bootstrap.min.js%22%3E%3C/script%3E%0A%20%20%20%20%3Cscript%20src%3D%22https%3A//cdnjs.cloudflare.com/ajax/libs/Leaflet.awesome-markers/2.0.2/leaflet.awesome-markers.js%22%3E%3C/script%3E%0A%20%20%20%20%3Clink%20rel%3D%22stylesheet%22%20href%3D%22https%3A//cdn.jsdelivr.net/npm/leaflet%401.6.0/dist/leaflet.css%22/%3E%0A%20%20%20%20%3Clink%20rel%3D%22stylesheet%22%20href%3D%22https%3A//maxcdn.bootstrapcdn.com/bootstrap/3.2.0/css/bootstrap.min.css%22/%3E%0A%20%20%20%20%3Clink%20rel%3D%22stylesheet%22%20href%3D%22https%3A//maxcdn.bootstrapcdn.com/bootstrap/3.2.0/css/bootstrap-theme.min.css%22/%3E%0A%20%20%20%20%3Clink%20rel%3D%22stylesheet%22%20href%3D%22https%3A//maxcdn.bootstrapcdn.com/font-awesome/4.6.3/css/font-awesome.min.css%22/%3E%0A%20%20%20%20%3Clink%20rel%3D%22stylesheet%22%20href%3D%22https%3A//cdnjs.cloudflare.com/ajax/libs/Leaflet.awesome-markers/2.0.2/leaflet.awesome-markers.css%22/%3E%0A%20%20%20%20%3Clink%20rel%3D%22stylesheet%22%20href%3D%22https%3A//cdn.jsdelivr.net/gh/python-visualization/folium/folium/templates/leaflet.awesome.rotate.min.css%22/%3E%0A%20%20%20%20%0A%20%20%20%20%20%20%20%20%20%20%20%20%3Cmeta%20name%3D%22viewport%22%20content%3D%22width%3Ddevice-width%2C%0A%20%20%20%20%20%20%20%20%20%20%20%20%20%20%20%20initial-scale%3D1.0%2C%20maximum-scale%3D1.0%2C%20user-scalable%3Dno%22%20/%3E%0A%20%20%20%20%20%20%20%20%20%20%20%20%3Cstyle%3E%0A%20%20%20%20%20%20%20%20%20%20%20%20%20%20%20%20%23map_8f08d78bafd8475e923f80e0cb4d56e5%20%7B%0A%20%20%20%20%20%20%20%20%20%20%20%20%20%20%20%20%20%20%20%20position%3A%20relative%3B%0A%20%20%20%20%20%20%20%20%20%20%20%20%20%20%20%20%20%20%20%20width%3A%20100.0%25%3B%0A%20%20%20%20%20%20%20%20%20%20%20%20%20%20%20%20%20%20%20%20height%3A%20100.0%25%3B%0A%20%20%20%20%20%20%20%20%20%20%20%20%20%20%20%20%20%20%20%20left%3A%200.0%25%3B%0A%20%20%20%20%20%20%20%20%20%20%20%20%20%20%20%20%20%20%20%20top%3A%200.0%25%3B%0A%20%20%20%20%20%20%20%20%20%20%20%20%20%20%20%20%7D%0A%20%20%20%20%20%20%20%20%20%20%20%20%3C/style%3E%0A%20%20%20%20%20%20%20%20%0A%3C/head%3E%0A%3Cbody%3E%20%20%20%20%0A%20%20%20%20%0A%20%20%20%20%20%20%20%20%20%20%20%20%3Cdiv%20class%3D%22folium-map%22%20id%3D%22map_8f08d78bafd8475e923f80e0cb4d56e5%22%20%3E%3C/div%3E%0A%20%20%20%20%20%20%20%20%0A%3C/body%3E%0A%3Cscript%3E%20%20%20%20%0A%20%20%20%20%0A%20%20%20%20%20%20%20%20%20%20%20%20var%20map_8f08d78bafd8475e923f80e0cb4d56e5%20%3D%20L.map%28%0A%20%20%20%20%20%20%20%20%20%20%20%20%20%20%20%20%22map_8f08d78bafd8475e923f80e0cb4d56e5%22%2C%0A%20%20%20%20%20%20%20%20%20%20%20%20%20%20%20%20%7B%0A%20%20%20%20%20%20%20%20%20%20%20%20%20%20%20%20%20%20%20%20center%3A%20%5B40.714742%2C%20-74.015169%5D%2C%0A%20%20%20%20%20%20%20%20%20%20%20%20%20%20%20%20%20%20%20%20crs%3A%20L.CRS.EPSG3857%2C%0A%20%20%20%20%20%20%20%20%20%20%20%20%20%20%20%20%20%20%20%20zoom%3A%2013%2C%0A%20%20%20%20%20%20%20%20%20%20%20%20%20%20%20%20%20%20%20%20zoomControl%3A%20true%2C%0A%20%20%20%20%20%20%20%20%20%20%20%20%20%20%20%20%20%20%20%20preferCanvas%3A%20false%2C%0A%20%20%20%20%20%20%20%20%20%20%20%20%20%20%20%20%7D%0A%20%20%20%20%20%20%20%20%20%20%20%20%29%3B%0A%0A%20%20%20%20%20%20%20%20%20%20%20%20%0A%0A%20%20%20%20%20%20%20%20%0A%20%20%20%20%0A%20%20%20%20%20%20%20%20%20%20%20%20var%20tile_layer_4999ef8056b04ddbbd814701e6e3925a%20%3D%20L.tileLayer%28%0A%20%20%20%20%20%20%20%20%20%20%20%20%20%20%20%20%22https%3A//%7Bs%7D.tile.openstreetmap.org/%7Bz%7D/%7Bx%7D/%7By%7D.png%22%2C%0A%20%20%20%20%20%20%20%20%20%20%20%20%20%20%20%20%7B%22attribution%22%3A%20%22Data%20by%20%5Cu0026copy%3B%20%5Cu003ca%20href%3D%5C%22http%3A//openstreetmap.org%5C%22%5Cu003eOpenStreetMap%5Cu003c/a%5Cu003e%2C%20under%20%5Cu003ca%20href%3D%5C%22http%3A//www.openstreetmap.org/copyright%5C%22%5Cu003eODbL%5Cu003c/a%5Cu003e.%22%2C%20%22detectRetina%22%3A%20false%2C%20%22maxNativeZoom%22%3A%2018%2C%20%22maxZoom%22%3A%2018%2C%20%22minZoom%22%3A%200%2C%20%22noWrap%22%3A%20false%2C%20%22opacity%22%3A%201%2C%20%22subdomains%22%3A%20%22abc%22%2C%20%22tms%22%3A%20false%7D%0A%20%20%20%20%20%20%20%20%20%20%20%20%29.addTo%28map_8f08d78bafd8475e923f80e0cb4d56e5%29%3B%0A%20%20%20%20%20%20%20%20%0A%20%20%20%20%0A%20%20%20%20%20%20%20%20%20%20%20%20var%20circle_marker_9ad0e1f5507041afb27e9c98a19ff4cd%20%3D%20L.circleMarker%28%0A%20%20%20%20%20%20%20%20%20%20%20%20%20%20%20%20%5B40.714742%2C%20-74.015169%5D%2C%0A%20%20%20%20%20%20%20%20%20%20%20%20%20%20%20%20%7B%22bubblingMouseEvents%22%3A%20true%2C%20%22color%22%3A%20%22red%22%2C%20%22dashArray%22%3A%20null%2C%20%22dashOffset%22%3A%20null%2C%20%22fill%22%3A%20true%2C%20%22fillColor%22%3A%20%22red%22%2C%20%22fillOpacity%22%3A%200.6%2C%20%22fillRule%22%3A%20%22evenodd%22%2C%20%22lineCap%22%3A%20%22round%22%2C%20%22lineJoin%22%3A%20%22round%22%2C%20%22opacity%22%3A%201.0%2C%20%22radius%22%3A%2010%2C%20%22stroke%22%3A%20true%2C%20%22weight%22%3A%203%7D%0A%20%20%20%20%20%20%20%20%20%20%20%20%29.addTo%28map_8f08d78bafd8475e923f80e0cb4d56e5%29%3B%0A%20%20%20%20%20%20%20%20%0A%20%20%20%20%0A%20%20%20%20%20%20%20%20var%20popup_2a74044d893f448cbd6a0e48cd62ff55%20%3D%20L.popup%28%7B%22maxWidth%22%3A%20%22100%25%22%7D%29%3B%0A%0A%20%20%20%20%20%20%20%20%0A%20%20%20%20%20%20%20%20%20%20%20%20var%20html_bf2a2197aeb14947be682921a4e9ae57%20%3D%20%24%28%60%3Cdiv%20id%3D%22html_bf2a2197aeb14947be682921a4e9ae57%22%20style%3D%22width%3A%20100.0%25%3B%20height%3A%20100.0%25%3B%22%3EConrad%20Hotel%3C/div%3E%60%29%5B0%5D%3B%0A%20%20%20%20%20%20%20%20%20%20%20%20popup_2a74044d893f448cbd6a0e48cd62ff55.setContent%28html_bf2a2197aeb14947be682921a4e9ae57%29%3B%0A%20%20%20%20%20%20%20%20%0A%0A%20%20%20%20%20%20%20%20circle_marker_9ad0e1f5507041afb27e9c98a19ff4cd.bindPopup%28popup_2a74044d893f448cbd6a0e48cd62ff55%29%0A%20%20%20%20%20%20%20%20%3B%0A%0A%20%20%20%20%20%20%20%20%0A%20%20%20%20%0A%20%20%20%20%0A%20%20%20%20%20%20%20%20%20%20%20%20var%20circle_marker_edd091212ec14a37843d9212dcbea9e6%20%3D%20L.circleMarker%28%0A%20%20%20%20%20%20%20%20%20%20%20%20%20%20%20%20%5B40.71521779064671%2C%20-74.01473940209351%5D%2C%0A%20%20%20%20%20%20%20%20%20%20%20%20%20%20%20%20%7B%22bubblingMouseEvents%22%3A%20true%2C%20%22color%22%3A%20%22blue%22%2C%20%22dashArray%22%3A%20null%2C%20%22dashOffset%22%3A%20null%2C%20%22fill%22%3A%20true%2C%20%22fillColor%22%3A%20%22blue%22%2C%20%22fillOpacity%22%3A%200.6%2C%20%22fillRule%22%3A%20%22evenodd%22%2C%20%22lineCap%22%3A%20%22round%22%2C%20%22lineJoin%22%3A%20%22round%22%2C%20%22opacity%22%3A%201.0%2C%20%22radius%22%3A%205%2C%20%22stroke%22%3A%20true%2C%20%22weight%22%3A%203%7D%0A%20%20%20%20%20%20%20%20%20%20%20%20%29.addTo%28map_8f08d78bafd8475e923f80e0cb4d56e5%29%3B%0A%20%20%20%20%20%20%20%20%0A%20%20%20%20%0A%20%20%20%20%20%20%20%20var%20popup_1a6731f6097a4915a9f7c4783798225a%20%3D%20L.popup%28%7B%22maxWidth%22%3A%20%22100%25%22%7D%29%3B%0A%0A%20%20%20%20%20%20%20%20%0A%20%20%20%20%20%20%20%20%20%20%20%20var%20html_df57da640e6b4d17bd21ddb464beb174%20%3D%20%24%28%60%3Cdiv%20id%3D%22html_df57da640e6b4d17bd21ddb464beb174%22%20style%3D%22width%3A%20100.0%25%3B%20height%3A%20100.0%25%3B%22%3EPizza%20Place%3C/div%3E%60%29%5B0%5D%3B%0A%20%20%20%20%20%20%20%20%20%20%20%20popup_1a6731f6097a4915a9f7c4783798225a.setContent%28html_df57da640e6b4d17bd21ddb464beb174%29%3B%0A%20%20%20%20%20%20%20%20%0A%0A%20%20%20%20%20%20%20%20circle_marker_edd091212ec14a37843d9212dcbea9e6.bindPopup%28popup_1a6731f6097a4915a9f7c4783798225a%29%0A%20%20%20%20%20%20%20%20%3B%0A%0A%20%20%20%20%20%20%20%20%0A%20%20%20%20%0A%20%20%20%20%0A%20%20%20%20%20%20%20%20%20%20%20%20var%20circle_marker_e290b5f735984f82921a8f4e8e85442a%20%3D%20L.circleMarker%28%0A%20%20%20%20%20%20%20%20%20%20%20%20%20%20%20%20%5B40.714484000000006%2C%20-74.00980600000001%5D%2C%0A%20%20%20%20%20%20%20%20%20%20%20%20%20%20%20%20%7B%22bubblingMouseEvents%22%3A%20true%2C%20%22color%22%3A%20%22blue%22%2C%20%22dashArray%22%3A%20null%2C%20%22dashOffset%22%3A%20null%2C%20%22fill%22%3A%20true%2C%20%22fillColor%22%3A%20%22blue%22%2C%20%22fillOpacity%22%3A%200.6%2C%20%22fillRule%22%3A%20%22evenodd%22%2C%20%22lineCap%22%3A%20%22round%22%2C%20%22lineJoin%22%3A%20%22round%22%2C%20%22opacity%22%3A%201.0%2C%20%22radius%22%3A%205%2C%20%22stroke%22%3A%20true%2C%20%22weight%22%3A%203%7D%0A%20%20%20%20%20%20%20%20%20%20%20%20%29.addTo%28map_8f08d78bafd8475e923f80e0cb4d56e5%29%3B%0A%20%20%20%20%20%20%20%20%0A%20%20%20%20%0A%20%20%20%20%20%20%20%20var%20popup_95a39f4bee7e4e02b3adb10ea75b9e20%20%3D%20L.popup%28%7B%22maxWidth%22%3A%20%22100%25%22%7D%29%3B%0A%0A%20%20%20%20%20%20%20%20%0A%20%20%20%20%20%20%20%20%20%20%20%20var%20html_652fad0e28624db7aa3cea15457b38b6%20%3D%20%24%28%60%3Cdiv%20id%3D%22html_652fad0e28624db7aa3cea15457b38b6%22%20style%3D%22width%3A%20100.0%25%3B%20height%3A%20100.0%25%3B%22%3EFood%3C/div%3E%60%29%5B0%5D%3B%0A%20%20%20%20%20%20%20%20%20%20%20%20popup_95a39f4bee7e4e02b3adb10ea75b9e20.setContent%28html_652fad0e28624db7aa3cea15457b38b6%29%3B%0A%20%20%20%20%20%20%20%20%0A%0A%20%20%20%20%20%20%20%20circle_marker_e290b5f735984f82921a8f4e8e85442a.bindPopup%28popup_95a39f4bee7e4e02b3adb10ea75b9e20%29%0A%20%20%20%20%20%20%20%20%3B%0A%0A%20%20%20%20%20%20%20%20%0A%20%20%20%20%0A%20%20%20%20%0A%20%20%20%20%20%20%20%20%20%20%20%20var%20circle_marker_3728ea9ae37b4c2f871739b79b1508d5%20%3D%20L.circleMarker%28%0A%20%20%20%20%20%20%20%20%20%20%20%20%20%20%20%20%5B40.71579360961914%2C%20-74.0087890625%5D%2C%0A%20%20%20%20%20%20%20%20%20%20%20%20%20%20%20%20%7B%22bubblingMouseEvents%22%3A%20true%2C%20%22color%22%3A%20%22blue%22%2C%20%22dashArray%22%3A%20null%2C%20%22dashOffset%22%3A%20null%2C%20%22fill%22%3A%20true%2C%20%22fillColor%22%3A%20%22blue%22%2C%20%22fillOpacity%22%3A%200.6%2C%20%22fillRule%22%3A%20%22evenodd%22%2C%20%22lineCap%22%3A%20%22round%22%2C%20%22lineJoin%22%3A%20%22round%22%2C%20%22opacity%22%3A%201.0%2C%20%22radius%22%3A%205%2C%20%22stroke%22%3A%20true%2C%20%22weight%22%3A%203%7D%0A%20%20%20%20%20%20%20%20%20%20%20%20%29.addTo%28map_8f08d78bafd8475e923f80e0cb4d56e5%29%3B%0A%20%20%20%20%20%20%20%20%0A%20%20%20%20%0A%20%20%20%20%20%20%20%20var%20popup_5a088d7117664bbeaa21eefafff86fdf%20%3D%20L.popup%28%7B%22maxWidth%22%3A%20%22100%25%22%7D%29%3B%0A%0A%20%20%20%20%20%20%20%20%0A%20%20%20%20%20%20%20%20%20%20%20%20var%20html_b09f565831db4d8ab88ea00eb6e4b585%20%3D%20%24%28%60%3Cdiv%20id%3D%22html_b09f565831db4d8ab88ea00eb6e4b585%22%20style%3D%22width%3A%20100.0%25%3B%20height%3A%20100.0%25%3B%22%3EItalian%20Restaurant%3C/div%3E%60%29%5B0%5D%3B%0A%20%20%20%20%20%20%20%20%20%20%20%20popup_5a088d7117664bbeaa21eefafff86fdf.setContent%28html_b09f565831db4d8ab88ea00eb6e4b585%29%3B%0A%20%20%20%20%20%20%20%20%0A%0A%20%20%20%20%20%20%20%20circle_marker_3728ea9ae37b4c2f871739b79b1508d5.bindPopup%28popup_5a088d7117664bbeaa21eefafff86fdf%29%0A%20%20%20%20%20%20%20%20%3B%0A%0A%20%20%20%20%20%20%20%20%0A%20%20%20%20%0A%3C/script%3E onload=\"this.contentDocument.open();this.contentDocument.write(    decodeURIComponent(this.getAttribute('data-html')));this.contentDocument.close();\" allowfullscreen webkitallowfullscreen mozallowfullscreen></iframe></div></div>",
                        "text/plain": "<folium.folium.Map at 0x7fbca79dcb20>"
                    },
                    "execution_count": 13,
                    "metadata": {},
                    "output_type": "execute_result"
                }
            ],
            "source": "# generate map centred around the Conrad Hotel\nvenues_map = folium.Map(location=[latitude, longitude], zoom_start=13)\n\n# add a red circle marker to represent the Conrad Hotel\nfolium.CircleMarker(\n    [latitude, longitude],\n    radius=10,\n    color='red',\n    popup='Conrad Hotel',\n    fill = True,\n    fill_color = 'red',\n    fill_opacity = 0.6\n).add_to(venues_map)\n\n# add the Italian restaurants as blue circle markers\nfor lat, lng, label in zip(dataframe_filtered.lat, dataframe_filtered.lng, dataframe_filtered.categories):\n    folium.CircleMarker(\n        [lat, lng],\n        radius=5,\n        color='blue',\n        popup=label,\n        fill = True,\n        fill_color='blue',\n        fill_opacity=0.6\n    ).add_to(venues_map)\n\n# display map\nvenues_map"
        },
        {
            "cell_type": "markdown",
            "metadata": {
                "button": false,
                "new_sheet": false,
                "run_control": {
                    "read_only": false
                }
            },
            "source": "\n"
        },
        {
            "cell_type": "markdown",
            "metadata": {
                "button": false,
                "new_sheet": false,
                "run_control": {
                    "read_only": false
                }
            },
            "source": "<a id=\"item2\"></a>\n"
        },
        {
            "cell_type": "markdown",
            "metadata": {
                "button": false,
                "new_sheet": false,
                "run_control": {
                    "read_only": false
                }
            },
            "source": "## 2. Explore a Given Venue\n\n> `https://api.foursquare.com/v2/venues/`**VENUE_ID**`?client_id=`**CLIENT_ID**`&client_secret=`**CLIENT_SECRET**`&v=`**VERSION**\n"
        },
        {
            "cell_type": "markdown",
            "metadata": {
                "button": false,
                "new_sheet": false,
                "run_control": {
                    "read_only": false
                }
            },
            "source": "### A. Let's explore the closest Italian restaurant -- _Harry's Italian Pizza Bar_\n"
        },
        {
            "cell_type": "code",
            "execution_count": 15,
            "metadata": {
                "button": false,
                "jupyter": {
                    "outputs_hidden": false
                },
                "new_sheet": false,
                "run_control": {
                    "read_only": false
                }
            },
            "outputs": [
                {
                    "data": {
                        "text/plain": "'https://api.foursquare.com/v2/venues/4fa862b3e4b0ebff2f749f06?client_id=YHQ1QKGPYP2R0CWK1IWMUKFJOG0PRFXTGBTCTQ5KMDIHSIMN&client_secret=UXI2VPFT3TAQSSSWVOELV3XDLCQC4IFI05JUXCDIYU5PGT0Z&oauth_token=2ZQF50A1ASJR4HTKMQJSL23E5JCJCWT0C3O2A4F1E5AGPTZE&v=20210821'"
                    },
                    "execution_count": 15,
                    "metadata": {},
                    "output_type": "execute_result"
                }
            ],
            "source": "# ID of Harry's Italian Pizza Bar\nvenue_id = '4fa862b3e4b0ebff2f749f06' \n\nurl = 'https://api.foursquare.com/v2/venues/{}?client_id={}&client_secret={}&oauth_token={}&v={}'.format(venue_id, CLIENT_ID, CLIENT_SECRET,ACCESS_TOKEN, VERSION)\n\nurl"
        },
        {
            "cell_type": "markdown",
            "metadata": {
                "button": false,
                "new_sheet": false,
                "run_control": {
                    "read_only": false
                }
            },
            "source": "#### Send GET request for result\n"
        },
        {
            "cell_type": "code",
            "execution_count": 16,
            "metadata": {
                "button": false,
                "jupyter": {
                    "outputs_hidden": false
                },
                "new_sheet": false,
                "run_control": {
                    "read_only": false
                }
            },
            "outputs": [
                {
                    "name": "stdout",
                    "output_type": "stream",
                    "text": "dict_keys(['id', 'name', 'contact', 'location', 'canonicalUrl', 'categories', 'verified', 'stats', 'url', 'price', 'hasMenu', 'likes', 'like', 'dislike', 'ok', 'rating', 'ratingColor', 'ratingSignals', 'menu', 'allowMenuUrlEdit', 'beenHere', 'specials', 'photos', 'reasons', 'hereNow', 'createdAt', 'tips', 'shortUrl', 'timeZone', 'listed', 'hours', 'popular', 'seasonalHours', 'defaultHours', 'pageUpdates', 'inbox', 'attributes', 'bestPhoto', 'colors'])\n"
                },
                {
                    "data": {
                        "text/plain": "{'id': '4fa862b3e4b0ebff2f749f06',\n 'name': \"Harry's Italian Pizza Bar\",\n 'contact': {'phone': '2126081007', 'formattedPhone': '(212) 608-1007'},\n 'location': {'address': '225 Murray St',\n  'lat': 40.71521779064671,\n  'lng': -74.01473940209351,\n  'labeledLatLngs': [{'label': 'display',\n    'lat': 40.71521779064671,\n    'lng': -74.01473940209351},\n   {'label': 'entrance', 'lat': 40.715361, 'lng': -74.014975}],\n  'postalCode': '10282',\n  'cc': 'US',\n  'city': 'New York',\n  'state': 'NY',\n  'country': 'United States',\n  'formattedAddress': ['225 Murray St',\n   'New York, NY 10282',\n   'United States']},\n 'canonicalUrl': 'https://foursquare.com/v/harrys-italian-pizza-bar/4fa862b3e4b0ebff2f749f06',\n 'categories': [{'id': '4bf58dd8d48988d1ca941735',\n   'name': 'Pizza Place',\n   'pluralName': 'Pizza Places',\n   'shortName': 'Pizza',\n   'icon': {'prefix': 'https://ss3.4sqi.net/img/categories_v2/food/pizza_',\n    'suffix': '.png'},\n   'primary': True},\n  {'id': '4bf58dd8d48988d110941735',\n   'name': 'Italian Restaurant',\n   'pluralName': 'Italian Restaurants',\n   'shortName': 'Italian',\n   'icon': {'prefix': 'https://ss3.4sqi.net/img/categories_v2/food/italian_',\n    'suffix': '.png'}}],\n 'verified': False,\n 'stats': {'tipCount': 56},\n 'url': 'http://harrysitalian.com',\n 'price': {'tier': 2, 'message': 'Moderate', 'currency': '$'},\n 'hasMenu': True,\n 'likes': {'count': 121,\n  'groups': [{'type': 'others', 'count': 121, 'items': []}],\n  'summary': '121 Likes'},\n 'like': False,\n 'dislike': False,\n 'ok': False,\n 'rating': 7.0,\n 'ratingColor': 'C5DE35',\n 'ratingSignals': 212,\n 'menu': {'type': 'Menu',\n  'label': 'Menu',\n  'anchor': 'View Menu',\n  'url': 'https://foursquare.com/v/harrys-italian-pizza-bar/4fa862b3e4b0ebff2f749f06/menu',\n  'mobileUrl': 'https://foursquare.com/v/4fa862b3e4b0ebff2f749f06/device_menu'},\n 'allowMenuUrlEdit': True,\n 'beenHere': {'count': 0,\n  'unconfirmedCount': 0,\n  'marked': False,\n  'lastCheckinExpiredAt': 0},\n 'specials': {'count': 0, 'items': []},\n 'photos': {'count': 144,\n  'groups': [{'type': 'venue',\n    'name': 'Venue photos',\n    'count': 144,\n    'items': [{'id': '4fad980de4b091b4626c3633',\n      'createdAt': 1336776717,\n      'source': {'name': 'Foursquare for Android',\n       'url': 'https://foursquare.com/download/#/android'},\n      'prefix': 'https://fastly.4sqi.net/img/general/',\n      'suffix': '/ya1iQFI7pLjuIJp1PGDKlrZS3OJdHCF7tpILMmjv_2w.jpg',\n      'width': 480,\n      'height': 640,\n      'user': {'id': '13676709',\n       'firstName': 'Leony',\n       'lastName': 'Naciri',\n       'gender': 'none',\n       'countryCode': 'US',\n       'photo': {'prefix': 'https://fastly.4sqi.net/img/user/',\n        'suffix': '/T0ANFNGNMCHUDEUE.jpg'}},\n      'visibility': 'public'}]}]},\n 'reasons': {'count': 1,\n  'items': [{'summary': 'Lots of people like this place',\n    'type': 'general',\n    'reasonName': 'rawLikesReason'}]},\n 'hereNow': {'count': 0, 'summary': 'Nobody here', 'groups': []},\n 'createdAt': 1336435379,\n 'tips': {'count': 56,\n  'groups': [{'type': 'following',\n    'name': 'Tips from people you follow',\n    'count': 0,\n    'items': []},\n   {'type': 'others',\n    'name': 'All tips',\n    'count': 56,\n    'items': [{'id': '53d27909498e0523841340b6',\n      'createdAt': 1406302473,\n      'text': \"Harry's Italian Pizza bar is known for it's amazing pizza, but did you know that the brunches here are amazing too? Try the Nutella French toast and we know you'll be sold.\",\n      'type': 'user',\n      'canonicalUrl': 'https://foursquare.com/item/53d27909498e0523841340b6',\n      'likes': {'count': 4,\n       'groups': [{'type': 'others',\n         'count': 4,\n         'items': [{'id': '87587879',\n           'firstName': 'Diane',\n           'lastName': 'Danneels',\n           'gender': 'female',\n           'countryCode': 'US',\n           'photo': {'prefix': 'https://fastly.4sqi.net/img/user/',\n            'suffix': '/87587879-ESLRSZLQ2CBE2P4W.jpg'}},\n          {'id': '87591341',\n           'firstName': 'Tim',\n           'lastName': 'Sheehan',\n           'gender': 'male',\n           'countryCode': 'US',\n           'photo': {'prefix': 'https://fastly.4sqi.net/img/user/',\n            'suffix': '/-Z4YK4VKE0JSVXIY1.jpg'}},\n          {'id': '87473404',\n           'firstName': 'TenantKing.com',\n           'gender': 'none',\n           'countryCode': 'US',\n           'photo': {'prefix': 'https://fastly.4sqi.net/img/user/',\n            'suffix': '/87473404-HI5DTBTK0HX401CA.png'},\n           'type': 'page'}]}],\n       'summary': '4 likes'},\n      'like': False,\n      'logView': True,\n      'agreeCount': 3,\n      'disagreeCount': 0,\n      'todo': {'count': 0},\n      'user': {'id': '87473404',\n       'firstName': 'TenantKing.com',\n       'gender': 'none',\n       'countryCode': 'US',\n       'photo': {'prefix': 'https://fastly.4sqi.net/img/user/',\n        'suffix': '/87473404-HI5DTBTK0HX401CA.png'},\n       'type': 'page'}}]}]},\n 'shortUrl': 'http://4sq.com/JNblHV',\n 'timeZone': 'America/New_York',\n 'listed': {'count': 54,\n  'groups': [{'type': 'others',\n    'name': 'Lists from other people',\n    'count': 54,\n    'items': [{'id': '4fa32fd0e4b04193744746b1',\n      'name': 'Manhattan Haunts',\n      'description': '',\n      'type': 'others',\n      'user': {'id': '24592223',\n       'firstName': 'Becca',\n       'lastName': 'McArthur',\n       'gender': 'female',\n       'countryCode': 'US',\n       'photo': {'prefix': 'https://fastly.4sqi.net/img/user/',\n        'suffix': '/24592223-RAW2UYM0GIB1U40K.jpg'}},\n      'editable': False,\n      'public': True,\n      'collaborative': False,\n      'url': '/becca_mcarthur/list/manhattan-haunts',\n      'canonicalUrl': 'https://foursquare.com/becca_mcarthur/list/manhattan-haunts',\n      'createdAt': 1336094672,\n      'updatedAt': 1380845377,\n      'photo': {'id': '4e8cc9461081e3b3544e12e5',\n       'createdAt': 1317849414,\n       'prefix': 'https://fastly.4sqi.net/img/general/',\n       'suffix': '/0NLVU2HC1JF4DXIMKWUFW3QBUT31DC11EFNYYHMJG3NDWAPS.jpg',\n       'width': 492,\n       'height': 330,\n       'user': {'id': '742542',\n        'firstName': 'Time Out New York',\n        'gender': 'none',\n        'countryCode': 'US',\n        'photo': {'prefix': 'https://fastly.4sqi.net/img/user/',\n         'suffix': '/XXHKCBSQHBORZNSR.jpg'},\n        'type': 'page'},\n       'visibility': 'public'},\n      'followers': {'count': 22},\n      'listItems': {'count': 187,\n       'items': [{'id': 'v4fa862b3e4b0ebff2f749f06',\n         'createdAt': 1342934485}]}},\n     {'id': '4fae817be4b085f6b2a74d19',\n      'name': 'USA NYC MAN FiDi',\n      'description': 'Where to go for decent eats in the restaurant wasteland of Downtown NYC aka FiDi, along with Tribeca & Battery Park City.',\n      'type': 'others',\n      'user': {'id': '12113441',\n       'firstName': 'Kino',\n       'gender': 'male',\n       'countryCode': 'US',\n       'photo': {'prefix': 'https://fastly.4sqi.net/img/user/',\n        'suffix': '/12113441-K5HTHFLU2MUCM0CM.jpg'}},\n      'editable': False,\n      'public': True,\n      'collaborative': False,\n      'url': '/kinosfault/list/usa-nyc-man-fidi',\n      'canonicalUrl': 'https://foursquare.com/kinosfault/list/usa-nyc-man-fidi',\n      'createdAt': 1336836475,\n      'updatedAt': 1556754919,\n      'photo': {'id': '55984992498e13ba75e353bb',\n       'createdAt': 1436043666,\n       'prefix': 'https://fastly.4sqi.net/img/general/',\n       'suffix': '/12113441_iOa6Uh-Xi8bhj2-gpzkkw8MKiAIs7RmOcz_RM7m8ink.jpg',\n       'width': 540,\n       'height': 960,\n       'user': {'id': '12113441',\n        'firstName': 'Kino',\n        'gender': 'male',\n        'countryCode': 'US',\n        'photo': {'prefix': 'https://fastly.4sqi.net/img/user/',\n         'suffix': '/12113441-K5HTHFLU2MUCM0CM.jpg'}},\n       'visibility': 'public'},\n      'followers': {'count': 20},\n      'listItems': {'count': 272,\n       'items': [{'id': 'v4fa862b3e4b0ebff2f749f06',\n         'createdAt': 1373909433}]}}]}]},\n 'hours': {'status': 'Open until 11:00 PM',\n  'richStatus': {'entities': [], 'text': 'Open until 11:00 PM'},\n  'isOpen': True,\n  'isLocalHoliday': False,\n  'dayData': [],\n  'timeframes': [{'days': 'Mon\u2013Wed, Sun',\n    'includesToday': True,\n    'open': [{'renderedTime': '11:30 AM\u201311:00 PM'}],\n    'segments': []},\n   {'days': 'Thu\u2013Sat',\n    'open': [{'renderedTime': '11:30 AM\u2013Midnight'}],\n    'segments': []}]},\n 'popular': {'status': 'Likely open',\n  'richStatus': {'entities': [], 'text': 'Likely open'},\n  'isOpen': True,\n  'isLocalHoliday': False,\n  'timeframes': [{'days': 'Today',\n    'includesToday': True,\n    'open': [{'renderedTime': 'Noon\u20132:00 PM'},\n     {'renderedTime': '5:00 PM\u201310:00 PM'}],\n    'segments': []},\n   {'days': 'Wed\u2013Thu',\n    'open': [{'renderedTime': 'Noon\u20132:00 PM'},\n     {'renderedTime': '5:00 PM\u201310:00 PM'}],\n    'segments': []},\n   {'days': 'Fri',\n    'open': [{'renderedTime': 'Noon\u20133:00 PM'},\n     {'renderedTime': '5:00 PM\u201311:00 PM'}],\n    'segments': []},\n   {'days': 'Sat',\n    'open': [{'renderedTime': 'Noon\u201311:00 PM'}],\n    'segments': []},\n   {'days': 'Sun',\n    'open': [{'renderedTime': 'Noon\u20133:00 PM'},\n     {'renderedTime': '5:00 PM\u20138:00 PM'}],\n    'segments': []},\n   {'days': 'Mon',\n    'open': [{'renderedTime': 'Noon\u20132:00 PM'},\n     {'renderedTime': '6:00 PM\u20138:00 PM'}],\n    'segments': []}]},\n 'seasonalHours': [],\n 'defaultHours': {'status': 'Open until 11:00 PM',\n  'richStatus': {'entities': [], 'text': 'Open until 11:00 PM'},\n  'isOpen': True,\n  'isLocalHoliday': False,\n  'dayData': [],\n  'timeframes': [{'days': 'Mon\u2013Wed, Sun',\n    'includesToday': True,\n    'open': [{'renderedTime': '11:30 AM\u201311:00 PM'}],\n    'segments': []},\n   {'days': 'Thu\u2013Sat',\n    'open': [{'renderedTime': '11:30 AM\u2013Midnight'}],\n    'segments': []}]},\n 'pageUpdates': {'count': 0, 'items': []},\n 'inbox': {'count': 0, 'items': []},\n 'attributes': {'groups': [{'type': 'price',\n    'name': 'Price',\n    'summary': '$$',\n    'count': 1,\n    'items': [{'displayName': 'Price', 'displayValue': '$$', 'priceTier': 2}]},\n   {'type': 'payments',\n    'name': 'Credit Cards',\n    'summary': 'Credit Cards',\n    'count': 7,\n    'items': [{'displayName': 'Credit Cards',\n      'displayValue': 'Yes (incl. American Express)'}]},\n   {'type': 'outdoorSeating',\n    'name': 'Outdoor Seating',\n    'summary': 'Outdoor Seating',\n    'count': 1,\n    'items': [{'displayName': 'Outdoor Seating', 'displayValue': 'Yes'}]},\n   {'type': 'serves',\n    'name': 'Menus',\n    'summary': 'Happy Hour, Brunch & more',\n    'count': 8,\n    'items': [{'displayName': 'Brunch', 'displayValue': 'Brunch'},\n     {'displayName': 'Lunch', 'displayValue': 'Lunch'},\n     {'displayName': 'Dinner', 'displayValue': 'Dinner'},\n     {'displayName': 'Happy Hour', 'displayValue': 'Happy Hour'}]},\n   {'type': 'drinks',\n    'name': 'Drinks',\n    'summary': 'Beer, Wine & Cocktails',\n    'count': 5,\n    'items': [{'displayName': 'Beer', 'displayValue': 'Beer'},\n     {'displayName': 'Wine', 'displayValue': 'Wine'},\n     {'displayName': 'Cocktails', 'displayValue': 'Cocktails'}]}]},\n 'bestPhoto': {'id': '4fad980de4b091b4626c3633',\n  'createdAt': 1336776717,\n  'source': {'name': 'Foursquare for Android',\n   'url': 'https://foursquare.com/download/#/android'},\n  'prefix': 'https://fastly.4sqi.net/img/general/',\n  'suffix': '/ya1iQFI7pLjuIJp1PGDKlrZS3OJdHCF7tpILMmjv_2w.jpg',\n  'width': 480,\n  'height': 640,\n  'visibility': 'public'},\n 'colors': {'highlightColor': {'photoId': '4fad980de4b091b4626c3633',\n   'value': -13619152},\n  'highlightTextColor': {'photoId': '4fad980de4b091b4626c3633', 'value': -1},\n  'algoVersion': 3}}"
                    },
                    "execution_count": 16,
                    "metadata": {},
                    "output_type": "execute_result"
                }
            ],
            "source": "result = requests.get(url).json()\n\nprint(result['response']['venue'].keys())\n\nresult['response']['venue']"
        },
        {
            "cell_type": "markdown",
            "metadata": {
                "button": false,
                "new_sheet": false,
                "run_control": {
                    "read_only": false
                }
            },
            "source": "### B. Get the venue's overall rating\n"
        },
        {
            "cell_type": "code",
            "execution_count": 17,
            "metadata": {
                "button": false,
                "jupyter": {
                    "outputs_hidden": false
                },
                "new_sheet": false,
                "run_control": {
                    "read_only": false
                }
            },
            "outputs": [
                {
                    "name": "stdout",
                    "output_type": "stream",
                    "text": "7.0\n"
                }
            ],
            "source": "try:\n    print(result['response']['venue']['rating'])\nexcept:\n    print('This venue has not been rated yet.')"
        },
        {
            "cell_type": "markdown",
            "metadata": {
                "button": false,
                "new_sheet": false,
                "run_control": {
                    "read_only": false
                }
            },
            "source": "That is not a very good rating. Let's check the rating of the second closest Italian restaurant.\n"
        },
        {
            "cell_type": "code",
            "execution_count": 18,
            "metadata": {
                "button": false,
                "jupyter": {
                    "outputs_hidden": false
                },
                "new_sheet": false,
                "run_control": {
                    "read_only": false
                }
            },
            "outputs": [
                {
                    "name": "stdout",
                    "output_type": "stream",
                    "text": "This venue has not been rated yet.\n"
                }
            ],
            "source": "# ID of Conca Cucina Italian Restaurant\nvenue_id = '4f3232e219836c91c7bfde94'\n\nurl = 'https://api.foursquare.com/v2/venues/{}?client_id={}&client_secret={}&oauth_token={}&v={}'.format(venue_id, CLIENT_ID, CLIENT_SECRET,ACCESS_TOKEN, VERSION)\n\nresult = requests.get(url).json()\n\ntry:\n    print(result['response']['venue']['rating'])\nexcept:\n    print('This venue has not been rated yet.')"
        },
        {
            "cell_type": "markdown",
            "metadata": {
                "button": false,
                "new_sheet": false,
                "run_control": {
                    "read_only": false
                }
            },
            "source": "Since this restaurant has no ratings, let's check the third restaurant.\n"
        },
        {
            "cell_type": "code",
            "execution_count": 19,
            "metadata": {
                "button": false,
                "jupyter": {
                    "outputs_hidden": false
                },
                "new_sheet": false,
                "run_control": {
                    "read_only": false
                }
            },
            "outputs": [
                {
                    "name": "stdout",
                    "output_type": "stream",
                    "text": "This venue has not been rated yet.\n"
                }
            ],
            "source": "# ID of Ecco\nvenue_id = '3fd66200f964a520f4e41ee3'\n\nurl = 'https://api.foursquare.com/v2/venues/{}?client_id={}&client_secret={}&oauth_token={}&v={}'.format(venue_id, CLIENT_ID, CLIENT_SECRET,ACCESS_TOKEN, VERSION)\n\nresult = requests.get(url).json()\n\ntry:\n    print(result['response']['venue']['rating'])\nexcept:\n    print('This venue has not been rated yet.')"
        },
        {
            "cell_type": "markdown",
            "metadata": {
                "button": false,
                "new_sheet": false,
                "run_control": {
                    "read_only": false
                }
            },
            "source": "Since this restaurant has a slightly better rating, let's explore it further.\n"
        },
        {
            "cell_type": "markdown",
            "metadata": {
                "button": false,
                "new_sheet": false,
                "run_control": {
                    "read_only": false
                }
            },
            "source": "### C. Get the number of tips\n"
        },
        {
            "cell_type": "code",
            "execution_count": 20,
            "metadata": {
                "button": false,
                "jupyter": {
                    "outputs_hidden": false
                },
                "new_sheet": false,
                "run_control": {
                    "read_only": false
                }
            },
            "outputs": [
                {
                    "data": {
                        "text/plain": "19"
                    },
                    "execution_count": 20,
                    "metadata": {},
                    "output_type": "execute_result"
                }
            ],
            "source": "result['response']['venue']['tips']['count']"
        },
        {
            "cell_type": "markdown",
            "metadata": {
                "button": false,
                "new_sheet": false,
                "run_control": {
                    "read_only": false
                }
            },
            "source": "### D. Get the venue's tips\n\n> `https://api.foursquare.com/v2/venues/`**VENUE_ID**`/tips?client_id=`**CLIENT_ID**`&client_secret=`**CLIENT_SECRET**`&v=`**VERSION**`&limit=`**LIMIT**\n"
        },
        {
            "cell_type": "markdown",
            "metadata": {
                "button": false,
                "new_sheet": false,
                "run_control": {
                    "read_only": false
                }
            },
            "source": "#### Create URL and send GET request. Make sure to set limit to get all tips\n"
        },
        {
            "cell_type": "code",
            "execution_count": 21,
            "metadata": {
                "button": false,
                "jupyter": {
                    "outputs_hidden": false
                },
                "new_sheet": false,
                "run_control": {
                    "read_only": false
                }
            },
            "outputs": [
                {
                    "data": {
                        "text/plain": "{'meta': {'code': 200, 'requestId': '614a0e6aa5552d7a564c7db3'},\n 'notifications': [{'type': 'notificationTray', 'item': {'unreadCount': 0}}],\n 'response': {'tips': {'count': 18,\n   'items': [{'id': '5ab1cb46c9a517174651d3fe',\n     'createdAt': 1521601350,\n     'text': 'A+ Italian food! Trust me on this: my mom\u2019s side of the family is 100% Italian. I was born and bred to know good pasta when I see it, and Ecco is one of my all-time NYC favorites',\n     'type': 'user',\n     'canonicalUrl': 'https://foursquare.com/item/5ab1cb46c9a517174651d3fe',\n     'likes': {'count': 0, 'groups': []},\n     'like': False,\n     'logView': True,\n     'agreeCount': 4,\n     'disagreeCount': 0,\n     'todo': {'count': 0},\n     'user': {'id': '484542633',\n      'firstName': 'Nick',\n      'lastName': 'El-Tawil',\n      'gender': 'male',\n      'address': '',\n      'city': '',\n      'state': '',\n      'photo': {'prefix': 'https://fastly.4sqi.net/img/user/',\n       'suffix': '/484542633_64VpAzxd_1j4zzJ30WhPZsmHMDuV8MDuVX-EkAi2dpa3rHAwENMIZZnAdWajmzXmFL6SegZsB.jpg'}},\n     'authorInteractionType': 'liked'}]}}}"
                    },
                    "execution_count": 21,
                    "metadata": {},
                    "output_type": "execute_result"
                }
            ],
            "source": "## Ecco Tips\nlimit = 15 # set limit to be greater than or equal to the total number of tips\nurl = 'https://api.foursquare.com/v2/venues/{}/tips?client_id={}&client_secret={}&oauth_token={}&v={}&limit={}'.format(venue_id, CLIENT_ID, CLIENT_SECRET,ACCESS_TOKEN, VERSION, limit)\n\nresults = requests.get(url).json()\n\nresults"
        },
        {
            "cell_type": "markdown",
            "metadata": {
                "button": false,
                "new_sheet": false,
                "run_control": {
                    "read_only": false
                }
            },
            "source": "#### Get tips and list of associated features\n"
        },
        {
            "cell_type": "code",
            "execution_count": 22,
            "metadata": {
                "button": false,
                "jupyter": {
                    "outputs_hidden": false
                },
                "new_sheet": false,
                "run_control": {
                    "read_only": false
                }
            },
            "outputs": [
                {
                    "data": {
                        "text/plain": "dict_keys(['id', 'createdAt', 'text', 'type', 'canonicalUrl', 'likes', 'like', 'logView', 'agreeCount', 'disagreeCount', 'todo', 'user', 'authorInteractionType'])"
                    },
                    "execution_count": 22,
                    "metadata": {},
                    "output_type": "execute_result"
                }
            ],
            "source": "tips = results['response']['tips']['items']\n\ntip = results['response']['tips']['items'][0]\n\ntip.keys()"
        },
        {
            "cell_type": "markdown",
            "metadata": {
                "button": false,
                "new_sheet": false,
                "run_control": {
                    "read_only": false
                }
            },
            "source": "#### Format column width and display all tips\n"
        },
        {
            "cell_type": "code",
            "execution_count": 23,
            "metadata": {
                "button": false,
                "jupyter": {
                    "outputs_hidden": false
                },
                "new_sheet": false,
                "run_control": {
                    "read_only": false
                }
            },
            "outputs": [
                {
                    "name": "stderr",
                    "output_type": "stream",
                    "text": "/var/folders/x5/3q97sg851x312g32v6bjfhzm0000gn/T/ipykernel_9637/1484116453.py:1: FutureWarning: Passing a negative integer is deprecated in version 1.0 and will not be supported in future version. Instead, use None to not limit the column width.\n  pd.set_option('display.max_colwidth', -1)\n/var/folders/x5/3q97sg851x312g32v6bjfhzm0000gn/T/ipykernel_9637/1484116453.py:3: FutureWarning: pandas.io.json.json_normalize is deprecated, use pandas.json_normalize instead\n  tips_df = json_normalize(tips) # json normalize tips\n"
                },
                {
                    "data": {
                        "text/html": "<div>\n<style scoped>\n    .dataframe tbody tr th:only-of-type {\n        vertical-align: middle;\n    }\n\n    .dataframe tbody tr th {\n        vertical-align: top;\n    }\n\n    .dataframe thead th {\n        text-align: right;\n    }\n</style>\n<table border=\"1\" class=\"dataframe\">\n  <thead>\n    <tr style=\"text-align: right;\">\n      <th></th>\n      <th>text</th>\n      <th>agreeCount</th>\n      <th>disagreeCount</th>\n      <th>id</th>\n      <th>user.firstName</th>\n      <th>user.lastName</th>\n      <th>user.id</th>\n    </tr>\n  </thead>\n  <tbody>\n    <tr>\n      <th>0</th>\n      <td>A+ Italian food! Trust me on this: my mom\u2019s side of the family is 100% Italian. I was born and bred to know good pasta when I see it, and Ecco is one of my all-time NYC favorites</td>\n      <td>4</td>\n      <td>0</td>\n      <td>5ab1cb46c9a517174651d3fe</td>\n      <td>Nick</td>\n      <td>El-Tawil</td>\n      <td>484542633</td>\n    </tr>\n  </tbody>\n</table>\n</div>",
                        "text/plain": "                                                                                                                                                                                 text  \\\n0  A+ Italian food! Trust me on this: my mom\u2019s side of the family is 100% Italian. I was born and bred to know good pasta when I see it, and Ecco is one of my all-time NYC favorites   \n\n   agreeCount  disagreeCount                        id user.firstName  \\\n0  4           0              5ab1cb46c9a517174651d3fe  Nick            \n\n  user.lastName    user.id  \n0  El-Tawil      484542633  "
                    },
                    "execution_count": 23,
                    "metadata": {},
                    "output_type": "execute_result"
                }
            ],
            "source": "pd.set_option('display.max_colwidth', -1)\n\ntips_df = json_normalize(tips) # json normalize tips\n\n# columns to keep\nfiltered_columns = ['text', 'agreeCount', 'disagreeCount', 'id', 'user.firstName', 'user.lastName', 'user.id']\ntips_filtered = tips_df.loc[:, filtered_columns]\n\n# display tips\ntips_filtered.reindex()"
        },
        {
            "cell_type": "markdown",
            "metadata": {
                "button": false,
                "new_sheet": false,
                "run_control": {
                    "read_only": false
                }
            },
            "source": "Now remember that because we are using a personal developer account, then we can access only 2 of the restaurant's tips, instead of all 15 tips.\n"
        },
        {
            "cell_type": "markdown",
            "metadata": {
                "button": false,
                "new_sheet": false,
                "run_control": {
                    "read_only": false
                }
            },
            "source": "\n"
        },
        {
            "cell_type": "markdown",
            "metadata": {
                "button": false,
                "new_sheet": false,
                "run_control": {
                    "read_only": false
                }
            },
            "source": "<a id=\"item3\"></a>\n"
        },
        {
            "cell_type": "markdown",
            "metadata": {
                "button": false,
                "new_sheet": false,
                "run_control": {
                    "read_only": false
                }
            },
            "source": "## 3. Search a Foursquare User\n\n> `https://api.foursquare.com/v2/users/`**USER_ID**`?client_id=`**CLIENT_ID**`&client_secret=`**CLIENT_SECRET**`&v=`**VERSION**\n"
        },
        {
            "cell_type": "markdown",
            "metadata": {
                "button": false,
                "new_sheet": false,
                "run_control": {
                    "read_only": false
                }
            },
            "source": "### Define URL, send GET request and display features associated with user\n"
        },
        {
            "cell_type": "code",
            "execution_count": 24,
            "metadata": {},
            "outputs": [
                {
                    "name": "stderr",
                    "output_type": "stream",
                    "text": "/var/folders/x5/3q97sg851x312g32v6bjfhzm0000gn/T/ipykernel_9637/2169871222.py:12: FutureWarning: Passing a negative integer is deprecated in version 1.0 and will not be supported in future version. Instead, use None to not limit the column width.\n  pd.set_option('display.max_colwidth', -1)\n/var/folders/x5/3q97sg851x312g32v6bjfhzm0000gn/T/ipykernel_9637/2169871222.py:14: FutureWarning: pandas.io.json.json_normalize is deprecated, use pandas.json_normalize instead\n  users_df = json_normalize(user_data)\n"
                },
                {
                    "data": {
                        "text/html": "<div>\n<style scoped>\n    .dataframe tbody tr th:only-of-type {\n        vertical-align: middle;\n    }\n\n    .dataframe tbody tr th {\n        vertical-align: top;\n    }\n\n    .dataframe thead th {\n        text-align: right;\n    }\n</style>\n<table border=\"1\" class=\"dataframe\">\n  <thead>\n    <tr style=\"text-align: right;\">\n      <th></th>\n      <th>id</th>\n      <th>prefix</th>\n      <th>suffix</th>\n      <th>width</th>\n      <th>height</th>\n    </tr>\n  </thead>\n  <tbody>\n    <tr>\n      <th>0</th>\n      <td>5e41a77864fa070008131752</td>\n      <td>https://fastly.4sqi.net/img/general/</td>\n      <td>/484542633_ELnUC1di2LwJTjPi04McysQZNqJHSCCSxS3i_GKGTEY.jpg</td>\n      <td>1440</td>\n      <td>1440</td>\n    </tr>\n  </tbody>\n</table>\n</div>",
                        "text/plain": "                         id                                prefix  \\\n0  5e41a77864fa070008131752  https://fastly.4sqi.net/img/general/   \n\n                                                       suffix  width  height  \n0  /484542633_ELnUC1di2LwJTjPi04McysQZNqJHSCCSxS3i_GKGTEY.jpg  1440   1440    "
                    },
                    "execution_count": 24,
                    "metadata": {},
                    "output_type": "execute_result"
                }
            ],
            "source": "# user ID with most agree counts and complete profile\nidnumber = '484542633'\n\nurl = 'https://api.foursquare.com/v2/users/{}/?client_id={}&client_secret={}&oauth_token={}&v={}'.format(idnumber,CLIENT_ID, CLIENT_SECRET, ACCESS_TOKEN,VERSION) # define URL\n\n# send GET request\nresults = requests.get(url).json()\n\nuser_data=results['response']['user']['photos']['items']\n\n#results\npd.set_option('display.max_colwidth', -1)\n\nusers_df = json_normalize(user_data)\n\n#This mainly used later to display the photo of the user\nfiltered_columns = ['id','prefix','suffix','width','height']\ntips_filtered = users_df.loc[:, filtered_columns]\n\n#url\ntips_filtered"
        },
        {
            "cell_type": "code",
            "execution_count": 25,
            "metadata": {},
            "outputs": [
                {
                    "name": "stdout",
                    "output_type": "stream",
                    "text": "0    First Name: Nick\nName: user.firstName, dtype: object\n0    Last Name: El-Tawil\nName: user.lastName, dtype: object\n"
                }
            ],
            "source": "g=tips_df.loc[tips_df['user.id'] == '484542633']\n\nprint('First Name: ' + tips_df['user.firstName'])\nprint('Last Name: ' + tips_df['user.lastName'])"
        },
        {
            "cell_type": "markdown",
            "metadata": {},
            "source": "### Retrieve the User's Profile Image\n"
        },
        {
            "cell_type": "code",
            "execution_count": 26,
            "metadata": {},
            "outputs": [
                {
                    "data": {
                        "text/html": "<img src=\"https://fastly.4sqi.net/img/general/540x920/484542633_ELnUC1di2LwJTjPi04McysQZNqJHSCCSxS3i_GKGTEY.jpg\"/>",
                        "text/plain": "<IPython.core.display.Image object>"
                    },
                    "execution_count": 26,
                    "metadata": {},
                    "output_type": "execute_result"
                }
            ],
            "source": "# 1. grab prefix of photo \n# 2. grab suffix of photo\n# 3. concatenate them using the image size  \nImage(url='https://fastly.4sqi.net/img/general/540x920/484542633_ELnUC1di2LwJTjPi04McysQZNqJHSCCSxS3i_GKGTEY.jpg')"
        },
        {
            "cell_type": "markdown",
            "metadata": {
                "button": false,
                "new_sheet": false,
                "run_control": {
                    "read_only": false
                }
            },
            "source": "Wow! So it turns out that Nick is a very active Foursquare user, with more than 250 tips.\n"
        },
        {
            "cell_type": "markdown",
            "metadata": {
                "button": false,
                "new_sheet": false,
                "run_control": {
                    "read_only": false
                }
            },
            "source": "### Get User's tips\n"
        },
        {
            "cell_type": "code",
            "execution_count": 27,
            "metadata": {
                "button": false,
                "jupyter": {
                    "outputs_hidden": false
                },
                "new_sheet": false,
                "run_control": {
                    "read_only": false
                }
            },
            "outputs": [
                {
                    "name": "stderr",
                    "output_type": "stream",
                    "text": "/var/folders/x5/3q97sg851x312g32v6bjfhzm0000gn/T/ipykernel_9637/31199576.py:10: FutureWarning: Passing a negative integer is deprecated in version 1.0 and will not be supported in future version. Instead, use None to not limit the column width.\n  pd.set_option('display.max_colwidth', -1)\n/var/folders/x5/3q97sg851x312g32v6bjfhzm0000gn/T/ipykernel_9637/31199576.py:12: FutureWarning: pandas.io.json.json_normalize is deprecated, use pandas.json_normalize instead\n  tips_df = json_normalize(tips)\n"
                },
                {
                    "data": {
                        "text/html": "<div>\n<style scoped>\n    .dataframe tbody tr th:only-of-type {\n        vertical-align: middle;\n    }\n\n    .dataframe tbody tr th {\n        vertical-align: top;\n    }\n\n    .dataframe thead th {\n        text-align: right;\n    }\n</style>\n<table border=\"1\" class=\"dataframe\">\n  <thead>\n    <tr style=\"text-align: right;\">\n      <th></th>\n      <th>text</th>\n      <th>agreeCount</th>\n      <th>disagreeCount</th>\n      <th>id</th>\n    </tr>\n  </thead>\n  <tbody>\n    <tr>\n      <th>0</th>\n      <td>High quality falafel that doesn\u2019t come from a cart on the side of the road?! Yes, it exists, and it exists at Taim. Highly recommended - even if you\u2019re new to falafel.</td>\n      <td>6</td>\n      <td>0</td>\n      <td>5ab2771a7dc9e17930670085</td>\n    </tr>\n    <tr>\n      <th>1</th>\n      <td>If you are in the West Village and you choose to go to a nationwide chain coffee shop instead of 11th Street Cafe, then you are everything that is wrong with the world. This place is AWESOME!!!</td>\n      <td>3</td>\n      <td>0</td>\n      <td>5ab1daf0da5e5617d1da3c7d</td>\n    </tr>\n    <tr>\n      <th>2</th>\n      <td>A+! The New Whitney is MUCH more accessible and easier to navigate than the city\u2019s other famous museums like the Met. I\u2019m a big fan. If you\u2019re on a budget: there\u2019s free admission on Friday nights</td>\n      <td>5</td>\n      <td>0</td>\n      <td>5ab1d649464d655c24fc144f</td>\n    </tr>\n    <tr>\n      <th>3</th>\n      <td>I had the wings and they blew my mind. Plus, Leah (the owner) is pretty awesome, so you should definitely check it out!</td>\n      <td>1</td>\n      <td>0</td>\n      <td>5ab1d0a5c666662673a11799</td>\n    </tr>\n    <tr>\n      <th>4</th>\n      <td>Everything here is fantastic! I\u2019ve ordered half the menu and never been disappointed. My favorite is the spaghetti &amp; meatballs (only served on Sundays). The spicy sauce takes it to the next level!</td>\n      <td>7</td>\n      <td>0</td>\n      <td>5ab1cbe467f62b57ee6beaa9</td>\n    </tr>\n    <tr>\n      <th>5</th>\n      <td>THE spot for breakfast in the West Village. I recommend ordering the healthy treat. If you don\u2019t like it, then you have no soul.</td>\n      <td>5</td>\n      <td>0</td>\n      <td>5ab1af48f79faa4bc867de78</td>\n    </tr>\n    <tr>\n      <th>6</th>\n      <td>Get the vegan peanut butter bar. It\u2019s like sex in your mouth.</td>\n      <td>1</td>\n      <td>0</td>\n      <td>5ab1ad2847f8767a8ca88fc1</td>\n    </tr>\n    <tr>\n      <th>7</th>\n      <td>My go-to for coffee and a breakfast sandwich in the mornings. That actually undersells this place - EVERYTHING is good. Lunch, pasta, desserts, wine. I\u2019ve never been disappointed here.</td>\n      <td>2</td>\n      <td>0</td>\n      <td>5ab1acbba6ec980645fd7512</td>\n    </tr>\n    <tr>\n      <th>8</th>\n      <td>This is the real deal. Stuff like this is why I moved to NYC. I bet half of the guys who play here could have gone pro. Do NOT bring your cousin Jimmy (who never played before) unless you like losing!</td>\n      <td>1</td>\n      <td>0</td>\n      <td>5ab1a316a8eb606122a3b755</td>\n    </tr>\n    <tr>\n      <th>9</th>\n      <td>The High Line is pretty cool. The only thing not to like is that it\u2019s so good that everyone comes here and it gets too crowded. Check it out on a weekday morning or at night to dodge the crowds.</td>\n      <td>10</td>\n      <td>0</td>\n      <td>5ab19f6849281477a8be2dab</td>\n    </tr>\n    <tr>\n      <th>10</th>\n      <td>The best running path in the city, hands down. It\u2019s never too crowded (like Central Park can be) and you can run for miles without needing to stop for a traffic light. Way better than a treadmill!</td>\n      <td>2</td>\n      <td>0</td>\n      <td>5ab19e9dd0336060277b2c5e</td>\n    </tr>\n    <tr>\n      <th>11</th>\n      <td>I never thought to go to Brooklyn when I visited NY years ago, but after moving here and spending time in every borough, I developed a serious appreciation for Kings County. Make this your first stop!</td>\n      <td>2</td>\n      <td>0</td>\n      <td>5ab19d73a30619795f3f1204</td>\n    </tr>\n  </tbody>\n</table>\n</div>",
                        "text/plain": "                                                                                                                                                                                                        text  \\\n0   High quality falafel that doesn\u2019t come from a cart on the side of the road?! Yes, it exists, and it exists at Taim. Highly recommended - even if you\u2019re new to falafel.                                    \n1   If you are in the West Village and you choose to go to a nationwide chain coffee shop instead of 11th Street Cafe, then you are everything that is wrong with the world. This place is AWESOME!!!          \n2   A+! The New Whitney is MUCH more accessible and easier to navigate than the city\u2019s other famous museums like the Met. I\u2019m a big fan. If you\u2019re on a budget: there\u2019s free admission on Friday nights        \n3   I had the wings and they blew my mind. Plus, Leah (the owner) is pretty awesome, so you should definitely check it out!                                                                                    \n4   Everything here is fantastic! I\u2019ve ordered half the menu and never been disappointed. My favorite is the spaghetti & meatballs (only served on Sundays). The spicy sauce takes it to the next level!       \n5   THE spot for breakfast in the West Village. I recommend ordering the healthy treat. If you don\u2019t like it, then you have no soul.                                                                           \n6   Get the vegan peanut butter bar. It\u2019s like sex in your mouth.                                                                                                                                              \n7   My go-to for coffee and a breakfast sandwich in the mornings. That actually undersells this place - EVERYTHING is good. Lunch, pasta, desserts, wine. I\u2019ve never been disappointed here.                   \n8   This is the real deal. Stuff like this is why I moved to NYC. I bet half of the guys who play here could have gone pro. Do NOT bring your cousin Jimmy (who never played before) unless you like losing!   \n9   The High Line is pretty cool. The only thing not to like is that it\u2019s so good that everyone comes here and it gets too crowded. Check it out on a weekday morning or at night to dodge the crowds.         \n10  The best running path in the city, hands down. It\u2019s never too crowded (like Central Park can be) and you can run for miles without needing to stop for a traffic light. Way better than a treadmill!       \n11  I never thought to go to Brooklyn when I visited NY years ago, but after moving here and spending time in every borough, I developed a serious appreciation for Kings County. Make this your first stop!   \n\n    agreeCount  disagreeCount                        id  \n0   6           0              5ab2771a7dc9e17930670085  \n1   3           0              5ab1daf0da5e5617d1da3c7d  \n2   5           0              5ab1d649464d655c24fc144f  \n3   1           0              5ab1d0a5c666662673a11799  \n4   7           0              5ab1cbe467f62b57ee6beaa9  \n5   5           0              5ab1af48f79faa4bc867de78  \n6   1           0              5ab1ad2847f8767a8ca88fc1  \n7   2           0              5ab1acbba6ec980645fd7512  \n8   1           0              5ab1a316a8eb606122a3b755  \n9   10          0              5ab19f6849281477a8be2dab  \n10  2           0              5ab19e9dd0336060277b2c5e  \n11  2           0              5ab19d73a30619795f3f1204  "
                    },
                    "execution_count": 27,
                    "metadata": {},
                    "output_type": "execute_result"
                }
            ],
            "source": "# define tips URL\nuser_id='484542633'\nurl = 'https://api.foursquare.com/v2/users/{}/tips?client_id={}&client_secret={}&oauth_token={}&v={}&limit={}'.format(user_id, CLIENT_ID, CLIENT_SECRET,ACCESS_TOKEN,VERSION, limit)\n\n# send GET request and get user's tips\nresults = requests.get(url).json()\ntips = results['response']['tips']['items']\n\n# format column width\npd.set_option('display.max_colwidth', -1)\n\ntips_df = json_normalize(tips)\n\n# filter columns\nfiltered_columns = ['text', 'agreeCount', 'disagreeCount', 'id']\ntips_filtered = tips_df.loc[:, filtered_columns]\n\n# display user's tips\ntips_filtered"
        },
        {
            "cell_type": "markdown",
            "metadata": {
                "button": false,
                "new_sheet": false,
                "run_control": {
                    "read_only": false
                }
            },
            "source": "#### Let's get the venue for the tip with the greatest number of agree counts\n"
        },
        {
            "cell_type": "code",
            "execution_count": 28,
            "metadata": {
                "button": false,
                "jupyter": {
                    "outputs_hidden": false
                },
                "new_sheet": false,
                "run_control": {
                    "read_only": false
                }
            },
            "outputs": [
                {
                    "name": "stdout",
                    "output_type": "stream",
                    "text": "Ta\u00efm\n{'address': '222 Waverly Pl', 'crossStreet': 'btwn Perry & W 11th St', 'lat': 40.735970102491926, 'lng': -74.00194019079207, 'labeledLatLngs': [{'label': 'display', 'lat': 40.735970102491926, 'lng': -74.00194019079207}, {'label': 'entrance', 'lat': 40.735887, 'lng': -74.001873}], 'postalCode': '10014', 'cc': 'US', 'neighborhood': 'West Village', 'city': 'New York', 'state': 'NY', 'country': 'United States', 'formattedAddress': ['222 Waverly Pl (btwn Perry & W 11th St)', 'New York, NY 10014', 'United States']}\n"
                }
            ],
            "source": "# tip id\ntip_id = '5ab5575d73fe2516ad8f363b'\n\n# define URL\nurl = 'https://api.foursquare.com/v2/users/{}/tips?client_id={}&client_secret={}&oauth_token={}&v={}'.format(idnumber, CLIENT_ID, CLIENT_SECRET,ACCESS_TOKEN, VERSION) # define URL\n\n\n# send GET Request and examine results\nresult = requests.get(url).json()\n\nprint(result['response']['tips']['items'][0]['venue']['name'])\nprint(result['response']['tips']['items'][0]['venue']['location'])"
        },
        {
            "cell_type": "markdown",
            "metadata": {
                "button": false,
                "new_sheet": false,
                "run_control": {
                    "read_only": false
                }
            },
            "source": "## 4. Explore a location\n\n> `https://api.foursquare.com/v2/venues/`**explore**`?client_id=`**CLIENT_ID**`&client_secret=`**CLIENT_SECRET**`&ll=`**LATITUDE**`,`**LONGITUDE**`&v=`**VERSION**`&limit=`**LIMIT**\n"
        },
        {
            "cell_type": "markdown",
            "metadata": {
                "button": false,
                "new_sheet": false,
                "run_control": {
                    "read_only": false
                }
            },
            "source": "#### So, you just finished your gourmet dish at Ecco, and are just curious about the popular spots around the restaurant. In order to explore the area, let's start by getting the latitude and longitude values of Ecco Restaurant.\n"
        },
        {
            "cell_type": "code",
            "execution_count": 29,
            "metadata": {
                "button": false,
                "jupyter": {
                    "outputs_hidden": true
                },
                "new_sheet": false,
                "run_control": {
                    "read_only": false
                }
            },
            "outputs": [],
            "source": "latitude = 40.715337\nlongitude = -74.008848"
        },
        {
            "cell_type": "markdown",
            "metadata": {
                "button": false,
                "new_sheet": false,
                "run_control": {
                    "read_only": false
                }
            },
            "source": "#### Define URL\n"
        },
        {
            "cell_type": "code",
            "execution_count": 30,
            "metadata": {
                "button": false,
                "jupyter": {
                    "outputs_hidden": false
                },
                "new_sheet": false,
                "run_control": {
                    "read_only": false
                }
            },
            "outputs": [
                {
                    "data": {
                        "text/plain": "'https://api.foursquare.com/v2/venues/explore?client_id=YHQ1QKGPYP2R0CWK1IWMUKFJOG0PRFXTGBTCTQ5KMDIHSIMN&client_secret=UXI2VPFT3TAQSSSWVOELV3XDLCQC4IFI05JUXCDIYU5PGT0Z&ll=40.715337,-74.008848&v=20210821&radius=500&limit=30'"
                    },
                    "execution_count": 30,
                    "metadata": {},
                    "output_type": "execute_result"
                }
            ],
            "source": "url = 'https://api.foursquare.com/v2/venues/explore?client_id={}&client_secret={}&ll={},{}&v={}&radius={}&limit={}'.format(CLIENT_ID, CLIENT_SECRET, latitude, longitude, VERSION, radius, LIMIT)\n\nurl"
        },
        {
            "cell_type": "markdown",
            "metadata": {
                "button": false,
                "new_sheet": false,
                "run_control": {
                    "read_only": false
                }
            },
            "source": "#### Send GET request and examine results\n"
        },
        {
            "cell_type": "code",
            "execution_count": 31,
            "metadata": {
                "button": false,
                "jupyter": {
                    "outputs_hidden": true
                },
                "new_sheet": false,
                "run_control": {
                    "read_only": false
                }
            },
            "outputs": [],
            "source": "import requests"
        },
        {
            "cell_type": "code",
            "execution_count": 32,
            "metadata": {
                "button": false,
                "jupyter": {
                    "outputs_hidden": false
                },
                "new_sheet": false,
                "run_control": {
                    "read_only": false
                }
            },
            "outputs": [
                {
                    "data": {
                        "text/plain": "'There are 30 around Ecco restaurant.'"
                    },
                    "execution_count": 32,
                    "metadata": {},
                    "output_type": "execute_result"
                }
            ],
            "source": "results = requests.get(url).json()\n'There are {} around Ecco restaurant.'.format(len(results['response']['groups'][0]['items']))"
        },
        {
            "cell_type": "markdown",
            "metadata": {
                "button": false,
                "new_sheet": false,
                "run_control": {
                    "read_only": false
                }
            },
            "source": "#### Get relevant part of JSON\n"
        },
        {
            "cell_type": "code",
            "execution_count": 33,
            "metadata": {
                "button": false,
                "jupyter": {
                    "outputs_hidden": false
                },
                "new_sheet": false,
                "run_control": {
                    "read_only": false
                }
            },
            "outputs": [
                {
                    "data": {
                        "text/plain": "{'reasons': {'count': 0,\n  'items': [{'summary': 'This spot is popular',\n    'type': 'general',\n    'reasonName': 'globalInteractionReason'}]},\n 'venue': {'id': '4af5d65ff964a52091fd21e3',\n  'name': 'Korin',\n  'location': {'address': '57 Warren St',\n   'crossStreet': 'Church St',\n   'lat': 40.71482437714839,\n   'lng': -74.00940425461492,\n   'labeledLatLngs': [{'label': 'display',\n     'lat': 40.71482437714839,\n     'lng': -74.00940425461492},\n    {'label': 'entrance', 'lat': 40.714727, 'lng': -74.009399}],\n   'distance': 73,\n   'postalCode': '10007',\n   'cc': 'US',\n   'neighborhood': 'Tribeca',\n   'city': 'New York',\n   'state': 'NY',\n   'country': 'United States',\n   'formattedAddress': ['57 Warren St (Church St)',\n    'New York, NY 10007',\n    'United States']},\n  'categories': [{'id': '4bf58dd8d48988d1f8941735',\n    'name': 'Furniture / Home Store',\n    'pluralName': 'Furniture / Home Stores',\n    'shortName': 'Furniture / Home',\n    'icon': {'prefix': 'https://ss3.4sqi.net/img/categories_v2/shops/furniture_',\n     'suffix': '.png'},\n    'primary': True}],\n  'photos': {'count': 0, 'groups': []},\n  'venuePage': {'id': '33104775'}},\n 'referralId': 'e-0-4af5d65ff964a52091fd21e3-0'}"
                    },
                    "execution_count": 33,
                    "metadata": {},
                    "output_type": "execute_result"
                }
            ],
            "source": "items = results['response']['groups'][0]['items']\n\nitems[0]"
        },
        {
            "cell_type": "markdown",
            "metadata": {
                "button": false,
                "new_sheet": false,
                "run_control": {
                    "read_only": false
                }
            },
            "source": "#### Process JSON and convert it to a clean dataframe\n"
        },
        {
            "cell_type": "code",
            "execution_count": 34,
            "metadata": {
                "button": false,
                "jupyter": {
                    "outputs_hidden": false
                },
                "new_sheet": false,
                "run_control": {
                    "read_only": false
                }
            },
            "outputs": [
                {
                    "name": "stderr",
                    "output_type": "stream",
                    "text": "/var/folders/x5/3q97sg851x312g32v6bjfhzm0000gn/T/ipykernel_9637/2906712028.py:1: FutureWarning: pandas.io.json.json_normalize is deprecated, use pandas.json_normalize instead\n  dataframe = json_normalize(items) # flatten JSON\n"
                },
                {
                    "data": {
                        "text/html": "<div>\n<style scoped>\n    .dataframe tbody tr th:only-of-type {\n        vertical-align: middle;\n    }\n\n    .dataframe tbody tr th {\n        vertical-align: top;\n    }\n\n    .dataframe thead th {\n        text-align: right;\n    }\n</style>\n<table border=\"1\" class=\"dataframe\">\n  <thead>\n    <tr style=\"text-align: right;\">\n      <th></th>\n      <th>name</th>\n      <th>categories</th>\n      <th>address</th>\n      <th>crossStreet</th>\n      <th>lat</th>\n      <th>lng</th>\n      <th>labeledLatLngs</th>\n      <th>distance</th>\n      <th>postalCode</th>\n      <th>cc</th>\n      <th>neighborhood</th>\n      <th>city</th>\n      <th>state</th>\n      <th>country</th>\n      <th>formattedAddress</th>\n      <th>id</th>\n    </tr>\n  </thead>\n  <tbody>\n    <tr>\n      <th>0</th>\n      <td>Korin</td>\n      <td>Furniture / Home Store</td>\n      <td>57 Warren St</td>\n      <td>Church St</td>\n      <td>40.714824</td>\n      <td>-74.009404</td>\n      <td>[{'label': 'display', 'lat': 40.71482437714839, 'lng': -74.00940425461492}, {'label': 'entrance', 'lat': 40.714727, 'lng': -74.009399}]</td>\n      <td>73</td>\n      <td>10007</td>\n      <td>US</td>\n      <td>Tribeca</td>\n      <td>New York</td>\n      <td>NY</td>\n      <td>United States</td>\n      <td>[57 Warren St (Church St), New York, NY 10007, United States]</td>\n      <td>4af5d65ff964a52091fd21e3</td>\n    </tr>\n    <tr>\n      <th>1</th>\n      <td>Los Tacos No. 1</td>\n      <td>Taco Place</td>\n      <td>136 Church St</td>\n      <td>NaN</td>\n      <td>40.714267</td>\n      <td>-74.008756</td>\n      <td>[{'label': 'display', 'lat': 40.714267, 'lng': -74.008756}]</td>\n      <td>119</td>\n      <td>10007</td>\n      <td>US</td>\n      <td>NaN</td>\n      <td>New York</td>\n      <td>NY</td>\n      <td>United States</td>\n      <td>[136 Church St, New York, NY 10007, United States]</td>\n      <td>5d5f24ec09484500079aee00</td>\n    </tr>\n    <tr>\n      <th>2</th>\n      <td>Takahachi Bakery</td>\n      <td>Bakery</td>\n      <td>25 Murray St</td>\n      <td>at Church St</td>\n      <td>40.713653</td>\n      <td>-74.008804</td>\n      <td>[{'label': 'display', 'lat': 40.713652845301894, 'lng': -74.0088038953017}, {'label': 'entrance', 'lat': 40.713716, 'lng': -74.008443}]</td>\n      <td>187</td>\n      <td>10007</td>\n      <td>US</td>\n      <td>Tribeca</td>\n      <td>New York</td>\n      <td>NY</td>\n      <td>United States</td>\n      <td>[25 Murray St (at Church St), New York, NY 10007, United States]</td>\n      <td>4c154c9a77cea593c401d260</td>\n    </tr>\n    <tr>\n      <th>3</th>\n      <td>Juice Press</td>\n      <td>Vegetarian / Vegan Restaurant</td>\n      <td>83 Murray St</td>\n      <td>btwn Greenwich St &amp; W Broadway</td>\n      <td>40.714788</td>\n      <td>-74.011132</td>\n      <td>[{'label': 'display', 'lat': 40.71478769908051, 'lng': -74.0111317502157}]</td>\n      <td>202</td>\n      <td>10007</td>\n      <td>US</td>\n      <td>NaN</td>\n      <td>New York</td>\n      <td>NY</td>\n      <td>United States</td>\n      <td>[83 Murray St (btwn Greenwich St &amp; W Broadway), New York, NY 10007, United States]</td>\n      <td>54148bc6498ea7bb8c05b70a</td>\n    </tr>\n    <tr>\n      <th>4</th>\n      <td>Takahachi</td>\n      <td>Sushi Restaurant</td>\n      <td>145 Duane St</td>\n      <td>btwn W Broadway &amp; Church St</td>\n      <td>40.716526</td>\n      <td>-74.008101</td>\n      <td>[{'label': 'display', 'lat': 40.71652647412374, 'lng': -74.00810108466207}, {'label': 'entrance', 'lat': 40.716508, 'lng': -74.007989}]</td>\n      <td>146</td>\n      <td>10013</td>\n      <td>US</td>\n      <td>NaN</td>\n      <td>New York</td>\n      <td>NY</td>\n      <td>United States</td>\n      <td>[145 Duane St (btwn W Broadway &amp; Church St), New York, NY 10013, United States]</td>\n      <td>4a8f2f39f964a520471420e3</td>\n    </tr>\n    <tr>\n      <th>5</th>\n      <td>Philip Williams Posters</td>\n      <td>Antique Shop</td>\n      <td>122 Chambers St</td>\n      <td>NaN</td>\n      <td>40.715284</td>\n      <td>-74.008781</td>\n      <td>[{'label': 'display', 'lat': 40.71528423132827, 'lng': -74.00878093952018}, {'label': 'entrance', 'lat': 40.715188, 'lng': -74.008747}]</td>\n      <td>8</td>\n      <td>10007</td>\n      <td>US</td>\n      <td>NaN</td>\n      <td>New York</td>\n      <td>NY</td>\n      <td>United States</td>\n      <td>[122 Chambers St, New York, NY 10007, United States]</td>\n      <td>4b747291f964a52042dd2de3</td>\n    </tr>\n    <tr>\n      <th>6</th>\n      <td>Heyday</td>\n      <td>Spa</td>\n      <td>92 Reade St</td>\n      <td>NaN</td>\n      <td>40.715726</td>\n      <td>-74.007767</td>\n      <td>[{'label': 'display', 'lat': 40.715726, 'lng': -74.007767}, {'label': 'entrance', 'lat': 40.715654, 'lng': -74.00782}]</td>\n      <td>100</td>\n      <td>10013</td>\n      <td>US</td>\n      <td>NaN</td>\n      <td>New York</td>\n      <td>NY</td>\n      <td>United States</td>\n      <td>[92 Reade St, New York, NY 10013, United States]</td>\n      <td>57ad129c498e05b086594d72</td>\n    </tr>\n    <tr>\n      <th>7</th>\n      <td>Lekka Burger</td>\n      <td>Burger Joint</td>\n      <td>81 Warren St</td>\n      <td>btw Greenwich &amp; West Broadway</td>\n      <td>40.715246</td>\n      <td>-74.010559</td>\n      <td>[{'label': 'display', 'lat': 40.715246, 'lng': -74.010559}]</td>\n      <td>144</td>\n      <td>10007</td>\n      <td>US</td>\n      <td>NaN</td>\n      <td>New York</td>\n      <td>NY</td>\n      <td>United States</td>\n      <td>[81 Warren St (btw Greenwich &amp; West Broadway), New York, NY 10007, United States]</td>\n      <td>5dc6f6a5ea8dfb00080f6faa</td>\n    </tr>\n    <tr>\n      <th>8</th>\n      <td>Chambers Street Wines</td>\n      <td>Wine Shop</td>\n      <td>148 Chambers St</td>\n      <td>btwn West Broadway &amp; Hudson St</td>\n      <td>40.715773</td>\n      <td>-74.009718</td>\n      <td>[{'label': 'display', 'lat': 40.715773063928374, 'lng': -74.00971823312332}, {'label': 'entrance', 'lat': 40.715696, 'lng': -74.00988}]</td>\n      <td>88</td>\n      <td>10007</td>\n      <td>US</td>\n      <td>NaN</td>\n      <td>New York</td>\n      <td>NY</td>\n      <td>United States</td>\n      <td>[148 Chambers St (btwn West Broadway &amp; Hudson St), New York, NY 10007, United States]</td>\n      <td>4adcf23cf964a520cc6221e3</td>\n    </tr>\n    <tr>\n      <th>9</th>\n      <td>Weather Up</td>\n      <td>Cocktail Bar</td>\n      <td>159 Duane St</td>\n      <td>btwn Hudson St. &amp; W Broadway</td>\n      <td>40.716741</td>\n      <td>-74.008666</td>\n      <td>[{'label': 'display', 'lat': 40.71674084163369, 'lng': -74.0086664438893}, {'label': 'entrance', 'lat': 40.71685, 'lng': -74.008729}]</td>\n      <td>157</td>\n      <td>10013</td>\n      <td>US</td>\n      <td>NaN</td>\n      <td>New York</td>\n      <td>NY</td>\n      <td>United States</td>\n      <td>[159 Duane St (btwn Hudson St. &amp; W Broadway), New York, NY 10013, United States]</td>\n      <td>4cd89eeb6e8b5941660c64d2</td>\n    </tr>\n  </tbody>\n</table>\n</div>",
                        "text/plain": "                      name                     categories          address  \\\n0  Korin                    Furniture / Home Store         57 Warren St      \n1  Los Tacos No. 1          Taco Place                     136 Church St     \n2  Takahachi Bakery         Bakery                         25 Murray St      \n3  Juice Press              Vegetarian / Vegan Restaurant  83 Murray St      \n4  Takahachi                Sushi Restaurant               145 Duane St      \n5  Philip Williams Posters  Antique Shop                   122 Chambers St   \n6  Heyday                   Spa                            92 Reade St       \n7  Lekka Burger             Burger Joint                   81 Warren St      \n8  Chambers Street Wines    Wine Shop                      148 Chambers St   \n9  Weather Up               Cocktail Bar                   159 Duane St      \n\n                      crossStreet        lat        lng  \\\n0  Church St                       40.714824 -74.009404   \n1  NaN                             40.714267 -74.008756   \n2  at Church St                    40.713653 -74.008804   \n3  btwn Greenwich St & W Broadway  40.714788 -74.011132   \n4  btwn W Broadway & Church St     40.716526 -74.008101   \n5  NaN                             40.715284 -74.008781   \n6  NaN                             40.715726 -74.007767   \n7  btw Greenwich & West Broadway   40.715246 -74.010559   \n8  btwn West Broadway & Hudson St  40.715773 -74.009718   \n9  btwn Hudson St. & W Broadway    40.716741 -74.008666   \n\n                                                                                                                            labeledLatLngs  \\\n0  [{'label': 'display', 'lat': 40.71482437714839, 'lng': -74.00940425461492}, {'label': 'entrance', 'lat': 40.714727, 'lng': -74.009399}]   \n1  [{'label': 'display', 'lat': 40.714267, 'lng': -74.008756}]                                                                               \n2  [{'label': 'display', 'lat': 40.713652845301894, 'lng': -74.0088038953017}, {'label': 'entrance', 'lat': 40.713716, 'lng': -74.008443}]   \n3  [{'label': 'display', 'lat': 40.71478769908051, 'lng': -74.0111317502157}]                                                                \n4  [{'label': 'display', 'lat': 40.71652647412374, 'lng': -74.00810108466207}, {'label': 'entrance', 'lat': 40.716508, 'lng': -74.007989}]   \n5  [{'label': 'display', 'lat': 40.71528423132827, 'lng': -74.00878093952018}, {'label': 'entrance', 'lat': 40.715188, 'lng': -74.008747}]   \n6  [{'label': 'display', 'lat': 40.715726, 'lng': -74.007767}, {'label': 'entrance', 'lat': 40.715654, 'lng': -74.00782}]                    \n7  [{'label': 'display', 'lat': 40.715246, 'lng': -74.010559}]                                                                               \n8  [{'label': 'display', 'lat': 40.715773063928374, 'lng': -74.00971823312332}, {'label': 'entrance', 'lat': 40.715696, 'lng': -74.00988}]   \n9  [{'label': 'display', 'lat': 40.71674084163369, 'lng': -74.0086664438893}, {'label': 'entrance', 'lat': 40.71685, 'lng': -74.008729}]     \n\n   distance postalCode  cc neighborhood      city state        country  \\\n0  73        10007      US  Tribeca      New York  NY    United States   \n1  119       10007      US  NaN          New York  NY    United States   \n2  187       10007      US  Tribeca      New York  NY    United States   \n3  202       10007      US  NaN          New York  NY    United States   \n4  146       10013      US  NaN          New York  NY    United States   \n5  8         10007      US  NaN          New York  NY    United States   \n6  100       10013      US  NaN          New York  NY    United States   \n7  144       10007      US  NaN          New York  NY    United States   \n8  88        10007      US  NaN          New York  NY    United States   \n9  157       10013      US  NaN          New York  NY    United States   \n\n                                                                        formattedAddress  \\\n0  [57 Warren St (Church St), New York, NY 10007, United States]                           \n1  [136 Church St, New York, NY 10007, United States]                                      \n2  [25 Murray St (at Church St), New York, NY 10007, United States]                        \n3  [83 Murray St (btwn Greenwich St & W Broadway), New York, NY 10007, United States]      \n4  [145 Duane St (btwn W Broadway & Church St), New York, NY 10013, United States]         \n5  [122 Chambers St, New York, NY 10007, United States]                                    \n6  [92 Reade St, New York, NY 10013, United States]                                        \n7  [81 Warren St (btw Greenwich & West Broadway), New York, NY 10007, United States]       \n8  [148 Chambers St (btwn West Broadway & Hudson St), New York, NY 10007, United States]   \n9  [159 Duane St (btwn Hudson St. & W Broadway), New York, NY 10013, United States]        \n\n                         id  \n0  4af5d65ff964a52091fd21e3  \n1  5d5f24ec09484500079aee00  \n2  4c154c9a77cea593c401d260  \n3  54148bc6498ea7bb8c05b70a  \n4  4a8f2f39f964a520471420e3  \n5  4b747291f964a52042dd2de3  \n6  57ad129c498e05b086594d72  \n7  5dc6f6a5ea8dfb00080f6faa  \n8  4adcf23cf964a520cc6221e3  \n9  4cd89eeb6e8b5941660c64d2  "
                    },
                    "execution_count": 34,
                    "metadata": {},
                    "output_type": "execute_result"
                }
            ],
            "source": "dataframe = json_normalize(items) # flatten JSON\n\n# filter columns\nfiltered_columns = ['venue.name', 'venue.categories'] + [col for col in dataframe.columns if col.startswith('venue.location.')] + ['venue.id']\ndataframe_filtered = dataframe.loc[:, filtered_columns]\n\n# filter the category for each row\ndataframe_filtered['venue.categories'] = dataframe_filtered.apply(get_category_type, axis=1)\n\n# clean columns\ndataframe_filtered.columns = [col.split('.')[-1] for col in dataframe_filtered.columns]\n\ndataframe_filtered.head(10)"
        },
        {
            "cell_type": "markdown",
            "metadata": {
                "button": false,
                "new_sheet": false,
                "run_control": {
                    "read_only": false
                }
            },
            "source": "#### Let's visualize these items on the map around our location\n"
        },
        {
            "cell_type": "code",
            "execution_count": 35,
            "metadata": {
                "button": false,
                "jupyter": {
                    "outputs_hidden": false
                },
                "new_sheet": false,
                "run_control": {
                    "read_only": false
                },
                "scrolled": false
            },
            "outputs": [
                {
                    "data": {
                        "text/html": "<div style=\"width:100%;\"><div style=\"position:relative;width:100%;height:0;padding-bottom:60%;\"><span style=\"color:#565656\">Make this Notebook Trusted to load map: File -> Trust Notebook</span><iframe src=\"about:blank\" style=\"position:absolute;width:100%;height:100%;left:0;top:0;border:none !important;\" data-html=%3C%21DOCTYPE%20html%3E%0A%3Chead%3E%20%20%20%20%0A%20%20%20%20%3Cmeta%20http-equiv%3D%22content-type%22%20content%3D%22text/html%3B%20charset%3DUTF-8%22%20/%3E%0A%20%20%20%20%0A%20%20%20%20%20%20%20%20%3Cscript%3E%0A%20%20%20%20%20%20%20%20%20%20%20%20L_NO_TOUCH%20%3D%20false%3B%0A%20%20%20%20%20%20%20%20%20%20%20%20L_DISABLE_3D%20%3D%20false%3B%0A%20%20%20%20%20%20%20%20%3C/script%3E%0A%20%20%20%20%0A%20%20%20%20%3Cstyle%3Ehtml%2C%20body%20%7Bwidth%3A%20100%25%3Bheight%3A%20100%25%3Bmargin%3A%200%3Bpadding%3A%200%3B%7D%3C/style%3E%0A%20%20%20%20%3Cstyle%3E%23map%20%7Bposition%3Aabsolute%3Btop%3A0%3Bbottom%3A0%3Bright%3A0%3Bleft%3A0%3B%7D%3C/style%3E%0A%20%20%20%20%3Cscript%20src%3D%22https%3A//cdn.jsdelivr.net/npm/leaflet%401.6.0/dist/leaflet.js%22%3E%3C/script%3E%0A%20%20%20%20%3Cscript%20src%3D%22https%3A//code.jquery.com/jquery-1.12.4.min.js%22%3E%3C/script%3E%0A%20%20%20%20%3Cscript%20src%3D%22https%3A//maxcdn.bootstrapcdn.com/bootstrap/3.2.0/js/bootstrap.min.js%22%3E%3C/script%3E%0A%20%20%20%20%3Cscript%20src%3D%22https%3A//cdnjs.cloudflare.com/ajax/libs/Leaflet.awesome-markers/2.0.2/leaflet.awesome-markers.js%22%3E%3C/script%3E%0A%20%20%20%20%3Clink%20rel%3D%22stylesheet%22%20href%3D%22https%3A//cdn.jsdelivr.net/npm/leaflet%401.6.0/dist/leaflet.css%22/%3E%0A%20%20%20%20%3Clink%20rel%3D%22stylesheet%22%20href%3D%22https%3A//maxcdn.bootstrapcdn.com/bootstrap/3.2.0/css/bootstrap.min.css%22/%3E%0A%20%20%20%20%3Clink%20rel%3D%22stylesheet%22%20href%3D%22https%3A//maxcdn.bootstrapcdn.com/bootstrap/3.2.0/css/bootstrap-theme.min.css%22/%3E%0A%20%20%20%20%3Clink%20rel%3D%22stylesheet%22%20href%3D%22https%3A//maxcdn.bootstrapcdn.com/font-awesome/4.6.3/css/font-awesome.min.css%22/%3E%0A%20%20%20%20%3Clink%20rel%3D%22stylesheet%22%20href%3D%22https%3A//cdnjs.cloudflare.com/ajax/libs/Leaflet.awesome-markers/2.0.2/leaflet.awesome-markers.css%22/%3E%0A%20%20%20%20%3Clink%20rel%3D%22stylesheet%22%20href%3D%22https%3A//cdn.jsdelivr.net/gh/python-visualization/folium/folium/templates/leaflet.awesome.rotate.min.css%22/%3E%0A%20%20%20%20%0A%20%20%20%20%20%20%20%20%20%20%20%20%3Cmeta%20name%3D%22viewport%22%20content%3D%22width%3Ddevice-width%2C%0A%20%20%20%20%20%20%20%20%20%20%20%20%20%20%20%20initial-scale%3D1.0%2C%20maximum-scale%3D1.0%2C%20user-scalable%3Dno%22%20/%3E%0A%20%20%20%20%20%20%20%20%20%20%20%20%3Cstyle%3E%0A%20%20%20%20%20%20%20%20%20%20%20%20%20%20%20%20%23map_e55cbe40749947bdb0d49d2c64c6db67%20%7B%0A%20%20%20%20%20%20%20%20%20%20%20%20%20%20%20%20%20%20%20%20position%3A%20relative%3B%0A%20%20%20%20%20%20%20%20%20%20%20%20%20%20%20%20%20%20%20%20width%3A%20100.0%25%3B%0A%20%20%20%20%20%20%20%20%20%20%20%20%20%20%20%20%20%20%20%20height%3A%20100.0%25%3B%0A%20%20%20%20%20%20%20%20%20%20%20%20%20%20%20%20%20%20%20%20left%3A%200.0%25%3B%0A%20%20%20%20%20%20%20%20%20%20%20%20%20%20%20%20%20%20%20%20top%3A%200.0%25%3B%0A%20%20%20%20%20%20%20%20%20%20%20%20%20%20%20%20%7D%0A%20%20%20%20%20%20%20%20%20%20%20%20%3C/style%3E%0A%20%20%20%20%20%20%20%20%0A%3C/head%3E%0A%3Cbody%3E%20%20%20%20%0A%20%20%20%20%0A%20%20%20%20%20%20%20%20%20%20%20%20%3Cdiv%20class%3D%22folium-map%22%20id%3D%22map_e55cbe40749947bdb0d49d2c64c6db67%22%20%3E%3C/div%3E%0A%20%20%20%20%20%20%20%20%0A%3C/body%3E%0A%3Cscript%3E%20%20%20%20%0A%20%20%20%20%0A%20%20%20%20%20%20%20%20%20%20%20%20var%20map_e55cbe40749947bdb0d49d2c64c6db67%20%3D%20L.map%28%0A%20%20%20%20%20%20%20%20%20%20%20%20%20%20%20%20%22map_e55cbe40749947bdb0d49d2c64c6db67%22%2C%0A%20%20%20%20%20%20%20%20%20%20%20%20%20%20%20%20%7B%0A%20%20%20%20%20%20%20%20%20%20%20%20%20%20%20%20%20%20%20%20center%3A%20%5B40.715337%2C%20-74.008848%5D%2C%0A%20%20%20%20%20%20%20%20%20%20%20%20%20%20%20%20%20%20%20%20crs%3A%20L.CRS.EPSG3857%2C%0A%20%20%20%20%20%20%20%20%20%20%20%20%20%20%20%20%20%20%20%20zoom%3A%2015%2C%0A%20%20%20%20%20%20%20%20%20%20%20%20%20%20%20%20%20%20%20%20zoomControl%3A%20true%2C%0A%20%20%20%20%20%20%20%20%20%20%20%20%20%20%20%20%20%20%20%20preferCanvas%3A%20false%2C%0A%20%20%20%20%20%20%20%20%20%20%20%20%20%20%20%20%7D%0A%20%20%20%20%20%20%20%20%20%20%20%20%29%3B%0A%0A%20%20%20%20%20%20%20%20%20%20%20%20%0A%0A%20%20%20%20%20%20%20%20%0A%20%20%20%20%0A%20%20%20%20%20%20%20%20%20%20%20%20var%20tile_layer_4ee68221bbf34f339136821d2dc50adf%20%3D%20L.tileLayer%28%0A%20%20%20%20%20%20%20%20%20%20%20%20%20%20%20%20%22https%3A//%7Bs%7D.tile.openstreetmap.org/%7Bz%7D/%7Bx%7D/%7By%7D.png%22%2C%0A%20%20%20%20%20%20%20%20%20%20%20%20%20%20%20%20%7B%22attribution%22%3A%20%22Data%20by%20%5Cu0026copy%3B%20%5Cu003ca%20href%3D%5C%22http%3A//openstreetmap.org%5C%22%5Cu003eOpenStreetMap%5Cu003c/a%5Cu003e%2C%20under%20%5Cu003ca%20href%3D%5C%22http%3A//www.openstreetmap.org/copyright%5C%22%5Cu003eODbL%5Cu003c/a%5Cu003e.%22%2C%20%22detectRetina%22%3A%20false%2C%20%22maxNativeZoom%22%3A%2018%2C%20%22maxZoom%22%3A%2018%2C%20%22minZoom%22%3A%200%2C%20%22noWrap%22%3A%20false%2C%20%22opacity%22%3A%201%2C%20%22subdomains%22%3A%20%22abc%22%2C%20%22tms%22%3A%20false%7D%0A%20%20%20%20%20%20%20%20%20%20%20%20%29.addTo%28map_e55cbe40749947bdb0d49d2c64c6db67%29%3B%0A%20%20%20%20%20%20%20%20%0A%20%20%20%20%0A%20%20%20%20%20%20%20%20%20%20%20%20var%20circle_marker_2f663d5fac0d444e91266b1315d3488f%20%3D%20L.circleMarker%28%0A%20%20%20%20%20%20%20%20%20%20%20%20%20%20%20%20%5B40.715337%2C%20-74.008848%5D%2C%0A%20%20%20%20%20%20%20%20%20%20%20%20%20%20%20%20%7B%22bubblingMouseEvents%22%3A%20true%2C%20%22color%22%3A%20%22red%22%2C%20%22dashArray%22%3A%20null%2C%20%22dashOffset%22%3A%20null%2C%20%22fill%22%3A%20true%2C%20%22fillColor%22%3A%20%22red%22%2C%20%22fillOpacity%22%3A%200.6%2C%20%22fillRule%22%3A%20%22evenodd%22%2C%20%22lineCap%22%3A%20%22round%22%2C%20%22lineJoin%22%3A%20%22round%22%2C%20%22opacity%22%3A%201.0%2C%20%22radius%22%3A%2010%2C%20%22stroke%22%3A%20true%2C%20%22weight%22%3A%203%7D%0A%20%20%20%20%20%20%20%20%20%20%20%20%29.addTo%28map_e55cbe40749947bdb0d49d2c64c6db67%29%3B%0A%20%20%20%20%20%20%20%20%0A%20%20%20%20%0A%20%20%20%20%20%20%20%20var%20popup_5f57e7c9848349539a55bd38a9d2d58c%20%3D%20L.popup%28%7B%22maxWidth%22%3A%20%22100%25%22%7D%29%3B%0A%0A%20%20%20%20%20%20%20%20%0A%20%20%20%20%20%20%20%20%20%20%20%20var%20html_add5bc37e3644f25938eb9861fbbf845%20%3D%20%24%28%60%3Cdiv%20id%3D%22html_add5bc37e3644f25938eb9861fbbf845%22%20style%3D%22width%3A%20100.0%25%3B%20height%3A%20100.0%25%3B%22%3EEcco%3C/div%3E%60%29%5B0%5D%3B%0A%20%20%20%20%20%20%20%20%20%20%20%20popup_5f57e7c9848349539a55bd38a9d2d58c.setContent%28html_add5bc37e3644f25938eb9861fbbf845%29%3B%0A%20%20%20%20%20%20%20%20%0A%0A%20%20%20%20%20%20%20%20circle_marker_2f663d5fac0d444e91266b1315d3488f.bindPopup%28popup_5f57e7c9848349539a55bd38a9d2d58c%29%0A%20%20%20%20%20%20%20%20%3B%0A%0A%20%20%20%20%20%20%20%20%0A%20%20%20%20%0A%20%20%20%20%0A%20%20%20%20%20%20%20%20%20%20%20%20var%20circle_marker_0cf602d7bc494b37951b05a2d3de6257%20%3D%20L.circleMarker%28%0A%20%20%20%20%20%20%20%20%20%20%20%20%20%20%20%20%5B40.71482437714839%2C%20-74.00940425461492%5D%2C%0A%20%20%20%20%20%20%20%20%20%20%20%20%20%20%20%20%7B%22bubblingMouseEvents%22%3A%20true%2C%20%22color%22%3A%20%22blue%22%2C%20%22dashArray%22%3A%20null%2C%20%22dashOffset%22%3A%20null%2C%20%22fill%22%3A%20true%2C%20%22fillColor%22%3A%20%22blue%22%2C%20%22fillOpacity%22%3A%200.6%2C%20%22fillRule%22%3A%20%22evenodd%22%2C%20%22lineCap%22%3A%20%22round%22%2C%20%22lineJoin%22%3A%20%22round%22%2C%20%22opacity%22%3A%201.0%2C%20%22radius%22%3A%205%2C%20%22stroke%22%3A%20true%2C%20%22weight%22%3A%203%7D%0A%20%20%20%20%20%20%20%20%20%20%20%20%29.addTo%28map_e55cbe40749947bdb0d49d2c64c6db67%29%3B%0A%20%20%20%20%20%20%20%20%0A%20%20%20%20%0A%20%20%20%20%20%20%20%20var%20popup_bc511c0b6edf4bc98780e5fbba7c9891%20%3D%20L.popup%28%7B%22maxWidth%22%3A%20%22100%25%22%7D%29%3B%0A%0A%20%20%20%20%20%20%20%20%0A%20%20%20%20%20%20%20%20%20%20%20%20var%20html_dd269ef2af8242c1a65dc4d8fd31f924%20%3D%20%24%28%60%3Cdiv%20id%3D%22html_dd269ef2af8242c1a65dc4d8fd31f924%22%20style%3D%22width%3A%20100.0%25%3B%20height%3A%20100.0%25%3B%22%3EFurniture%20/%20Home%20Store%3C/div%3E%60%29%5B0%5D%3B%0A%20%20%20%20%20%20%20%20%20%20%20%20popup_bc511c0b6edf4bc98780e5fbba7c9891.setContent%28html_dd269ef2af8242c1a65dc4d8fd31f924%29%3B%0A%20%20%20%20%20%20%20%20%0A%0A%20%20%20%20%20%20%20%20circle_marker_0cf602d7bc494b37951b05a2d3de6257.bindPopup%28popup_bc511c0b6edf4bc98780e5fbba7c9891%29%0A%20%20%20%20%20%20%20%20%3B%0A%0A%20%20%20%20%20%20%20%20%0A%20%20%20%20%0A%20%20%20%20%0A%20%20%20%20%20%20%20%20%20%20%20%20var%20circle_marker_e2db494b8c5a4d0ea590d7c6258022b1%20%3D%20L.circleMarker%28%0A%20%20%20%20%20%20%20%20%20%20%20%20%20%20%20%20%5B40.714267%2C%20-74.008756%5D%2C%0A%20%20%20%20%20%20%20%20%20%20%20%20%20%20%20%20%7B%22bubblingMouseEvents%22%3A%20true%2C%20%22color%22%3A%20%22blue%22%2C%20%22dashArray%22%3A%20null%2C%20%22dashOffset%22%3A%20null%2C%20%22fill%22%3A%20true%2C%20%22fillColor%22%3A%20%22blue%22%2C%20%22fillOpacity%22%3A%200.6%2C%20%22fillRule%22%3A%20%22evenodd%22%2C%20%22lineCap%22%3A%20%22round%22%2C%20%22lineJoin%22%3A%20%22round%22%2C%20%22opacity%22%3A%201.0%2C%20%22radius%22%3A%205%2C%20%22stroke%22%3A%20true%2C%20%22weight%22%3A%203%7D%0A%20%20%20%20%20%20%20%20%20%20%20%20%29.addTo%28map_e55cbe40749947bdb0d49d2c64c6db67%29%3B%0A%20%20%20%20%20%20%20%20%0A%20%20%20%20%0A%20%20%20%20%20%20%20%20var%20popup_ae8a1bc87a404d1c9870d131bc99a9ea%20%3D%20L.popup%28%7B%22maxWidth%22%3A%20%22100%25%22%7D%29%3B%0A%0A%20%20%20%20%20%20%20%20%0A%20%20%20%20%20%20%20%20%20%20%20%20var%20html_387109ac1dc641c7ab376b5e3903bf4f%20%3D%20%24%28%60%3Cdiv%20id%3D%22html_387109ac1dc641c7ab376b5e3903bf4f%22%20style%3D%22width%3A%20100.0%25%3B%20height%3A%20100.0%25%3B%22%3ETaco%20Place%3C/div%3E%60%29%5B0%5D%3B%0A%20%20%20%20%20%20%20%20%20%20%20%20popup_ae8a1bc87a404d1c9870d131bc99a9ea.setContent%28html_387109ac1dc641c7ab376b5e3903bf4f%29%3B%0A%20%20%20%20%20%20%20%20%0A%0A%20%20%20%20%20%20%20%20circle_marker_e2db494b8c5a4d0ea590d7c6258022b1.bindPopup%28popup_ae8a1bc87a404d1c9870d131bc99a9ea%29%0A%20%20%20%20%20%20%20%20%3B%0A%0A%20%20%20%20%20%20%20%20%0A%20%20%20%20%0A%20%20%20%20%0A%20%20%20%20%20%20%20%20%20%20%20%20var%20circle_marker_07cf35334e2c4ea1b3db8072ae11df69%20%3D%20L.circleMarker%28%0A%20%20%20%20%20%20%20%20%20%20%20%20%20%20%20%20%5B40.713652845301894%2C%20-74.0088038953017%5D%2C%0A%20%20%20%20%20%20%20%20%20%20%20%20%20%20%20%20%7B%22bubblingMouseEvents%22%3A%20true%2C%20%22color%22%3A%20%22blue%22%2C%20%22dashArray%22%3A%20null%2C%20%22dashOffset%22%3A%20null%2C%20%22fill%22%3A%20true%2C%20%22fillColor%22%3A%20%22blue%22%2C%20%22fillOpacity%22%3A%200.6%2C%20%22fillRule%22%3A%20%22evenodd%22%2C%20%22lineCap%22%3A%20%22round%22%2C%20%22lineJoin%22%3A%20%22round%22%2C%20%22opacity%22%3A%201.0%2C%20%22radius%22%3A%205%2C%20%22stroke%22%3A%20true%2C%20%22weight%22%3A%203%7D%0A%20%20%20%20%20%20%20%20%20%20%20%20%29.addTo%28map_e55cbe40749947bdb0d49d2c64c6db67%29%3B%0A%20%20%20%20%20%20%20%20%0A%20%20%20%20%0A%20%20%20%20%20%20%20%20var%20popup_4d140e3fe9fe4fd89eb363663f32060f%20%3D%20L.popup%28%7B%22maxWidth%22%3A%20%22100%25%22%7D%29%3B%0A%0A%20%20%20%20%20%20%20%20%0A%20%20%20%20%20%20%20%20%20%20%20%20var%20html_8dd793059e1449018b8f48906faab2d4%20%3D%20%24%28%60%3Cdiv%20id%3D%22html_8dd793059e1449018b8f48906faab2d4%22%20style%3D%22width%3A%20100.0%25%3B%20height%3A%20100.0%25%3B%22%3EBakery%3C/div%3E%60%29%5B0%5D%3B%0A%20%20%20%20%20%20%20%20%20%20%20%20popup_4d140e3fe9fe4fd89eb363663f32060f.setContent%28html_8dd793059e1449018b8f48906faab2d4%29%3B%0A%20%20%20%20%20%20%20%20%0A%0A%20%20%20%20%20%20%20%20circle_marker_07cf35334e2c4ea1b3db8072ae11df69.bindPopup%28popup_4d140e3fe9fe4fd89eb363663f32060f%29%0A%20%20%20%20%20%20%20%20%3B%0A%0A%20%20%20%20%20%20%20%20%0A%20%20%20%20%0A%20%20%20%20%0A%20%20%20%20%20%20%20%20%20%20%20%20var%20circle_marker_2bdb59968ff54eb6b3377271b28469ec%20%3D%20L.circleMarker%28%0A%20%20%20%20%20%20%20%20%20%20%20%20%20%20%20%20%5B40.71478769908051%2C%20-74.0111317502157%5D%2C%0A%20%20%20%20%20%20%20%20%20%20%20%20%20%20%20%20%7B%22bubblingMouseEvents%22%3A%20true%2C%20%22color%22%3A%20%22blue%22%2C%20%22dashArray%22%3A%20null%2C%20%22dashOffset%22%3A%20null%2C%20%22fill%22%3A%20true%2C%20%22fillColor%22%3A%20%22blue%22%2C%20%22fillOpacity%22%3A%200.6%2C%20%22fillRule%22%3A%20%22evenodd%22%2C%20%22lineCap%22%3A%20%22round%22%2C%20%22lineJoin%22%3A%20%22round%22%2C%20%22opacity%22%3A%201.0%2C%20%22radius%22%3A%205%2C%20%22stroke%22%3A%20true%2C%20%22weight%22%3A%203%7D%0A%20%20%20%20%20%20%20%20%20%20%20%20%29.addTo%28map_e55cbe40749947bdb0d49d2c64c6db67%29%3B%0A%20%20%20%20%20%20%20%20%0A%20%20%20%20%0A%20%20%20%20%20%20%20%20var%20popup_ed201c219dc84d27b801a543ca3fbe95%20%3D%20L.popup%28%7B%22maxWidth%22%3A%20%22100%25%22%7D%29%3B%0A%0A%20%20%20%20%20%20%20%20%0A%20%20%20%20%20%20%20%20%20%20%20%20var%20html_34a44d0726af4bf9a80d165b9d887a6d%20%3D%20%24%28%60%3Cdiv%20id%3D%22html_34a44d0726af4bf9a80d165b9d887a6d%22%20style%3D%22width%3A%20100.0%25%3B%20height%3A%20100.0%25%3B%22%3EVegetarian%20/%20Vegan%20Restaurant%3C/div%3E%60%29%5B0%5D%3B%0A%20%20%20%20%20%20%20%20%20%20%20%20popup_ed201c219dc84d27b801a543ca3fbe95.setContent%28html_34a44d0726af4bf9a80d165b9d887a6d%29%3B%0A%20%20%20%20%20%20%20%20%0A%0A%20%20%20%20%20%20%20%20circle_marker_2bdb59968ff54eb6b3377271b28469ec.bindPopup%28popup_ed201c219dc84d27b801a543ca3fbe95%29%0A%20%20%20%20%20%20%20%20%3B%0A%0A%20%20%20%20%20%20%20%20%0A%20%20%20%20%0A%20%20%20%20%0A%20%20%20%20%20%20%20%20%20%20%20%20var%20circle_marker_7b1e381a7c0d471cbf2e63a4bbe36128%20%3D%20L.circleMarker%28%0A%20%20%20%20%20%20%20%20%20%20%20%20%20%20%20%20%5B40.71652647412374%2C%20-74.00810108466207%5D%2C%0A%20%20%20%20%20%20%20%20%20%20%20%20%20%20%20%20%7B%22bubblingMouseEvents%22%3A%20true%2C%20%22color%22%3A%20%22blue%22%2C%20%22dashArray%22%3A%20null%2C%20%22dashOffset%22%3A%20null%2C%20%22fill%22%3A%20true%2C%20%22fillColor%22%3A%20%22blue%22%2C%20%22fillOpacity%22%3A%200.6%2C%20%22fillRule%22%3A%20%22evenodd%22%2C%20%22lineCap%22%3A%20%22round%22%2C%20%22lineJoin%22%3A%20%22round%22%2C%20%22opacity%22%3A%201.0%2C%20%22radius%22%3A%205%2C%20%22stroke%22%3A%20true%2C%20%22weight%22%3A%203%7D%0A%20%20%20%20%20%20%20%20%20%20%20%20%29.addTo%28map_e55cbe40749947bdb0d49d2c64c6db67%29%3B%0A%20%20%20%20%20%20%20%20%0A%20%20%20%20%0A%20%20%20%20%20%20%20%20var%20popup_709a2c5a9bc04984bee443854833da7a%20%3D%20L.popup%28%7B%22maxWidth%22%3A%20%22100%25%22%7D%29%3B%0A%0A%20%20%20%20%20%20%20%20%0A%20%20%20%20%20%20%20%20%20%20%20%20var%20html_d1c4f9a2f6bb4dbc98e9ef60793e795b%20%3D%20%24%28%60%3Cdiv%20id%3D%22html_d1c4f9a2f6bb4dbc98e9ef60793e795b%22%20style%3D%22width%3A%20100.0%25%3B%20height%3A%20100.0%25%3B%22%3ESushi%20Restaurant%3C/div%3E%60%29%5B0%5D%3B%0A%20%20%20%20%20%20%20%20%20%20%20%20popup_709a2c5a9bc04984bee443854833da7a.setContent%28html_d1c4f9a2f6bb4dbc98e9ef60793e795b%29%3B%0A%20%20%20%20%20%20%20%20%0A%0A%20%20%20%20%20%20%20%20circle_marker_7b1e381a7c0d471cbf2e63a4bbe36128.bindPopup%28popup_709a2c5a9bc04984bee443854833da7a%29%0A%20%20%20%20%20%20%20%20%3B%0A%0A%20%20%20%20%20%20%20%20%0A%20%20%20%20%0A%20%20%20%20%0A%20%20%20%20%20%20%20%20%20%20%20%20var%20circle_marker_1f64714848074481a3f4ced85979aaf7%20%3D%20L.circleMarker%28%0A%20%20%20%20%20%20%20%20%20%20%20%20%20%20%20%20%5B40.71528423132827%2C%20-74.00878093952018%5D%2C%0A%20%20%20%20%20%20%20%20%20%20%20%20%20%20%20%20%7B%22bubblingMouseEvents%22%3A%20true%2C%20%22color%22%3A%20%22blue%22%2C%20%22dashArray%22%3A%20null%2C%20%22dashOffset%22%3A%20null%2C%20%22fill%22%3A%20true%2C%20%22fillColor%22%3A%20%22blue%22%2C%20%22fillOpacity%22%3A%200.6%2C%20%22fillRule%22%3A%20%22evenodd%22%2C%20%22lineCap%22%3A%20%22round%22%2C%20%22lineJoin%22%3A%20%22round%22%2C%20%22opacity%22%3A%201.0%2C%20%22radius%22%3A%205%2C%20%22stroke%22%3A%20true%2C%20%22weight%22%3A%203%7D%0A%20%20%20%20%20%20%20%20%20%20%20%20%29.addTo%28map_e55cbe40749947bdb0d49d2c64c6db67%29%3B%0A%20%20%20%20%20%20%20%20%0A%20%20%20%20%0A%20%20%20%20%20%20%20%20var%20popup_6a82b319933f4c75af798ec28bf357bf%20%3D%20L.popup%28%7B%22maxWidth%22%3A%20%22100%25%22%7D%29%3B%0A%0A%20%20%20%20%20%20%20%20%0A%20%20%20%20%20%20%20%20%20%20%20%20var%20html_6228f67a9e4a4d82b24ad83d24aba65c%20%3D%20%24%28%60%3Cdiv%20id%3D%22html_6228f67a9e4a4d82b24ad83d24aba65c%22%20style%3D%22width%3A%20100.0%25%3B%20height%3A%20100.0%25%3B%22%3EAntique%20Shop%3C/div%3E%60%29%5B0%5D%3B%0A%20%20%20%20%20%20%20%20%20%20%20%20popup_6a82b319933f4c75af798ec28bf357bf.setContent%28html_6228f67a9e4a4d82b24ad83d24aba65c%29%3B%0A%20%20%20%20%20%20%20%20%0A%0A%20%20%20%20%20%20%20%20circle_marker_1f64714848074481a3f4ced85979aaf7.bindPopup%28popup_6a82b319933f4c75af798ec28bf357bf%29%0A%20%20%20%20%20%20%20%20%3B%0A%0A%20%20%20%20%20%20%20%20%0A%20%20%20%20%0A%20%20%20%20%0A%20%20%20%20%20%20%20%20%20%20%20%20var%20circle_marker_0a8c99e00290444aa860e378aeca25ac%20%3D%20L.circleMarker%28%0A%20%20%20%20%20%20%20%20%20%20%20%20%20%20%20%20%5B40.715726%2C%20-74.007767%5D%2C%0A%20%20%20%20%20%20%20%20%20%20%20%20%20%20%20%20%7B%22bubblingMouseEvents%22%3A%20true%2C%20%22color%22%3A%20%22blue%22%2C%20%22dashArray%22%3A%20null%2C%20%22dashOffset%22%3A%20null%2C%20%22fill%22%3A%20true%2C%20%22fillColor%22%3A%20%22blue%22%2C%20%22fillOpacity%22%3A%200.6%2C%20%22fillRule%22%3A%20%22evenodd%22%2C%20%22lineCap%22%3A%20%22round%22%2C%20%22lineJoin%22%3A%20%22round%22%2C%20%22opacity%22%3A%201.0%2C%20%22radius%22%3A%205%2C%20%22stroke%22%3A%20true%2C%20%22weight%22%3A%203%7D%0A%20%20%20%20%20%20%20%20%20%20%20%20%29.addTo%28map_e55cbe40749947bdb0d49d2c64c6db67%29%3B%0A%20%20%20%20%20%20%20%20%0A%20%20%20%20%0A%20%20%20%20%20%20%20%20var%20popup_9012427a8bc74ef1b5eaa95b6ee342d9%20%3D%20L.popup%28%7B%22maxWidth%22%3A%20%22100%25%22%7D%29%3B%0A%0A%20%20%20%20%20%20%20%20%0A%20%20%20%20%20%20%20%20%20%20%20%20var%20html_e2e4a7bce47841b9bfca7c288d5d7169%20%3D%20%24%28%60%3Cdiv%20id%3D%22html_e2e4a7bce47841b9bfca7c288d5d7169%22%20style%3D%22width%3A%20100.0%25%3B%20height%3A%20100.0%25%3B%22%3ESpa%3C/div%3E%60%29%5B0%5D%3B%0A%20%20%20%20%20%20%20%20%20%20%20%20popup_9012427a8bc74ef1b5eaa95b6ee342d9.setContent%28html_e2e4a7bce47841b9bfca7c288d5d7169%29%3B%0A%20%20%20%20%20%20%20%20%0A%0A%20%20%20%20%20%20%20%20circle_marker_0a8c99e00290444aa860e378aeca25ac.bindPopup%28popup_9012427a8bc74ef1b5eaa95b6ee342d9%29%0A%20%20%20%20%20%20%20%20%3B%0A%0A%20%20%20%20%20%20%20%20%0A%20%20%20%20%0A%20%20%20%20%0A%20%20%20%20%20%20%20%20%20%20%20%20var%20circle_marker_deceecfa9fae459ba2293d54f91bab32%20%3D%20L.circleMarker%28%0A%20%20%20%20%20%20%20%20%20%20%20%20%20%20%20%20%5B40.715246%2C%20-74.010559%5D%2C%0A%20%20%20%20%20%20%20%20%20%20%20%20%20%20%20%20%7B%22bubblingMouseEvents%22%3A%20true%2C%20%22color%22%3A%20%22blue%22%2C%20%22dashArray%22%3A%20null%2C%20%22dashOffset%22%3A%20null%2C%20%22fill%22%3A%20true%2C%20%22fillColor%22%3A%20%22blue%22%2C%20%22fillOpacity%22%3A%200.6%2C%20%22fillRule%22%3A%20%22evenodd%22%2C%20%22lineCap%22%3A%20%22round%22%2C%20%22lineJoin%22%3A%20%22round%22%2C%20%22opacity%22%3A%201.0%2C%20%22radius%22%3A%205%2C%20%22stroke%22%3A%20true%2C%20%22weight%22%3A%203%7D%0A%20%20%20%20%20%20%20%20%20%20%20%20%29.addTo%28map_e55cbe40749947bdb0d49d2c64c6db67%29%3B%0A%20%20%20%20%20%20%20%20%0A%20%20%20%20%0A%20%20%20%20%20%20%20%20var%20popup_cb857ce30c814ca1bde63658072c2aa4%20%3D%20L.popup%28%7B%22maxWidth%22%3A%20%22100%25%22%7D%29%3B%0A%0A%20%20%20%20%20%20%20%20%0A%20%20%20%20%20%20%20%20%20%20%20%20var%20html_4bb55507613246e6ad02e43698f107b0%20%3D%20%24%28%60%3Cdiv%20id%3D%22html_4bb55507613246e6ad02e43698f107b0%22%20style%3D%22width%3A%20100.0%25%3B%20height%3A%20100.0%25%3B%22%3EBurger%20Joint%3C/div%3E%60%29%5B0%5D%3B%0A%20%20%20%20%20%20%20%20%20%20%20%20popup_cb857ce30c814ca1bde63658072c2aa4.setContent%28html_4bb55507613246e6ad02e43698f107b0%29%3B%0A%20%20%20%20%20%20%20%20%0A%0A%20%20%20%20%20%20%20%20circle_marker_deceecfa9fae459ba2293d54f91bab32.bindPopup%28popup_cb857ce30c814ca1bde63658072c2aa4%29%0A%20%20%20%20%20%20%20%20%3B%0A%0A%20%20%20%20%20%20%20%20%0A%20%20%20%20%0A%20%20%20%20%0A%20%20%20%20%20%20%20%20%20%20%20%20var%20circle_marker_9b305ac0f0304d9d8bbc797f94fc39a4%20%3D%20L.circleMarker%28%0A%20%20%20%20%20%20%20%20%20%20%20%20%20%20%20%20%5B40.715773063928374%2C%20-74.00971823312332%5D%2C%0A%20%20%20%20%20%20%20%20%20%20%20%20%20%20%20%20%7B%22bubblingMouseEvents%22%3A%20true%2C%20%22color%22%3A%20%22blue%22%2C%20%22dashArray%22%3A%20null%2C%20%22dashOffset%22%3A%20null%2C%20%22fill%22%3A%20true%2C%20%22fillColor%22%3A%20%22blue%22%2C%20%22fillOpacity%22%3A%200.6%2C%20%22fillRule%22%3A%20%22evenodd%22%2C%20%22lineCap%22%3A%20%22round%22%2C%20%22lineJoin%22%3A%20%22round%22%2C%20%22opacity%22%3A%201.0%2C%20%22radius%22%3A%205%2C%20%22stroke%22%3A%20true%2C%20%22weight%22%3A%203%7D%0A%20%20%20%20%20%20%20%20%20%20%20%20%29.addTo%28map_e55cbe40749947bdb0d49d2c64c6db67%29%3B%0A%20%20%20%20%20%20%20%20%0A%20%20%20%20%0A%20%20%20%20%20%20%20%20var%20popup_d707b2817b5e4818b2f5cca8dec5c299%20%3D%20L.popup%28%7B%22maxWidth%22%3A%20%22100%25%22%7D%29%3B%0A%0A%20%20%20%20%20%20%20%20%0A%20%20%20%20%20%20%20%20%20%20%20%20var%20html_c8b149f287fc409a8a82de74177bb7b9%20%3D%20%24%28%60%3Cdiv%20id%3D%22html_c8b149f287fc409a8a82de74177bb7b9%22%20style%3D%22width%3A%20100.0%25%3B%20height%3A%20100.0%25%3B%22%3EWine%20Shop%3C/div%3E%60%29%5B0%5D%3B%0A%20%20%20%20%20%20%20%20%20%20%20%20popup_d707b2817b5e4818b2f5cca8dec5c299.setContent%28html_c8b149f287fc409a8a82de74177bb7b9%29%3B%0A%20%20%20%20%20%20%20%20%0A%0A%20%20%20%20%20%20%20%20circle_marker_9b305ac0f0304d9d8bbc797f94fc39a4.bindPopup%28popup_d707b2817b5e4818b2f5cca8dec5c299%29%0A%20%20%20%20%20%20%20%20%3B%0A%0A%20%20%20%20%20%20%20%20%0A%20%20%20%20%0A%20%20%20%20%0A%20%20%20%20%20%20%20%20%20%20%20%20var%20circle_marker_e4fd23a72d024a419961ad1da313116e%20%3D%20L.circleMarker%28%0A%20%20%20%20%20%20%20%20%20%20%20%20%20%20%20%20%5B40.71674084163369%2C%20-74.0086664438893%5D%2C%0A%20%20%20%20%20%20%20%20%20%20%20%20%20%20%20%20%7B%22bubblingMouseEvents%22%3A%20true%2C%20%22color%22%3A%20%22blue%22%2C%20%22dashArray%22%3A%20null%2C%20%22dashOffset%22%3A%20null%2C%20%22fill%22%3A%20true%2C%20%22fillColor%22%3A%20%22blue%22%2C%20%22fillOpacity%22%3A%200.6%2C%20%22fillRule%22%3A%20%22evenodd%22%2C%20%22lineCap%22%3A%20%22round%22%2C%20%22lineJoin%22%3A%20%22round%22%2C%20%22opacity%22%3A%201.0%2C%20%22radius%22%3A%205%2C%20%22stroke%22%3A%20true%2C%20%22weight%22%3A%203%7D%0A%20%20%20%20%20%20%20%20%20%20%20%20%29.addTo%28map_e55cbe40749947bdb0d49d2c64c6db67%29%3B%0A%20%20%20%20%20%20%20%20%0A%20%20%20%20%0A%20%20%20%20%20%20%20%20var%20popup_57753425a16b41f88d43c7162057bdaa%20%3D%20L.popup%28%7B%22maxWidth%22%3A%20%22100%25%22%7D%29%3B%0A%0A%20%20%20%20%20%20%20%20%0A%20%20%20%20%20%20%20%20%20%20%20%20var%20html_5344dce3e3d649c2a8bf35e6d07d7a94%20%3D%20%24%28%60%3Cdiv%20id%3D%22html_5344dce3e3d649c2a8bf35e6d07d7a94%22%20style%3D%22width%3A%20100.0%25%3B%20height%3A%20100.0%25%3B%22%3ECocktail%20Bar%3C/div%3E%60%29%5B0%5D%3B%0A%20%20%20%20%20%20%20%20%20%20%20%20popup_57753425a16b41f88d43c7162057bdaa.setContent%28html_5344dce3e3d649c2a8bf35e6d07d7a94%29%3B%0A%20%20%20%20%20%20%20%20%0A%0A%20%20%20%20%20%20%20%20circle_marker_e4fd23a72d024a419961ad1da313116e.bindPopup%28popup_57753425a16b41f88d43c7162057bdaa%29%0A%20%20%20%20%20%20%20%20%3B%0A%0A%20%20%20%20%20%20%20%20%0A%20%20%20%20%0A%20%20%20%20%0A%20%20%20%20%20%20%20%20%20%20%20%20var%20circle_marker_ca4cb59af1204f61bb8a248c3f7e2292%20%3D%20L.circleMarker%28%0A%20%20%20%20%20%20%20%20%20%20%20%20%20%20%20%20%5B40.71409860726041%2C%20-74.0096857179283%5D%2C%0A%20%20%20%20%20%20%20%20%20%20%20%20%20%20%20%20%7B%22bubblingMouseEvents%22%3A%20true%2C%20%22color%22%3A%20%22blue%22%2C%20%22dashArray%22%3A%20null%2C%20%22dashOffset%22%3A%20null%2C%20%22fill%22%3A%20true%2C%20%22fillColor%22%3A%20%22blue%22%2C%20%22fillOpacity%22%3A%200.6%2C%20%22fillRule%22%3A%20%22evenodd%22%2C%20%22lineCap%22%3A%20%22round%22%2C%20%22lineJoin%22%3A%20%22round%22%2C%20%22opacity%22%3A%201.0%2C%20%22radius%22%3A%205%2C%20%22stroke%22%3A%20true%2C%20%22weight%22%3A%203%7D%0A%20%20%20%20%20%20%20%20%20%20%20%20%29.addTo%28map_e55cbe40749947bdb0d49d2c64c6db67%29%3B%0A%20%20%20%20%20%20%20%20%0A%20%20%20%20%0A%20%20%20%20%20%20%20%20var%20popup_c285daeed9634f0288ed5e088a97a606%20%3D%20L.popup%28%7B%22maxWidth%22%3A%20%22100%25%22%7D%29%3B%0A%0A%20%20%20%20%20%20%20%20%0A%20%20%20%20%20%20%20%20%20%20%20%20var%20html_5ae9df4487ad4f00b81840bde47e8cf9%20%3D%20%24%28%60%3Cdiv%20id%3D%22html_5ae9df4487ad4f00b81840bde47e8cf9%22%20style%3D%22width%3A%20100.0%25%3B%20height%3A%20100.0%25%3B%22%3EGym%3C/div%3E%60%29%5B0%5D%3B%0A%20%20%20%20%20%20%20%20%20%20%20%20popup_c285daeed9634f0288ed5e088a97a606.setContent%28html_5ae9df4487ad4f00b81840bde47e8cf9%29%3B%0A%20%20%20%20%20%20%20%20%0A%0A%20%20%20%20%20%20%20%20circle_marker_ca4cb59af1204f61bb8a248c3f7e2292.bindPopup%28popup_c285daeed9634f0288ed5e088a97a606%29%0A%20%20%20%20%20%20%20%20%3B%0A%0A%20%20%20%20%20%20%20%20%0A%20%20%20%20%0A%20%20%20%20%0A%20%20%20%20%20%20%20%20%20%20%20%20var%20circle_marker_bcfcf105fb6946aead0bd8e11a81e238%20%3D%20L.circleMarker%28%0A%20%20%20%20%20%20%20%20%20%20%20%20%20%20%20%20%5B40.71553710116416%2C%20-74.00772452925565%5D%2C%0A%20%20%20%20%20%20%20%20%20%20%20%20%20%20%20%20%7B%22bubblingMouseEvents%22%3A%20true%2C%20%22color%22%3A%20%22blue%22%2C%20%22dashArray%22%3A%20null%2C%20%22dashOffset%22%3A%20null%2C%20%22fill%22%3A%20true%2C%20%22fillColor%22%3A%20%22blue%22%2C%20%22fillOpacity%22%3A%200.6%2C%20%22fillRule%22%3A%20%22evenodd%22%2C%20%22lineCap%22%3A%20%22round%22%2C%20%22lineJoin%22%3A%20%22round%22%2C%20%22opacity%22%3A%201.0%2C%20%22radius%22%3A%205%2C%20%22stroke%22%3A%20true%2C%20%22weight%22%3A%203%7D%0A%20%20%20%20%20%20%20%20%20%20%20%20%29.addTo%28map_e55cbe40749947bdb0d49d2c64c6db67%29%3B%0A%20%20%20%20%20%20%20%20%0A%20%20%20%20%0A%20%20%20%20%20%20%20%20var%20popup_4bf87e43583d4894a1ed9b91a94d915d%20%3D%20L.popup%28%7B%22maxWidth%22%3A%20%22100%25%22%7D%29%3B%0A%0A%20%20%20%20%20%20%20%20%0A%20%20%20%20%20%20%20%20%20%20%20%20var%20html_f04ff6c21c0541d2a6eb1dd0340431fb%20%3D%20%24%28%60%3Cdiv%20id%3D%22html_f04ff6c21c0541d2a6eb1dd0340431fb%22%20style%3D%22width%3A%20100.0%25%3B%20height%3A%20100.0%25%3B%22%3EFalafel%20Restaurant%3C/div%3E%60%29%5B0%5D%3B%0A%20%20%20%20%20%20%20%20%20%20%20%20popup_4bf87e43583d4894a1ed9b91a94d915d.setContent%28html_f04ff6c21c0541d2a6eb1dd0340431fb%29%3B%0A%20%20%20%20%20%20%20%20%0A%0A%20%20%20%20%20%20%20%20circle_marker_bcfcf105fb6946aead0bd8e11a81e238.bindPopup%28popup_4bf87e43583d4894a1ed9b91a94d915d%29%0A%20%20%20%20%20%20%20%20%3B%0A%0A%20%20%20%20%20%20%20%20%0A%20%20%20%20%0A%20%20%20%20%0A%20%20%20%20%20%20%20%20%20%20%20%20var%20circle_marker_0c5043367fc94d3a99029b7aa243d593%20%3D%20L.circleMarker%28%0A%20%20%20%20%20%20%20%20%20%20%20%20%20%20%20%20%5B40.715579155420606%2C%20-74.01136823958119%5D%2C%0A%20%20%20%20%20%20%20%20%20%20%20%20%20%20%20%20%7B%22bubblingMouseEvents%22%3A%20true%2C%20%22color%22%3A%20%22blue%22%2C%20%22dashArray%22%3A%20null%2C%20%22dashOffset%22%3A%20null%2C%20%22fill%22%3A%20true%2C%20%22fillColor%22%3A%20%22blue%22%2C%20%22fillOpacity%22%3A%200.6%2C%20%22fillRule%22%3A%20%22evenodd%22%2C%20%22lineCap%22%3A%20%22round%22%2C%20%22lineJoin%22%3A%20%22round%22%2C%20%22opacity%22%3A%201.0%2C%20%22radius%22%3A%205%2C%20%22stroke%22%3A%20true%2C%20%22weight%22%3A%203%7D%0A%20%20%20%20%20%20%20%20%20%20%20%20%29.addTo%28map_e55cbe40749947bdb0d49d2c64c6db67%29%3B%0A%20%20%20%20%20%20%20%20%0A%20%20%20%20%0A%20%20%20%20%20%20%20%20var%20popup_bbeb36c510334d4697dc098147a7c2a4%20%3D%20L.popup%28%7B%22maxWidth%22%3A%20%22100%25%22%7D%29%3B%0A%0A%20%20%20%20%20%20%20%20%0A%20%20%20%20%20%20%20%20%20%20%20%20var%20html_7435b2e73f5d40889d191a896da3af92%20%3D%20%24%28%60%3Cdiv%20id%3D%22html_7435b2e73f5d40889d191a896da3af92%22%20style%3D%22width%3A%20100.0%25%3B%20height%3A%20100.0%25%3B%22%3EGrocery%20Store%3C/div%3E%60%29%5B0%5D%3B%0A%20%20%20%20%20%20%20%20%20%20%20%20popup_bbeb36c510334d4697dc098147a7c2a4.setContent%28html_7435b2e73f5d40889d191a896da3af92%29%3B%0A%20%20%20%20%20%20%20%20%0A%0A%20%20%20%20%20%20%20%20circle_marker_0c5043367fc94d3a99029b7aa243d593.bindPopup%28popup_bbeb36c510334d4697dc098147a7c2a4%29%0A%20%20%20%20%20%20%20%20%3B%0A%0A%20%20%20%20%20%20%20%20%0A%20%20%20%20%0A%20%20%20%20%0A%20%20%20%20%20%20%20%20%20%20%20%20var%20circle_marker_f93df08529004f6383a683b0346b9077%20%3D%20L.circleMarker%28%0A%20%20%20%20%20%20%20%20%20%20%20%20%20%20%20%20%5B40.716752816876635%2C%20-74.00858376295221%5D%2C%0A%20%20%20%20%20%20%20%20%20%20%20%20%20%20%20%20%7B%22bubblingMouseEvents%22%3A%20true%2C%20%22color%22%3A%20%22blue%22%2C%20%22dashArray%22%3A%20null%2C%20%22dashOffset%22%3A%20null%2C%20%22fill%22%3A%20true%2C%20%22fillColor%22%3A%20%22blue%22%2C%20%22fillOpacity%22%3A%200.6%2C%20%22fillRule%22%3A%20%22evenodd%22%2C%20%22lineCap%22%3A%20%22round%22%2C%20%22lineJoin%22%3A%20%22round%22%2C%20%22opacity%22%3A%201.0%2C%20%22radius%22%3A%205%2C%20%22stroke%22%3A%20true%2C%20%22weight%22%3A%203%7D%0A%20%20%20%20%20%20%20%20%20%20%20%20%29.addTo%28map_e55cbe40749947bdb0d49d2c64c6db67%29%3B%0A%20%20%20%20%20%20%20%20%0A%20%20%20%20%0A%20%20%20%20%20%20%20%20var%20popup_e4dd56c3c1a44b8898350ad7b75ab4fe%20%3D%20L.popup%28%7B%22maxWidth%22%3A%20%22100%25%22%7D%29%3B%0A%0A%20%20%20%20%20%20%20%20%0A%20%20%20%20%20%20%20%20%20%20%20%20var%20html_b7bf26338d944b10842e29764a696e28%20%3D%20%24%28%60%3Cdiv%20id%3D%22html_b7bf26338d944b10842e29764a696e28%22%20style%3D%22width%3A%20100.0%25%3B%20height%3A%20100.0%25%3B%22%3EAsian%20Restaurant%3C/div%3E%60%29%5B0%5D%3B%0A%20%20%20%20%20%20%20%20%20%20%20%20popup_e4dd56c3c1a44b8898350ad7b75ab4fe.setContent%28html_b7bf26338d944b10842e29764a696e28%29%3B%0A%20%20%20%20%20%20%20%20%0A%0A%20%20%20%20%20%20%20%20circle_marker_f93df08529004f6383a683b0346b9077.bindPopup%28popup_e4dd56c3c1a44b8898350ad7b75ab4fe%29%0A%20%20%20%20%20%20%20%20%3B%0A%0A%20%20%20%20%20%20%20%20%0A%20%20%20%20%0A%20%20%20%20%0A%20%20%20%20%20%20%20%20%20%20%20%20var%20circle_marker_2c9bdb90af9e409f97dbe377f9c5ce6a%20%3D%20L.circleMarker%28%0A%20%20%20%20%20%20%20%20%20%20%20%20%20%20%20%20%5B40.71637984317071%2C%20-74.00962933453428%5D%2C%0A%20%20%20%20%20%20%20%20%20%20%20%20%20%20%20%20%7B%22bubblingMouseEvents%22%3A%20true%2C%20%22color%22%3A%20%22blue%22%2C%20%22dashArray%22%3A%20null%2C%20%22dashOffset%22%3A%20null%2C%20%22fill%22%3A%20true%2C%20%22fillColor%22%3A%20%22blue%22%2C%20%22fillOpacity%22%3A%200.6%2C%20%22fillRule%22%3A%20%22evenodd%22%2C%20%22lineCap%22%3A%20%22round%22%2C%20%22lineJoin%22%3A%20%22round%22%2C%20%22opacity%22%3A%201.0%2C%20%22radius%22%3A%205%2C%20%22stroke%22%3A%20true%2C%20%22weight%22%3A%203%7D%0A%20%20%20%20%20%20%20%20%20%20%20%20%29.addTo%28map_e55cbe40749947bdb0d49d2c64c6db67%29%3B%0A%20%20%20%20%20%20%20%20%0A%20%20%20%20%0A%20%20%20%20%20%20%20%20var%20popup_66f7738fec1448fa862f164e6687734e%20%3D%20L.popup%28%7B%22maxWidth%22%3A%20%22100%25%22%7D%29%3B%0A%0A%20%20%20%20%20%20%20%20%0A%20%20%20%20%20%20%20%20%20%20%20%20var%20html_fd1941b5f67d49bb88c83a4c6c1a52fb%20%3D%20%24%28%60%3Cdiv%20id%3D%22html_fd1941b5f67d49bb88c83a4c6c1a52fb%22%20style%3D%22width%3A%20100.0%25%3B%20height%3A%20100.0%25%3B%22%3ENew%20American%20Restaurant%3C/div%3E%60%29%5B0%5D%3B%0A%20%20%20%20%20%20%20%20%20%20%20%20popup_66f7738fec1448fa862f164e6687734e.setContent%28html_fd1941b5f67d49bb88c83a4c6c1a52fb%29%3B%0A%20%20%20%20%20%20%20%20%0A%0A%20%20%20%20%20%20%20%20circle_marker_2c9bdb90af9e409f97dbe377f9c5ce6a.bindPopup%28popup_66f7738fec1448fa862f164e6687734e%29%0A%20%20%20%20%20%20%20%20%3B%0A%0A%20%20%20%20%20%20%20%20%0A%20%20%20%20%0A%20%20%20%20%0A%20%20%20%20%20%20%20%20%20%20%20%20var%20circle_marker_89c5c927352c490b800ca618f4c55a6e%20%3D%20L.circleMarker%28%0A%20%20%20%20%20%20%20%20%20%20%20%20%20%20%20%20%5B40.71701011409906%2C%20-74.00804244562225%5D%2C%0A%20%20%20%20%20%20%20%20%20%20%20%20%20%20%20%20%7B%22bubblingMouseEvents%22%3A%20true%2C%20%22color%22%3A%20%22blue%22%2C%20%22dashArray%22%3A%20null%2C%20%22dashOffset%22%3A%20null%2C%20%22fill%22%3A%20true%2C%20%22fillColor%22%3A%20%22blue%22%2C%20%22fillOpacity%22%3A%200.6%2C%20%22fillRule%22%3A%20%22evenodd%22%2C%20%22lineCap%22%3A%20%22round%22%2C%20%22lineJoin%22%3A%20%22round%22%2C%20%22opacity%22%3A%201.0%2C%20%22radius%22%3A%205%2C%20%22stroke%22%3A%20true%2C%20%22weight%22%3A%203%7D%0A%20%20%20%20%20%20%20%20%20%20%20%20%29.addTo%28map_e55cbe40749947bdb0d49d2c64c6db67%29%3B%0A%20%20%20%20%20%20%20%20%0A%20%20%20%20%0A%20%20%20%20%20%20%20%20var%20popup_4c00570e839242e6b640ad59e79074ce%20%3D%20L.popup%28%7B%22maxWidth%22%3A%20%22100%25%22%7D%29%3B%0A%0A%20%20%20%20%20%20%20%20%0A%20%20%20%20%20%20%20%20%20%20%20%20var%20html_92f5051acab94c608f4b9046bd690eb4%20%3D%20%24%28%60%3Cdiv%20id%3D%22html_92f5051acab94c608f4b9046bd690eb4%22%20style%3D%22width%3A%20100.0%25%3B%20height%3A%20100.0%25%3B%22%3EFrench%20Restaurant%3C/div%3E%60%29%5B0%5D%3B%0A%20%20%20%20%20%20%20%20%20%20%20%20popup_4c00570e839242e6b640ad59e79074ce.setContent%28html_92f5051acab94c608f4b9046bd690eb4%29%3B%0A%20%20%20%20%20%20%20%20%0A%0A%20%20%20%20%20%20%20%20circle_marker_89c5c927352c490b800ca618f4c55a6e.bindPopup%28popup_4c00570e839242e6b640ad59e79074ce%29%0A%20%20%20%20%20%20%20%20%3B%0A%0A%20%20%20%20%20%20%20%20%0A%20%20%20%20%0A%20%20%20%20%0A%20%20%20%20%20%20%20%20%20%20%20%20var%20circle_marker_ae955b9ba6f843b187dcd38c7b0e667a%20%3D%20L.circleMarker%28%0A%20%20%20%20%20%20%20%20%20%20%20%20%20%20%20%20%5B40.71679304855808%2C%20-74.00821998878457%5D%2C%0A%20%20%20%20%20%20%20%20%20%20%20%20%20%20%20%20%7B%22bubblingMouseEvents%22%3A%20true%2C%20%22color%22%3A%20%22blue%22%2C%20%22dashArray%22%3A%20null%2C%20%22dashOffset%22%3A%20null%2C%20%22fill%22%3A%20true%2C%20%22fillColor%22%3A%20%22blue%22%2C%20%22fillOpacity%22%3A%200.6%2C%20%22fillRule%22%3A%20%22evenodd%22%2C%20%22lineCap%22%3A%20%22round%22%2C%20%22lineJoin%22%3A%20%22round%22%2C%20%22opacity%22%3A%201.0%2C%20%22radius%22%3A%205%2C%20%22stroke%22%3A%20true%2C%20%22weight%22%3A%203%7D%0A%20%20%20%20%20%20%20%20%20%20%20%20%29.addTo%28map_e55cbe40749947bdb0d49d2c64c6db67%29%3B%0A%20%20%20%20%20%20%20%20%0A%20%20%20%20%0A%20%20%20%20%20%20%20%20var%20popup_8332e9355151468ca343471f233be482%20%3D%20L.popup%28%7B%22maxWidth%22%3A%20%22100%25%22%7D%29%3B%0A%0A%20%20%20%20%20%20%20%20%0A%20%20%20%20%20%20%20%20%20%20%20%20var%20html_aa2f7738bc784d9db2260563a6e8b872%20%3D%20%24%28%60%3Cdiv%20id%3D%22html_aa2f7738bc784d9db2260563a6e8b872%22%20style%3D%22width%3A%20100.0%25%3B%20height%3A%20100.0%25%3B%22%3EAmerican%20Restaurant%3C/div%3E%60%29%5B0%5D%3B%0A%20%20%20%20%20%20%20%20%20%20%20%20popup_8332e9355151468ca343471f233be482.setContent%28html_aa2f7738bc784d9db2260563a6e8b872%29%3B%0A%20%20%20%20%20%20%20%20%0A%0A%20%20%20%20%20%20%20%20circle_marker_ae955b9ba6f843b187dcd38c7b0e667a.bindPopup%28popup_8332e9355151468ca343471f233be482%29%0A%20%20%20%20%20%20%20%20%3B%0A%0A%20%20%20%20%20%20%20%20%0A%20%20%20%20%0A%20%20%20%20%0A%20%20%20%20%20%20%20%20%20%20%20%20var%20circle_marker_e9e0a895d49f419e9c41524d4ae7a3aa%20%3D%20L.circleMarker%28%0A%20%20%20%20%20%20%20%20%20%20%20%20%20%20%20%20%5B40.71717275801168%2C%20-74.00932869125117%5D%2C%0A%20%20%20%20%20%20%20%20%20%20%20%20%20%20%20%20%7B%22bubblingMouseEvents%22%3A%20true%2C%20%22color%22%3A%20%22blue%22%2C%20%22dashArray%22%3A%20null%2C%20%22dashOffset%22%3A%20null%2C%20%22fill%22%3A%20true%2C%20%22fillColor%22%3A%20%22blue%22%2C%20%22fillOpacity%22%3A%200.6%2C%20%22fillRule%22%3A%20%22evenodd%22%2C%20%22lineCap%22%3A%20%22round%22%2C%20%22lineJoin%22%3A%20%22round%22%2C%20%22opacity%22%3A%201.0%2C%20%22radius%22%3A%205%2C%20%22stroke%22%3A%20true%2C%20%22weight%22%3A%203%7D%0A%20%20%20%20%20%20%20%20%20%20%20%20%29.addTo%28map_e55cbe40749947bdb0d49d2c64c6db67%29%3B%0A%20%20%20%20%20%20%20%20%0A%20%20%20%20%0A%20%20%20%20%20%20%20%20var%20popup_0685bdde5c55459eb35859fa13641604%20%3D%20L.popup%28%7B%22maxWidth%22%3A%20%22100%25%22%7D%29%3B%0A%0A%20%20%20%20%20%20%20%20%0A%20%20%20%20%20%20%20%20%20%20%20%20var%20html_03df92e85a084cbab7e6a2af89c94644%20%3D%20%24%28%60%3Cdiv%20id%3D%22html_03df92e85a084cbab7e6a2af89c94644%22%20style%3D%22width%3A%20100.0%25%3B%20height%3A%20100.0%25%3B%22%3EPark%3C/div%3E%60%29%5B0%5D%3B%0A%20%20%20%20%20%20%20%20%20%20%20%20popup_0685bdde5c55459eb35859fa13641604.setContent%28html_03df92e85a084cbab7e6a2af89c94644%29%3B%0A%20%20%20%20%20%20%20%20%0A%0A%20%20%20%20%20%20%20%20circle_marker_e9e0a895d49f419e9c41524d4ae7a3aa.bindPopup%28popup_0685bdde5c55459eb35859fa13641604%29%0A%20%20%20%20%20%20%20%20%3B%0A%0A%20%20%20%20%20%20%20%20%0A%20%20%20%20%0A%20%20%20%20%0A%20%20%20%20%20%20%20%20%20%20%20%20var%20circle_marker_b6d14d3821c54ebba8552c6c6f743e74%20%3D%20L.circleMarker%28%0A%20%20%20%20%20%20%20%20%20%20%20%20%20%20%20%20%5B40.717350930983535%2C%20-74.00882542133331%5D%2C%0A%20%20%20%20%20%20%20%20%20%20%20%20%20%20%20%20%7B%22bubblingMouseEvents%22%3A%20true%2C%20%22color%22%3A%20%22blue%22%2C%20%22dashArray%22%3A%20null%2C%20%22dashOffset%22%3A%20null%2C%20%22fill%22%3A%20true%2C%20%22fillColor%22%3A%20%22blue%22%2C%20%22fillOpacity%22%3A%200.6%2C%20%22fillRule%22%3A%20%22evenodd%22%2C%20%22lineCap%22%3A%20%22round%22%2C%20%22lineJoin%22%3A%20%22round%22%2C%20%22opacity%22%3A%201.0%2C%20%22radius%22%3A%205%2C%20%22stroke%22%3A%20true%2C%20%22weight%22%3A%203%7D%0A%20%20%20%20%20%20%20%20%20%20%20%20%29.addTo%28map_e55cbe40749947bdb0d49d2c64c6db67%29%3B%0A%20%20%20%20%20%20%20%20%0A%20%20%20%20%0A%20%20%20%20%20%20%20%20var%20popup_827b6d5a35c14fefa0622e4443d4e16a%20%3D%20L.popup%28%7B%22maxWidth%22%3A%20%22100%25%22%7D%29%3B%0A%0A%20%20%20%20%20%20%20%20%0A%20%20%20%20%20%20%20%20%20%20%20%20var%20html_9b16d273036647e09bc8a1f5b9a8a2ef%20%3D%20%24%28%60%3Cdiv%20id%3D%22html_9b16d273036647e09bc8a1f5b9a8a2ef%22%20style%3D%22width%3A%20100.0%25%3B%20height%3A%20100.0%25%3B%22%3EClothing%20Store%3C/div%3E%60%29%5B0%5D%3B%0A%20%20%20%20%20%20%20%20%20%20%20%20popup_827b6d5a35c14fefa0622e4443d4e16a.setContent%28html_9b16d273036647e09bc8a1f5b9a8a2ef%29%3B%0A%20%20%20%20%20%20%20%20%0A%0A%20%20%20%20%20%20%20%20circle_marker_b6d14d3821c54ebba8552c6c6f743e74.bindPopup%28popup_827b6d5a35c14fefa0622e4443d4e16a%29%0A%20%20%20%20%20%20%20%20%3B%0A%0A%20%20%20%20%20%20%20%20%0A%20%20%20%20%0A%20%20%20%20%0A%20%20%20%20%20%20%20%20%20%20%20%20var%20circle_marker_cb3877393b1141cca14371d130b2be71%20%3D%20L.circleMarker%28%0A%20%20%20%20%20%20%20%20%20%20%20%20%20%20%20%20%5B40.713353574017404%2C%20-74.00906676030888%5D%2C%0A%20%20%20%20%20%20%20%20%20%20%20%20%20%20%20%20%7B%22bubblingMouseEvents%22%3A%20true%2C%20%22color%22%3A%20%22blue%22%2C%20%22dashArray%22%3A%20null%2C%20%22dashOffset%22%3A%20null%2C%20%22fill%22%3A%20true%2C%20%22fillColor%22%3A%20%22blue%22%2C%20%22fillOpacity%22%3A%200.6%2C%20%22fillRule%22%3A%20%22evenodd%22%2C%20%22lineCap%22%3A%20%22round%22%2C%20%22lineJoin%22%3A%20%22round%22%2C%20%22opacity%22%3A%201.0%2C%20%22radius%22%3A%205%2C%20%22stroke%22%3A%20true%2C%20%22weight%22%3A%203%7D%0A%20%20%20%20%20%20%20%20%20%20%20%20%29.addTo%28map_e55cbe40749947bdb0d49d2c64c6db67%29%3B%0A%20%20%20%20%20%20%20%20%0A%20%20%20%20%0A%20%20%20%20%20%20%20%20var%20popup_ca3cd532fbb94542b4cdc92236afdf4a%20%3D%20L.popup%28%7B%22maxWidth%22%3A%20%22100%25%22%7D%29%3B%0A%0A%20%20%20%20%20%20%20%20%0A%20%20%20%20%20%20%20%20%20%20%20%20var%20html_43e15f545ca3435dbd1fe7fcce14c7ba%20%3D%20%24%28%60%3Cdiv%20id%3D%22html_43e15f545ca3435dbd1fe7fcce14c7ba%22%20style%3D%22width%3A%20100.0%25%3B%20height%3A%20100.0%25%3B%22%3EBoxing%20Gym%3C/div%3E%60%29%5B0%5D%3B%0A%20%20%20%20%20%20%20%20%20%20%20%20popup_ca3cd532fbb94542b4cdc92236afdf4a.setContent%28html_43e15f545ca3435dbd1fe7fcce14c7ba%29%3B%0A%20%20%20%20%20%20%20%20%0A%0A%20%20%20%20%20%20%20%20circle_marker_cb3877393b1141cca14371d130b2be71.bindPopup%28popup_ca3cd532fbb94542b4cdc92236afdf4a%29%0A%20%20%20%20%20%20%20%20%3B%0A%0A%20%20%20%20%20%20%20%20%0A%20%20%20%20%0A%20%20%20%20%0A%20%20%20%20%20%20%20%20%20%20%20%20var%20circle_marker_f2d0cfbca17b4f08b9686cecfde362d7%20%3D%20L.circleMarker%28%0A%20%20%20%20%20%20%20%20%20%20%20%20%20%20%20%20%5B40.71550092965859%2C%20-74.00897677392395%5D%2C%0A%20%20%20%20%20%20%20%20%20%20%20%20%20%20%20%20%7B%22bubblingMouseEvents%22%3A%20true%2C%20%22color%22%3A%20%22blue%22%2C%20%22dashArray%22%3A%20null%2C%20%22dashOffset%22%3A%20null%2C%20%22fill%22%3A%20true%2C%20%22fillColor%22%3A%20%22blue%22%2C%20%22fillOpacity%22%3A%200.6%2C%20%22fillRule%22%3A%20%22evenodd%22%2C%20%22lineCap%22%3A%20%22round%22%2C%20%22lineJoin%22%3A%20%22round%22%2C%20%22opacity%22%3A%201.0%2C%20%22radius%22%3A%205%2C%20%22stroke%22%3A%20true%2C%20%22weight%22%3A%203%7D%0A%20%20%20%20%20%20%20%20%20%20%20%20%29.addTo%28map_e55cbe40749947bdb0d49d2c64c6db67%29%3B%0A%20%20%20%20%20%20%20%20%0A%20%20%20%20%0A%20%20%20%20%20%20%20%20var%20popup_2620ceb7df6548ada795a45bf00c7089%20%3D%20L.popup%28%7B%22maxWidth%22%3A%20%22100%25%22%7D%29%3B%0A%0A%20%20%20%20%20%20%20%20%0A%20%20%20%20%20%20%20%20%20%20%20%20var%20html_5292423be2e34af480209f2f86f95f3f%20%3D%20%24%28%60%3Cdiv%20id%3D%22html_5292423be2e34af480209f2f86f95f3f%22%20style%3D%22width%3A%20100.0%25%3B%20height%3A%20100.0%25%3B%22%3ECocktail%20Bar%3C/div%3E%60%29%5B0%5D%3B%0A%20%20%20%20%20%20%20%20%20%20%20%20popup_2620ceb7df6548ada795a45bf00c7089.setContent%28html_5292423be2e34af480209f2f86f95f3f%29%3B%0A%20%20%20%20%20%20%20%20%0A%0A%20%20%20%20%20%20%20%20circle_marker_f2d0cfbca17b4f08b9686cecfde362d7.bindPopup%28popup_2620ceb7df6548ada795a45bf00c7089%29%0A%20%20%20%20%20%20%20%20%3B%0A%0A%20%20%20%20%20%20%20%20%0A%20%20%20%20%0A%20%20%20%20%0A%20%20%20%20%20%20%20%20%20%20%20%20var%20circle_marker_6f05bb9f77b3489c97166b0e8045db43%20%3D%20L.circleMarker%28%0A%20%20%20%20%20%20%20%20%20%20%20%20%20%20%20%20%5B40.71447694276293%2C%20-74.0100388662148%5D%2C%0A%20%20%20%20%20%20%20%20%20%20%20%20%20%20%20%20%7B%22bubblingMouseEvents%22%3A%20true%2C%20%22color%22%3A%20%22blue%22%2C%20%22dashArray%22%3A%20null%2C%20%22dashOffset%22%3A%20null%2C%20%22fill%22%3A%20true%2C%20%22fillColor%22%3A%20%22blue%22%2C%20%22fillOpacity%22%3A%200.6%2C%20%22fillRule%22%3A%20%22evenodd%22%2C%20%22lineCap%22%3A%20%22round%22%2C%20%22lineJoin%22%3A%20%22round%22%2C%20%22opacity%22%3A%201.0%2C%20%22radius%22%3A%205%2C%20%22stroke%22%3A%20true%2C%20%22weight%22%3A%203%7D%0A%20%20%20%20%20%20%20%20%20%20%20%20%29.addTo%28map_e55cbe40749947bdb0d49d2c64c6db67%29%3B%0A%20%20%20%20%20%20%20%20%0A%20%20%20%20%0A%20%20%20%20%20%20%20%20var%20popup_7c1d776e136a413fac4fcda35c8bbc99%20%3D%20L.popup%28%7B%22maxWidth%22%3A%20%22100%25%22%7D%29%3B%0A%0A%20%20%20%20%20%20%20%20%0A%20%20%20%20%20%20%20%20%20%20%20%20var%20html_11690e3f5e4b43c99409a280edfdd0a3%20%3D%20%24%28%60%3Cdiv%20id%3D%22html_11690e3f5e4b43c99409a280edfdd0a3%22%20style%3D%22width%3A%20100.0%25%3B%20height%3A%20100.0%25%3B%22%3EWine%20Shop%3C/div%3E%60%29%5B0%5D%3B%0A%20%20%20%20%20%20%20%20%20%20%20%20popup_7c1d776e136a413fac4fcda35c8bbc99.setContent%28html_11690e3f5e4b43c99409a280edfdd0a3%29%3B%0A%20%20%20%20%20%20%20%20%0A%0A%20%20%20%20%20%20%20%20circle_marker_6f05bb9f77b3489c97166b0e8045db43.bindPopup%28popup_7c1d776e136a413fac4fcda35c8bbc99%29%0A%20%20%20%20%20%20%20%20%3B%0A%0A%20%20%20%20%20%20%20%20%0A%20%20%20%20%0A%20%20%20%20%0A%20%20%20%20%20%20%20%20%20%20%20%20var%20circle_marker_c82086cfb4ef41f5af091f2419193bf1%20%3D%20L.circleMarker%28%0A%20%20%20%20%20%20%20%20%20%20%20%20%20%20%20%20%5B40.71504512558996%2C%20-74.0115087102821%5D%2C%0A%20%20%20%20%20%20%20%20%20%20%20%20%20%20%20%20%7B%22bubblingMouseEvents%22%3A%20true%2C%20%22color%22%3A%20%22blue%22%2C%20%22dashArray%22%3A%20null%2C%20%22dashOffset%22%3A%20null%2C%20%22fill%22%3A%20true%2C%20%22fillColor%22%3A%20%22blue%22%2C%20%22fillOpacity%22%3A%200.6%2C%20%22fillRule%22%3A%20%22evenodd%22%2C%20%22lineCap%22%3A%20%22round%22%2C%20%22lineJoin%22%3A%20%22round%22%2C%20%22opacity%22%3A%201.0%2C%20%22radius%22%3A%205%2C%20%22stroke%22%3A%20true%2C%20%22weight%22%3A%203%7D%0A%20%20%20%20%20%20%20%20%20%20%20%20%29.addTo%28map_e55cbe40749947bdb0d49d2c64c6db67%29%3B%0A%20%20%20%20%20%20%20%20%0A%20%20%20%20%0A%20%20%20%20%20%20%20%20var%20popup_14551ccb0869441aa622d4ddd22ee658%20%3D%20L.popup%28%7B%22maxWidth%22%3A%20%22100%25%22%7D%29%3B%0A%0A%20%20%20%20%20%20%20%20%0A%20%20%20%20%20%20%20%20%20%20%20%20var%20html_f49afb659e1e4a9a8777fc7a4d26a62a%20%3D%20%24%28%60%3Cdiv%20id%3D%22html_f49afb659e1e4a9a8777fc7a4d26a62a%22%20style%3D%22width%3A%20100.0%25%3B%20height%3A%20100.0%25%3B%22%3ECoffee%20Shop%3C/div%3E%60%29%5B0%5D%3B%0A%20%20%20%20%20%20%20%20%20%20%20%20popup_14551ccb0869441aa622d4ddd22ee658.setContent%28html_f49afb659e1e4a9a8777fc7a4d26a62a%29%3B%0A%20%20%20%20%20%20%20%20%0A%0A%20%20%20%20%20%20%20%20circle_marker_c82086cfb4ef41f5af091f2419193bf1.bindPopup%28popup_14551ccb0869441aa622d4ddd22ee658%29%0A%20%20%20%20%20%20%20%20%3B%0A%0A%20%20%20%20%20%20%20%20%0A%20%20%20%20%0A%20%20%20%20%0A%20%20%20%20%20%20%20%20%20%20%20%20var%20circle_marker_d2b7e707e00544b2a345f33de5787516%20%3D%20L.circleMarker%28%0A%20%20%20%20%20%20%20%20%20%20%20%20%20%20%20%20%5B40.71704598853704%2C%20-74.01109457015991%5D%2C%0A%20%20%20%20%20%20%20%20%20%20%20%20%20%20%20%20%7B%22bubblingMouseEvents%22%3A%20true%2C%20%22color%22%3A%20%22blue%22%2C%20%22dashArray%22%3A%20null%2C%20%22dashOffset%22%3A%20null%2C%20%22fill%22%3A%20true%2C%20%22fillColor%22%3A%20%22blue%22%2C%20%22fillOpacity%22%3A%200.6%2C%20%22fillRule%22%3A%20%22evenodd%22%2C%20%22lineCap%22%3A%20%22round%22%2C%20%22lineJoin%22%3A%20%22round%22%2C%20%22opacity%22%3A%201.0%2C%20%22radius%22%3A%205%2C%20%22stroke%22%3A%20true%2C%20%22weight%22%3A%203%7D%0A%20%20%20%20%20%20%20%20%20%20%20%20%29.addTo%28map_e55cbe40749947bdb0d49d2c64c6db67%29%3B%0A%20%20%20%20%20%20%20%20%0A%20%20%20%20%0A%20%20%20%20%20%20%20%20var%20popup_491888094d4f4bfd99b78d99c81cc421%20%3D%20L.popup%28%7B%22maxWidth%22%3A%20%22100%25%22%7D%29%3B%0A%0A%20%20%20%20%20%20%20%20%0A%20%20%20%20%20%20%20%20%20%20%20%20var%20html_30bc0d5952c447aa8fedb4a880f528df%20%3D%20%24%28%60%3Cdiv%20id%3D%22html_30bc0d5952c447aa8fedb4a880f528df%22%20style%3D%22width%3A%20100.0%25%3B%20height%3A%20100.0%25%3B%22%3EPlayground%3C/div%3E%60%29%5B0%5D%3B%0A%20%20%20%20%20%20%20%20%20%20%20%20popup_491888094d4f4bfd99b78d99c81cc421.setContent%28html_30bc0d5952c447aa8fedb4a880f528df%29%3B%0A%20%20%20%20%20%20%20%20%0A%0A%20%20%20%20%20%20%20%20circle_marker_d2b7e707e00544b2a345f33de5787516.bindPopup%28popup_491888094d4f4bfd99b78d99c81cc421%29%0A%20%20%20%20%20%20%20%20%3B%0A%0A%20%20%20%20%20%20%20%20%0A%20%20%20%20%0A%20%20%20%20%0A%20%20%20%20%20%20%20%20%20%20%20%20var%20circle_marker_0cbdcf916c004a2f9c8f65cd8be44225%20%3D%20L.circleMarker%28%0A%20%20%20%20%20%20%20%20%20%20%20%20%20%20%20%20%5B40.7173944529165%2C%20-74.01010324607125%5D%2C%0A%20%20%20%20%20%20%20%20%20%20%20%20%20%20%20%20%7B%22bubblingMouseEvents%22%3A%20true%2C%20%22color%22%3A%20%22blue%22%2C%20%22dashArray%22%3A%20null%2C%20%22dashOffset%22%3A%20null%2C%20%22fill%22%3A%20true%2C%20%22fillColor%22%3A%20%22blue%22%2C%20%22fillOpacity%22%3A%200.6%2C%20%22fillRule%22%3A%20%22evenodd%22%2C%20%22lineCap%22%3A%20%22round%22%2C%20%22lineJoin%22%3A%20%22round%22%2C%20%22opacity%22%3A%201.0%2C%20%22radius%22%3A%205%2C%20%22stroke%22%3A%20true%2C%20%22weight%22%3A%203%7D%0A%20%20%20%20%20%20%20%20%20%20%20%20%29.addTo%28map_e55cbe40749947bdb0d49d2c64c6db67%29%3B%0A%20%20%20%20%20%20%20%20%0A%20%20%20%20%0A%20%20%20%20%20%20%20%20var%20popup_e455f2cb799e4c8e8031a7f5b5706775%20%3D%20L.popup%28%7B%22maxWidth%22%3A%20%22100%25%22%7D%29%3B%0A%0A%20%20%20%20%20%20%20%20%0A%20%20%20%20%20%20%20%20%20%20%20%20var%20html_e71f55043a78436d869e2ae2bd77234f%20%3D%20%24%28%60%3Cdiv%20id%3D%22html_e71f55043a78436d869e2ae2bd77234f%22%20style%3D%22width%3A%20100.0%25%3B%20height%3A%20100.0%25%3B%22%3ECoffee%20Shop%3C/div%3E%60%29%5B0%5D%3B%0A%20%20%20%20%20%20%20%20%20%20%20%20popup_e455f2cb799e4c8e8031a7f5b5706775.setContent%28html_e71f55043a78436d869e2ae2bd77234f%29%3B%0A%20%20%20%20%20%20%20%20%0A%0A%20%20%20%20%20%20%20%20circle_marker_0cbdcf916c004a2f9c8f65cd8be44225.bindPopup%28popup_e455f2cb799e4c8e8031a7f5b5706775%29%0A%20%20%20%20%20%20%20%20%3B%0A%0A%20%20%20%20%20%20%20%20%0A%20%20%20%20%0A%20%20%20%20%0A%20%20%20%20%20%20%20%20%20%20%20%20var%20circle_marker_ff5481858d6948b4a4da91ce8fbbfec3%20%3D%20L.circleMarker%28%0A%20%20%20%20%20%20%20%20%20%20%20%20%20%20%20%20%5B40.716802033574126%2C%20-74.01087999343872%5D%2C%0A%20%20%20%20%20%20%20%20%20%20%20%20%20%20%20%20%7B%22bubblingMouseEvents%22%3A%20true%2C%20%22color%22%3A%20%22blue%22%2C%20%22dashArray%22%3A%20null%2C%20%22dashOffset%22%3A%20null%2C%20%22fill%22%3A%20true%2C%20%22fillColor%22%3A%20%22blue%22%2C%20%22fillOpacity%22%3A%200.6%2C%20%22fillRule%22%3A%20%22evenodd%22%2C%20%22lineCap%22%3A%20%22round%22%2C%20%22lineJoin%22%3A%20%22round%22%2C%20%22opacity%22%3A%201.0%2C%20%22radius%22%3A%205%2C%20%22stroke%22%3A%20true%2C%20%22weight%22%3A%203%7D%0A%20%20%20%20%20%20%20%20%20%20%20%20%29.addTo%28map_e55cbe40749947bdb0d49d2c64c6db67%29%3B%0A%20%20%20%20%20%20%20%20%0A%20%20%20%20%0A%20%20%20%20%20%20%20%20var%20popup_f52c2b7f3c564fd9a1793ead0fd02a9a%20%3D%20L.popup%28%7B%22maxWidth%22%3A%20%22100%25%22%7D%29%3B%0A%0A%20%20%20%20%20%20%20%20%0A%20%20%20%20%20%20%20%20%20%20%20%20var%20html_c36e618c2f24434b992988f15573d7fc%20%3D%20%24%28%60%3Cdiv%20id%3D%22html_c36e618c2f24434b992988f15573d7fc%22%20style%3D%22width%3A%20100.0%25%3B%20height%3A%20100.0%25%3B%22%3EFarmers%20Market%3C/div%3E%60%29%5B0%5D%3B%0A%20%20%20%20%20%20%20%20%20%20%20%20popup_f52c2b7f3c564fd9a1793ead0fd02a9a.setContent%28html_c36e618c2f24434b992988f15573d7fc%29%3B%0A%20%20%20%20%20%20%20%20%0A%0A%20%20%20%20%20%20%20%20circle_marker_ff5481858d6948b4a4da91ce8fbbfec3.bindPopup%28popup_f52c2b7f3c564fd9a1793ead0fd02a9a%29%0A%20%20%20%20%20%20%20%20%3B%0A%0A%20%20%20%20%20%20%20%20%0A%20%20%20%20%0A%20%20%20%20%0A%20%20%20%20%20%20%20%20%20%20%20%20var%20circle_marker_1e24f06373424a12abf4d6251cfd3357%20%3D%20L.circleMarker%28%0A%20%20%20%20%20%20%20%20%20%20%20%20%20%20%20%20%5B40.716844%2C%20-74.006648%5D%2C%0A%20%20%20%20%20%20%20%20%20%20%20%20%20%20%20%20%7B%22bubblingMouseEvents%22%3A%20true%2C%20%22color%22%3A%20%22blue%22%2C%20%22dashArray%22%3A%20null%2C%20%22dashOffset%22%3A%20null%2C%20%22fill%22%3A%20true%2C%20%22fillColor%22%3A%20%22blue%22%2C%20%22fillOpacity%22%3A%200.6%2C%20%22fillRule%22%3A%20%22evenodd%22%2C%20%22lineCap%22%3A%20%22round%22%2C%20%22lineJoin%22%3A%20%22round%22%2C%20%22opacity%22%3A%201.0%2C%20%22radius%22%3A%205%2C%20%22stroke%22%3A%20true%2C%20%22weight%22%3A%203%7D%0A%20%20%20%20%20%20%20%20%20%20%20%20%29.addTo%28map_e55cbe40749947bdb0d49d2c64c6db67%29%3B%0A%20%20%20%20%20%20%20%20%0A%20%20%20%20%0A%20%20%20%20%20%20%20%20var%20popup_d52e63584ea74e5994dce88e78912c07%20%3D%20L.popup%28%7B%22maxWidth%22%3A%20%22100%25%22%7D%29%3B%0A%0A%20%20%20%20%20%20%20%20%0A%20%20%20%20%20%20%20%20%20%20%20%20var%20html_30c3813812b74b1681672fbd4cff9a88%20%3D%20%24%28%60%3Cdiv%20id%3D%22html_30c3813812b74b1681672fbd4cff9a88%22%20style%3D%22width%3A%20100.0%25%3B%20height%3A%20100.0%25%3B%22%3EBakery%3C/div%3E%60%29%5B0%5D%3B%0A%20%20%20%20%20%20%20%20%20%20%20%20popup_d52e63584ea74e5994dce88e78912c07.setContent%28html_30c3813812b74b1681672fbd4cff9a88%29%3B%0A%20%20%20%20%20%20%20%20%0A%0A%20%20%20%20%20%20%20%20circle_marker_1e24f06373424a12abf4d6251cfd3357.bindPopup%28popup_d52e63584ea74e5994dce88e78912c07%29%0A%20%20%20%20%20%20%20%20%3B%0A%0A%20%20%20%20%20%20%20%20%0A%20%20%20%20%0A%20%20%20%20%0A%20%20%20%20%20%20%20%20%20%20%20%20var%20circle_marker_23aaf722e7ec4804874e074f1d8da2eb%20%3D%20L.circleMarker%28%0A%20%20%20%20%20%20%20%20%20%20%20%20%20%20%20%20%5B40.71722617263501%2C%20-74.00943297013102%5D%2C%0A%20%20%20%20%20%20%20%20%20%20%20%20%20%20%20%20%7B%22bubblingMouseEvents%22%3A%20true%2C%20%22color%22%3A%20%22blue%22%2C%20%22dashArray%22%3A%20null%2C%20%22dashOffset%22%3A%20null%2C%20%22fill%22%3A%20true%2C%20%22fillColor%22%3A%20%22blue%22%2C%20%22fillOpacity%22%3A%200.6%2C%20%22fillRule%22%3A%20%22evenodd%22%2C%20%22lineCap%22%3A%20%22round%22%2C%20%22lineJoin%22%3A%20%22round%22%2C%20%22opacity%22%3A%201.0%2C%20%22radius%22%3A%205%2C%20%22stroke%22%3A%20true%2C%20%22weight%22%3A%203%7D%0A%20%20%20%20%20%20%20%20%20%20%20%20%29.addTo%28map_e55cbe40749947bdb0d49d2c64c6db67%29%3B%0A%20%20%20%20%20%20%20%20%0A%20%20%20%20%0A%20%20%20%20%20%20%20%20var%20popup_a6944406df6c47e990374079ba48e05f%20%3D%20L.popup%28%7B%22maxWidth%22%3A%20%22100%25%22%7D%29%3B%0A%0A%20%20%20%20%20%20%20%20%0A%20%20%20%20%20%20%20%20%20%20%20%20var%20html_1848fd4db0a84748836b18582c30c78f%20%3D%20%24%28%60%3Cdiv%20id%3D%22html_1848fd4db0a84748836b18582c30c78f%22%20style%3D%22width%3A%20100.0%25%3B%20height%3A%20100.0%25%3B%22%3EItalian%20Restaurant%3C/div%3E%60%29%5B0%5D%3B%0A%20%20%20%20%20%20%20%20%20%20%20%20popup_a6944406df6c47e990374079ba48e05f.setContent%28html_1848fd4db0a84748836b18582c30c78f%29%3B%0A%20%20%20%20%20%20%20%20%0A%0A%20%20%20%20%20%20%20%20circle_marker_23aaf722e7ec4804874e074f1d8da2eb.bindPopup%28popup_a6944406df6c47e990374079ba48e05f%29%0A%20%20%20%20%20%20%20%20%3B%0A%0A%20%20%20%20%20%20%20%20%0A%20%20%20%20%0A%20%20%20%20%0A%20%20%20%20%20%20%20%20%20%20%20%20var%20circle_marker_a089afe87e7c4529be6b49832547d724%20%3D%20L.circleMarker%28%0A%20%20%20%20%20%20%20%20%20%20%20%20%20%20%20%20%5B40.71629310954094%2C%20-74.00766792975841%5D%2C%0A%20%20%20%20%20%20%20%20%20%20%20%20%20%20%20%20%7B%22bubblingMouseEvents%22%3A%20true%2C%20%22color%22%3A%20%22blue%22%2C%20%22dashArray%22%3A%20null%2C%20%22dashOffset%22%3A%20null%2C%20%22fill%22%3A%20true%2C%20%22fillColor%22%3A%20%22blue%22%2C%20%22fillOpacity%22%3A%200.6%2C%20%22fillRule%22%3A%20%22evenodd%22%2C%20%22lineCap%22%3A%20%22round%22%2C%20%22lineJoin%22%3A%20%22round%22%2C%20%22opacity%22%3A%201.0%2C%20%22radius%22%3A%205%2C%20%22stroke%22%3A%20true%2C%20%22weight%22%3A%203%7D%0A%20%20%20%20%20%20%20%20%20%20%20%20%29.addTo%28map_e55cbe40749947bdb0d49d2c64c6db67%29%3B%0A%20%20%20%20%20%20%20%20%0A%20%20%20%20%0A%20%20%20%20%20%20%20%20var%20popup_b8495b34c54d491ca93e9984cad5866b%20%3D%20L.popup%28%7B%22maxWidth%22%3A%20%22100%25%22%7D%29%3B%0A%0A%20%20%20%20%20%20%20%20%0A%20%20%20%20%20%20%20%20%20%20%20%20var%20html_2c781a779e8d4138b6a39bd165ca473d%20%3D%20%24%28%60%3Cdiv%20id%3D%22html_2c781a779e8d4138b6a39bd165ca473d%22%20style%3D%22width%3A%20100.0%25%3B%20height%3A%20100.0%25%3B%22%3EPilates%20Studio%3C/div%3E%60%29%5B0%5D%3B%0A%20%20%20%20%20%20%20%20%20%20%20%20popup_b8495b34c54d491ca93e9984cad5866b.setContent%28html_2c781a779e8d4138b6a39bd165ca473d%29%3B%0A%20%20%20%20%20%20%20%20%0A%0A%20%20%20%20%20%20%20%20circle_marker_a089afe87e7c4529be6b49832547d724.bindPopup%28popup_b8495b34c54d491ca93e9984cad5866b%29%0A%20%20%20%20%20%20%20%20%3B%0A%0A%20%20%20%20%20%20%20%20%0A%20%20%20%20%0A%20%20%20%20%0A%20%20%20%20%20%20%20%20%20%20%20%20var%20circle_marker_55f1709ba3d547b38c72ae22aa81cff0%20%3D%20L.circleMarker%28%0A%20%20%20%20%20%20%20%20%20%20%20%20%20%20%20%20%5B40.71558%2C%20-74.00985%5D%2C%0A%20%20%20%20%20%20%20%20%20%20%20%20%20%20%20%20%7B%22bubblingMouseEvents%22%3A%20true%2C%20%22color%22%3A%20%22blue%22%2C%20%22dashArray%22%3A%20null%2C%20%22dashOffset%22%3A%20null%2C%20%22fill%22%3A%20true%2C%20%22fillColor%22%3A%20%22blue%22%2C%20%22fillOpacity%22%3A%200.6%2C%20%22fillRule%22%3A%20%22evenodd%22%2C%20%22lineCap%22%3A%20%22round%22%2C%20%22lineJoin%22%3A%20%22round%22%2C%20%22opacity%22%3A%201.0%2C%20%22radius%22%3A%205%2C%20%22stroke%22%3A%20true%2C%20%22weight%22%3A%203%7D%0A%20%20%20%20%20%20%20%20%20%20%20%20%29.addTo%28map_e55cbe40749947bdb0d49d2c64c6db67%29%3B%0A%20%20%20%20%20%20%20%20%0A%20%20%20%20%0A%20%20%20%20%20%20%20%20var%20popup_199d7639004b4df48c479b04b498d15a%20%3D%20L.popup%28%7B%22maxWidth%22%3A%20%22100%25%22%7D%29%3B%0A%0A%20%20%20%20%20%20%20%20%0A%20%20%20%20%20%20%20%20%20%20%20%20var%20html_a9b25ece08d14d13b6bb8aceb886fa21%20%3D%20%24%28%60%3Cdiv%20id%3D%22html_a9b25ece08d14d13b6bb8aceb886fa21%22%20style%3D%22width%3A%20100.0%25%3B%20height%3A%20100.0%25%3B%22%3EBagel%20Shop%3C/div%3E%60%29%5B0%5D%3B%0A%20%20%20%20%20%20%20%20%20%20%20%20popup_199d7639004b4df48c479b04b498d15a.setContent%28html_a9b25ece08d14d13b6bb8aceb886fa21%29%3B%0A%20%20%20%20%20%20%20%20%0A%0A%20%20%20%20%20%20%20%20circle_marker_55f1709ba3d547b38c72ae22aa81cff0.bindPopup%28popup_199d7639004b4df48c479b04b498d15a%29%0A%20%20%20%20%20%20%20%20%3B%0A%0A%20%20%20%20%20%20%20%20%0A%20%20%20%20%0A%3C/script%3E onload=\"this.contentDocument.open();this.contentDocument.write(    decodeURIComponent(this.getAttribute('data-html')));this.contentDocument.close();\" allowfullscreen webkitallowfullscreen mozallowfullscreen></iframe></div></div>",
                        "text/plain": "<folium.folium.Map at 0x7fbca79db880>"
                    },
                    "execution_count": 35,
                    "metadata": {},
                    "output_type": "execute_result"
                }
            ],
            "source": "# generate map centred around Ecco\nvenues_map = folium.Map(location=[latitude, longitude], zoom_start=15)\n\n# add Ecco as a red circle mark\nfolium.CircleMarker(\n    [latitude, longitude],\n    radius=10,\n    popup='Ecco',\n    fill=True,\n    color='red',\n    fill_color='red',\n    fill_opacity=0.6\n    ).add_to(venues_map)\n\n\n# add popular spots to the map as blue circle markers\nfor lat, lng, label in zip(dataframe_filtered.lat, dataframe_filtered.lng, dataframe_filtered.categories):\n    folium.CircleMarker(\n        [lat, lng],\n        radius=5,\n        popup=label,\n        fill=True,\n        color='blue',\n        fill_color='blue',\n        fill_opacity=0.6\n        ).add_to(venues_map)\n\n# display map\nvenues_map"
        },
        {
            "cell_type": "markdown",
            "metadata": {
                "button": false,
                "new_sheet": false,
                "run_control": {
                    "read_only": false
                }
            },
            "source": "\n"
        },
        {
            "cell_type": "markdown",
            "metadata": {
                "button": false,
                "new_sheet": false,
                "run_control": {
                    "read_only": false
                }
            },
            "source": "<a id=\"item5\"></a>\n"
        },
        {
            "cell_type": "markdown",
            "metadata": {
                "button": false,
                "new_sheet": false,
                "run_control": {
                    "read_only": false
                }
            },
            "source": "## 5. Explore Trending Venues\n\n> `https://api.foursquare.com/v2/venues/`**trending**`?client_id=`**CLIENT_ID**`&client_secret=`**CLIENT_SECRET**`&ll=`**LATITUDE**`,`**LONGITUDE**`&v=`**VERSION**\n"
        },
        {
            "cell_type": "markdown",
            "metadata": {
                "button": false,
                "new_sheet": false,
                "run_control": {
                    "read_only": false
                }
            },
            "source": "#### Now, instead of simply exploring the area around Ecco, you are interested in knowing the venues that are trending at the time you are done with your lunch, meaning the places with the highest foot traffic. So let's do that and get the trending venues around Ecco.\n"
        },
        {
            "cell_type": "code",
            "execution_count": 36,
            "metadata": {
                "button": false,
                "jupyter": {
                    "outputs_hidden": false
                },
                "new_sheet": false,
                "run_control": {
                    "read_only": false
                }
            },
            "outputs": [
                {
                    "data": {
                        "text/plain": "{'meta': {'code': 200, 'requestId': '614a113a920932605159af15'},\n 'response': {'venues': []}}"
                    },
                    "execution_count": 36,
                    "metadata": {},
                    "output_type": "execute_result"
                }
            ],
            "source": "# define URL\nurl = 'https://api.foursquare.com/v2/venues/trending?client_id={}&client_secret={}&ll={},{}&v={}'.format(CLIENT_ID, CLIENT_SECRET, latitude, longitude, VERSION)\n\n# send GET request and get trending venues\nresults = requests.get(url).json()\n\nresults"
        },
        {
            "cell_type": "markdown",
            "metadata": {
                "button": false,
                "new_sheet": false,
                "run_control": {
                    "read_only": false
                }
            },
            "source": "### Check if any venues are trending at this time\n"
        },
        {
            "cell_type": "code",
            "execution_count": 37,
            "metadata": {
                "button": false,
                "jupyter": {
                    "outputs_hidden": true
                },
                "new_sheet": false,
                "run_control": {
                    "read_only": false
                }
            },
            "outputs": [],
            "source": "if len(results['response']['venues']) == 0:\n    trending_venues_df = 'No trending venues are available at the moment!'\n    \nelse:\n    trending_venues = results['response']['venues']\n    trending_venues_df = json_normalize(trending_venues)\n\n    # filter columns\n    columns_filtered = ['name', 'categories'] + ['location.distance', 'location.city', 'location.postalCode', 'location.state', 'location.country', 'location.lat', 'location.lng']\n    trending_venues_df = trending_venues_df.loc[:, columns_filtered]\n\n    # filter the category for each row\n    trending_venues_df['categories'] = trending_venues_df.apply(get_category_type, axis=1)"
        },
        {
            "cell_type": "code",
            "execution_count": 38,
            "metadata": {
                "button": false,
                "jupyter": {
                    "outputs_hidden": false
                },
                "new_sheet": false,
                "run_control": {
                    "read_only": false
                }
            },
            "outputs": [
                {
                    "data": {
                        "text/plain": "'No trending venues are available at the moment!'"
                    },
                    "execution_count": 38,
                    "metadata": {},
                    "output_type": "execute_result"
                }
            ],
            "source": "# display trending venues\ntrending_venues_df"
        },
        {
            "cell_type": "markdown",
            "metadata": {
                "button": false,
                "new_sheet": false,
                "run_control": {
                    "read_only": false
                }
            },
            "source": "Now, depending on when you run the above code, you might get different venues since the venues with the highest foot traffic are fetched live. \n"
        },
        {
            "cell_type": "markdown",
            "metadata": {
                "button": false,
                "new_sheet": false,
                "run_control": {
                    "read_only": false
                }
            },
            "source": "### Visualize trending venues\n"
        },
        {
            "cell_type": "code",
            "execution_count": 39,
            "metadata": {
                "button": false,
                "jupyter": {
                    "outputs_hidden": false
                },
                "new_sheet": false,
                "run_control": {
                    "read_only": false
                }
            },
            "outputs": [],
            "source": "if len(results['response']['venues']) == 0:\n    venues_map = 'Cannot generate visual as no trending venues are available at the moment!'\n\nelse:\n    venues_map = folium.Map(location=[latitude, longitude], zoom_start=15) # generate map centred around Ecco\n\n\n    # add Ecco as a red circle mark\n    folium.CircleMarker(\n        [latitude, longitude],\n        radius=10,\n        popup='Ecco',\n        fill=True,\n        color='red',\n        fill_color='red',\n        fill_opacity=0.6\n    ).add_to(venues_map)\n\n\n    # add the trending venues as blue circle markers\n    for lat, lng, label in zip(trending_venues_df['location.lat'], trending_venues_df['location.lng'], trending_venues_df['name']):\n        folium.CircleMarker(\n            [lat, lng],\n            radius=5,\n            poup=label,\n            fill=True,\n            color='blue',\n            fill_color='blue',\n            fill_opacity=0.6\n        ).add_to(venues_map)"
        },
        {
            "cell_type": "code",
            "execution_count": 40,
            "metadata": {
                "button": false,
                "jupyter": {
                    "outputs_hidden": false
                },
                "new_sheet": false,
                "run_control": {
                    "read_only": false
                },
                "scrolled": true
            },
            "outputs": [
                {
                    "data": {
                        "text/plain": "'Cannot generate visual as no trending venues are available at the moment!'"
                    },
                    "execution_count": 40,
                    "metadata": {},
                    "output_type": "execute_result"
                }
            ],
            "source": "# display map\nvenues_map"
        },
        {
            "cell_type": "markdown",
            "metadata": {
                "button": false,
                "new_sheet": false,
                "run_control": {
                    "read_only": false
                }
            },
            "source": "<a id=\"item6\"></a>\n"
        },
        {
            "cell_type": "markdown",
            "metadata": {
                "button": false,
                "new_sheet": false,
                "run_control": {
                    "read_only": false
                }
            },
            "source": "\n"
        },
        {
            "cell_type": "markdown",
            "metadata": {
                "button": false,
                "new_sheet": false,
                "run_control": {
                    "read_only": false
                }
            },
            "source": "### Thank you for completing this lab!\n\nThis notebook was created by [Alex Aklson](https://www.linkedin.com/in/aklson?cm_mmc=Email_Newsletter-_-Developer_Ed%2BTech-_-WW_WW-_-SkillsNetwork-Courses-IBMDeveloperSkillsNetwork-DS0701EN-SkillsNetwork-21253531&cm_mmca1=000026UJ&cm_mmca2=10006555&cm_mmca3=M12345678&cvosrc=email.Newsletter.M12345678&cvo_campaign=000026UJ&cm_mmc=Email_Newsletter-_-Developer_Ed%2BTech-_-WW_WW-_-SkillsNetwork-Courses-IBMDeveloperSkillsNetwork-DS0701EN-SkillsNetwork-21253531&cm_mmca1=000026UJ&cm_mmca2=10006555&cm_mmca3=M12345678&cvosrc=email.Newsletter.M12345678&cvo_campaign=000026UJ). I hope you found this lab interesting and educational. Feel free to contact me if you have any questions!\n\nThis notebook modified by Nayef Abou Tayoun ([https://www.linkedin.com/in/nayefaboutayoun/](https://www.linkedin.com/in/nayefaboutayoun?cm_mmc=Email_Newsletter-_-Developer_Ed%2BTech-_-WW_WW-_-SkillsNetwork-Courses-IBMDeveloperSkillsNetwork-DS0701EN-SkillsNetwork-21253531&cm_mmca1=000026UJ&cm_mmca2=10006555&cm_mmca3=M12345678&cvosrc=email.Newsletter.M12345678&cvo_campaign=000026UJ))\n"
        },
        {
            "cell_type": "markdown",
            "metadata": {
                "button": false,
                "new_sheet": false,
                "run_control": {
                    "read_only": false
                }
            },
            "source": "This notebook is part of a course on **Coursera** called _Applied Data Science Capstone_. If you accessed this notebook outside the course, you can take this course online by clicking [here](http://cocl.us/DP0701EN_Coursera_Week2_LAB1).\n"
        },
        {
            "cell_type": "markdown",
            "metadata": {
                "button": false,
                "new_sheet": false,
                "run_control": {
                    "read_only": false
                }
            },
            "source": "## Change Log\n\n| Date (YYYY-MM-DD) | Version | Changed By    | Change Description                           |\n| ----------------- | ------- | ------------- | -------------------------------------------- |\n| 2021-03-17        | 2.1     | Lakshmi Holla | Changed the code for retreiving user profile |\n| 2020-11-26        | 2.0     | Lakshmi Holla | Updated the markdown cells                   |\n|                   |         |               |                                              |\n|                   |         |               |                                              |\n\n## <h3 align=\"center\"> \u00a9 IBM Corporation 2020. All rights reserved. <h3/>\n"
        }
    ],
    "metadata": {
        "kernelspec": {
            "display_name": "Python 3 (ipykernel)",
            "language": "python",
            "name": "python3"
        },
        "language_info": {
            "codemirror_mode": {
                "name": "ipython",
                "version": 3
            },
            "file_extension": ".py",
            "mimetype": "text/x-python",
            "name": "python",
            "nbconvert_exporter": "python",
            "pygments_lexer": "ipython3",
            "version": "3.9.7"
        },
        "widgets": {
            "state": {},
            "version": "1.1.2"
        }
    },
    "nbformat": 4,
    "nbformat_minor": 4
}